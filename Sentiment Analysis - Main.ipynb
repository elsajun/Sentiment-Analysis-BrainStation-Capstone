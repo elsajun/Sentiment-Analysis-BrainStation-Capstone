{
 "cells": [
  {
   "cell_type": "markdown",
   "metadata": {},
   "source": [
    "#### Business Problem\n",
    "- Which product categories has lower reviews?\n",
    "- Which product categories has higher reviews?\n",
    " \n",
    "\n",
    "#### Business solutions:\n",
    "- By using Sentiment analysis, can we predict scores for reviews based on certain words"
   ]
  },
  {
   "cell_type": "code",
   "execution_count": 1,
   "metadata": {},
   "outputs": [],
   "source": [
    "import numpy as np\n",
    "import pandas as pd\n",
    "import matplotlib.pyplot as plt\n",
    "%matplotlib inline\n",
    "import seaborn as sns"
   ]
  },
  {
   "cell_type": "code",
   "execution_count": 2,
   "metadata": {},
   "outputs": [
    {
     "data": {
      "text/html": [
       "<div>\n",
       "<style scoped>\n",
       "    .dataframe tbody tr th:only-of-type {\n",
       "        vertical-align: middle;\n",
       "    }\n",
       "\n",
       "    .dataframe tbody tr th {\n",
       "        vertical-align: top;\n",
       "    }\n",
       "\n",
       "    .dataframe thead th {\n",
       "        text-align: right;\n",
       "    }\n",
       "</style>\n",
       "<table border=\"1\" class=\"dataframe\">\n",
       "  <thead>\n",
       "    <tr style=\"text-align: right;\">\n",
       "      <th></th>\n",
       "      <th>0</th>\n",
       "    </tr>\n",
       "  </thead>\n",
       "  <tbody>\n",
       "    <tr>\n",
       "      <th>id</th>\n",
       "      <td>AVqkIhwDv8e3D1O-lebb</td>\n",
       "    </tr>\n",
       "    <tr>\n",
       "      <th>name</th>\n",
       "      <td>All-New Fire HD 8 Tablet, 8 HD Display, Wi-Fi,...</td>\n",
       "    </tr>\n",
       "    <tr>\n",
       "      <th>asins</th>\n",
       "      <td>B01AHB9CN2</td>\n",
       "    </tr>\n",
       "    <tr>\n",
       "      <th>brand</th>\n",
       "      <td>Amazon</td>\n",
       "    </tr>\n",
       "    <tr>\n",
       "      <th>categories</th>\n",
       "      <td>Electronics,iPad &amp; Tablets,All Tablets,Fire Ta...</td>\n",
       "    </tr>\n",
       "    <tr>\n",
       "      <th>keys</th>\n",
       "      <td>841667104676,amazon/53004484,amazon/b01ahb9cn2...</td>\n",
       "    </tr>\n",
       "    <tr>\n",
       "      <th>manufacturer</th>\n",
       "      <td>Amazon</td>\n",
       "    </tr>\n",
       "    <tr>\n",
       "      <th>reviews.date</th>\n",
       "      <td>2017-01-13T00:00:00.000Z</td>\n",
       "    </tr>\n",
       "    <tr>\n",
       "      <th>reviews.dateAdded</th>\n",
       "      <td>2017-07-03T23:33:15Z</td>\n",
       "    </tr>\n",
       "    <tr>\n",
       "      <th>reviews.dateSeen</th>\n",
       "      <td>2017-06-07T09:04:00.000Z,2017-04-30T00:45:00.000Z</td>\n",
       "    </tr>\n",
       "    <tr>\n",
       "      <th>reviews.didPurchase</th>\n",
       "      <td>NaN</td>\n",
       "    </tr>\n",
       "    <tr>\n",
       "      <th>reviews.doRecommend</th>\n",
       "      <td>True</td>\n",
       "    </tr>\n",
       "    <tr>\n",
       "      <th>reviews.id</th>\n",
       "      <td>NaN</td>\n",
       "    </tr>\n",
       "    <tr>\n",
       "      <th>reviews.numHelpful</th>\n",
       "      <td>0</td>\n",
       "    </tr>\n",
       "    <tr>\n",
       "      <th>reviews.rating</th>\n",
       "      <td>5</td>\n",
       "    </tr>\n",
       "    <tr>\n",
       "      <th>reviews.sourceURLs</th>\n",
       "      <td>http://reviews.bestbuy.com/3545/5620406/review...</td>\n",
       "    </tr>\n",
       "    <tr>\n",
       "      <th>reviews.text</th>\n",
       "      <td>This product so far has not disappointed. My c...</td>\n",
       "    </tr>\n",
       "    <tr>\n",
       "      <th>reviews.title</th>\n",
       "      <td>Kindle</td>\n",
       "    </tr>\n",
       "    <tr>\n",
       "      <th>reviews.userCity</th>\n",
       "      <td>NaN</td>\n",
       "    </tr>\n",
       "    <tr>\n",
       "      <th>reviews.userProvince</th>\n",
       "      <td>NaN</td>\n",
       "    </tr>\n",
       "    <tr>\n",
       "      <th>reviews.username</th>\n",
       "      <td>Adapter</td>\n",
       "    </tr>\n",
       "  </tbody>\n",
       "</table>\n",
       "</div>"
      ],
      "text/plain": [
       "                                                                      0\n",
       "id                                                 AVqkIhwDv8e3D1O-lebb\n",
       "name                  All-New Fire HD 8 Tablet, 8 HD Display, Wi-Fi,...\n",
       "asins                                                        B01AHB9CN2\n",
       "brand                                                            Amazon\n",
       "categories            Electronics,iPad & Tablets,All Tablets,Fire Ta...\n",
       "keys                  841667104676,amazon/53004484,amazon/b01ahb9cn2...\n",
       "manufacturer                                                     Amazon\n",
       "reviews.date                                   2017-01-13T00:00:00.000Z\n",
       "reviews.dateAdded                                  2017-07-03T23:33:15Z\n",
       "reviews.dateSeen      2017-06-07T09:04:00.000Z,2017-04-30T00:45:00.000Z\n",
       "reviews.didPurchase                                                 NaN\n",
       "reviews.doRecommend                                                True\n",
       "reviews.id                                                          NaN\n",
       "reviews.numHelpful                                                    0\n",
       "reviews.rating                                                        5\n",
       "reviews.sourceURLs    http://reviews.bestbuy.com/3545/5620406/review...\n",
       "reviews.text          This product so far has not disappointed. My c...\n",
       "reviews.title                                                    Kindle\n",
       "reviews.userCity                                                    NaN\n",
       "reviews.userProvince                                                NaN\n",
       "reviews.username                                                Adapter"
      ]
     },
     "execution_count": 2,
     "metadata": {},
     "output_type": "execute_result"
    }
   ],
   "source": [
    "import sys\n",
    "\n",
    "if not sys.warnoptions:\n",
    "    import warnings\n",
    "    warnings.simplefilter(\"ignore\")\n",
    "    \n",
    "df = pd.read_csv('data/Amazon Reviews.csv')\n",
    "df.head(1).transpose()"
   ]
  },
  {
   "cell_type": "code",
   "execution_count": 3,
   "metadata": {},
   "outputs": [
    {
     "data": {
      "text/plain": [
       "(34660, 21)"
      ]
     },
     "execution_count": 3,
     "metadata": {},
     "output_type": "execute_result"
    }
   ],
   "source": [
    "reviews_df = df\n",
    "reviews_df.shape"
   ]
  },
  {
   "cell_type": "markdown",
   "metadata": {},
   "source": [
    "Dataset size : 34,660 rows and 17 columns"
   ]
  },
  {
   "cell_type": "markdown",
   "metadata": {},
   "source": [
    "Assumptions:\n",
    "- Reviews rating < 4 is negative. Rating >=4 is positive\n",
    "- Sample size of 30K examples are sufficient to represent the entire population of sales/reviews\n",
    "- The text reviews of each product will be rich enough to train a sentiment analysis classifier "
   ]
  },
  {
   "cell_type": "code",
   "execution_count": 4,
   "metadata": {},
   "outputs": [
    {
     "data": {
      "text/html": [
       "<div>\n",
       "<style scoped>\n",
       "    .dataframe tbody tr th:only-of-type {\n",
       "        vertical-align: middle;\n",
       "    }\n",
       "\n",
       "    .dataframe tbody tr th {\n",
       "        vertical-align: top;\n",
       "    }\n",
       "\n",
       "    .dataframe thead th {\n",
       "        text-align: right;\n",
       "    }\n",
       "</style>\n",
       "<table border=\"1\" class=\"dataframe\">\n",
       "  <thead>\n",
       "    <tr style=\"text-align: right;\">\n",
       "      <th></th>\n",
       "      <th>reviews.id</th>\n",
       "      <th>reviews.numHelpful</th>\n",
       "      <th>reviews.rating</th>\n",
       "      <th>reviews.userCity</th>\n",
       "      <th>reviews.userProvince</th>\n",
       "    </tr>\n",
       "  </thead>\n",
       "  <tbody>\n",
       "    <tr>\n",
       "      <th>count</th>\n",
       "      <td>1.0</td>\n",
       "      <td>34131.000000</td>\n",
       "      <td>34627.000000</td>\n",
       "      <td>0.0</td>\n",
       "      <td>0.0</td>\n",
       "    </tr>\n",
       "    <tr>\n",
       "      <th>mean</th>\n",
       "      <td>111372787.0</td>\n",
       "      <td>0.630248</td>\n",
       "      <td>4.584573</td>\n",
       "      <td>NaN</td>\n",
       "      <td>NaN</td>\n",
       "    </tr>\n",
       "    <tr>\n",
       "      <th>std</th>\n",
       "      <td>NaN</td>\n",
       "      <td>13.215775</td>\n",
       "      <td>0.735653</td>\n",
       "      <td>NaN</td>\n",
       "      <td>NaN</td>\n",
       "    </tr>\n",
       "    <tr>\n",
       "      <th>min</th>\n",
       "      <td>111372787.0</td>\n",
       "      <td>0.000000</td>\n",
       "      <td>1.000000</td>\n",
       "      <td>NaN</td>\n",
       "      <td>NaN</td>\n",
       "    </tr>\n",
       "    <tr>\n",
       "      <th>25%</th>\n",
       "      <td>111372787.0</td>\n",
       "      <td>0.000000</td>\n",
       "      <td>4.000000</td>\n",
       "      <td>NaN</td>\n",
       "      <td>NaN</td>\n",
       "    </tr>\n",
       "    <tr>\n",
       "      <th>50%</th>\n",
       "      <td>111372787.0</td>\n",
       "      <td>0.000000</td>\n",
       "      <td>5.000000</td>\n",
       "      <td>NaN</td>\n",
       "      <td>NaN</td>\n",
       "    </tr>\n",
       "    <tr>\n",
       "      <th>75%</th>\n",
       "      <td>111372787.0</td>\n",
       "      <td>0.000000</td>\n",
       "      <td>5.000000</td>\n",
       "      <td>NaN</td>\n",
       "      <td>NaN</td>\n",
       "    </tr>\n",
       "    <tr>\n",
       "      <th>max</th>\n",
       "      <td>111372787.0</td>\n",
       "      <td>814.000000</td>\n",
       "      <td>5.000000</td>\n",
       "      <td>NaN</td>\n",
       "      <td>NaN</td>\n",
       "    </tr>\n",
       "  </tbody>\n",
       "</table>\n",
       "</div>"
      ],
      "text/plain": [
       "        reviews.id  reviews.numHelpful  reviews.rating  reviews.userCity  \\\n",
       "count          1.0        34131.000000    34627.000000               0.0   \n",
       "mean   111372787.0            0.630248        4.584573               NaN   \n",
       "std            NaN           13.215775        0.735653               NaN   \n",
       "min    111372787.0            0.000000        1.000000               NaN   \n",
       "25%    111372787.0            0.000000        4.000000               NaN   \n",
       "50%    111372787.0            0.000000        5.000000               NaN   \n",
       "75%    111372787.0            0.000000        5.000000               NaN   \n",
       "max    111372787.0          814.000000        5.000000               NaN   \n",
       "\n",
       "       reviews.userProvince  \n",
       "count                   0.0  \n",
       "mean                    NaN  \n",
       "std                     NaN  \n",
       "min                     NaN  \n",
       "25%                     NaN  \n",
       "50%                     NaN  \n",
       "75%                     NaN  \n",
       "max                     NaN  "
      ]
     },
     "execution_count": 4,
     "metadata": {},
     "output_type": "execute_result"
    }
   ],
   "source": [
    "reviews_df.describe()"
   ]
  },
  {
   "cell_type": "code",
   "execution_count": 5,
   "metadata": {
    "scrolled": false
   },
   "outputs": [
    {
     "name": "stdout",
     "output_type": "stream",
     "text": [
      "<class 'pandas.core.frame.DataFrame'>\n",
      "RangeIndex: 34660 entries, 0 to 34659\n",
      "Data columns (total 21 columns):\n",
      " #   Column                Non-Null Count  Dtype  \n",
      "---  ------                --------------  -----  \n",
      " 0   id                    34660 non-null  object \n",
      " 1   name                  27900 non-null  object \n",
      " 2   asins                 34658 non-null  object \n",
      " 3   brand                 34660 non-null  object \n",
      " 4   categories            34660 non-null  object \n",
      " 5   keys                  34660 non-null  object \n",
      " 6   manufacturer          34660 non-null  object \n",
      " 7   reviews.date          34621 non-null  object \n",
      " 8   reviews.dateAdded     24039 non-null  object \n",
      " 9   reviews.dateSeen      34660 non-null  object \n",
      " 10  reviews.didPurchase   1 non-null      object \n",
      " 11  reviews.doRecommend   34066 non-null  object \n",
      " 12  reviews.id            1 non-null      float64\n",
      " 13  reviews.numHelpful    34131 non-null  float64\n",
      " 14  reviews.rating        34627 non-null  float64\n",
      " 15  reviews.sourceURLs    34660 non-null  object \n",
      " 16  reviews.text          34659 non-null  object \n",
      " 17  reviews.title         34655 non-null  object \n",
      " 18  reviews.userCity      0 non-null      float64\n",
      " 19  reviews.userProvince  0 non-null      float64\n",
      " 20  reviews.username      34658 non-null  object \n",
      "dtypes: float64(5), object(16)\n",
      "memory usage: 5.6+ MB\n"
     ]
    }
   ],
   "source": [
    "reviews_df.info()"
   ]
  },
  {
   "cell_type": "markdown",
   "metadata": {},
   "source": [
    "- `reviews.rating` type is float (will convert into int)\n",
    "- `reviews.userCity`, `reviews.userProvince`, `reviews.id`, and `reviews.didPurchase`types are float (check more into this)"
   ]
  },
  {
   "cell_type": "code",
   "execution_count": 6,
   "metadata": {},
   "outputs": [
    {
     "data": {
      "text/html": [
       "<div>\n",
       "<style scoped>\n",
       "    .dataframe tbody tr th:only-of-type {\n",
       "        vertical-align: middle;\n",
       "    }\n",
       "\n",
       "    .dataframe tbody tr th {\n",
       "        vertical-align: top;\n",
       "    }\n",
       "\n",
       "    .dataframe thead th {\n",
       "        text-align: right;\n",
       "    }\n",
       "</style>\n",
       "<table border=\"1\" class=\"dataframe\">\n",
       "  <thead>\n",
       "    <tr style=\"text-align: right;\">\n",
       "      <th></th>\n",
       "      <th>reviews.userCity</th>\n",
       "      <th>reviews.userProvince</th>\n",
       "      <th>reviews.id</th>\n",
       "      <th>reviews.didPurchase</th>\n",
       "    </tr>\n",
       "  </thead>\n",
       "  <tbody>\n",
       "    <tr>\n",
       "      <th>0</th>\n",
       "      <td>NaN</td>\n",
       "      <td>NaN</td>\n",
       "      <td>NaN</td>\n",
       "      <td>NaN</td>\n",
       "    </tr>\n",
       "    <tr>\n",
       "      <th>1</th>\n",
       "      <td>NaN</td>\n",
       "      <td>NaN</td>\n",
       "      <td>NaN</td>\n",
       "      <td>NaN</td>\n",
       "    </tr>\n",
       "    <tr>\n",
       "      <th>2</th>\n",
       "      <td>NaN</td>\n",
       "      <td>NaN</td>\n",
       "      <td>NaN</td>\n",
       "      <td>NaN</td>\n",
       "    </tr>\n",
       "    <tr>\n",
       "      <th>3</th>\n",
       "      <td>NaN</td>\n",
       "      <td>NaN</td>\n",
       "      <td>NaN</td>\n",
       "      <td>NaN</td>\n",
       "    </tr>\n",
       "    <tr>\n",
       "      <th>4</th>\n",
       "      <td>NaN</td>\n",
       "      <td>NaN</td>\n",
       "      <td>NaN</td>\n",
       "      <td>NaN</td>\n",
       "    </tr>\n",
       "    <tr>\n",
       "      <th>...</th>\n",
       "      <td>...</td>\n",
       "      <td>...</td>\n",
       "      <td>...</td>\n",
       "      <td>...</td>\n",
       "    </tr>\n",
       "    <tr>\n",
       "      <th>34655</th>\n",
       "      <td>NaN</td>\n",
       "      <td>NaN</td>\n",
       "      <td>NaN</td>\n",
       "      <td>NaN</td>\n",
       "    </tr>\n",
       "    <tr>\n",
       "      <th>34656</th>\n",
       "      <td>NaN</td>\n",
       "      <td>NaN</td>\n",
       "      <td>NaN</td>\n",
       "      <td>NaN</td>\n",
       "    </tr>\n",
       "    <tr>\n",
       "      <th>34657</th>\n",
       "      <td>NaN</td>\n",
       "      <td>NaN</td>\n",
       "      <td>NaN</td>\n",
       "      <td>NaN</td>\n",
       "    </tr>\n",
       "    <tr>\n",
       "      <th>34658</th>\n",
       "      <td>NaN</td>\n",
       "      <td>NaN</td>\n",
       "      <td>NaN</td>\n",
       "      <td>NaN</td>\n",
       "    </tr>\n",
       "    <tr>\n",
       "      <th>34659</th>\n",
       "      <td>NaN</td>\n",
       "      <td>NaN</td>\n",
       "      <td>NaN</td>\n",
       "      <td>NaN</td>\n",
       "    </tr>\n",
       "  </tbody>\n",
       "</table>\n",
       "<p>34660 rows × 4 columns</p>\n",
       "</div>"
      ],
      "text/plain": [
       "       reviews.userCity  reviews.userProvince  reviews.id reviews.didPurchase\n",
       "0                   NaN                   NaN         NaN                 NaN\n",
       "1                   NaN                   NaN         NaN                 NaN\n",
       "2                   NaN                   NaN         NaN                 NaN\n",
       "3                   NaN                   NaN         NaN                 NaN\n",
       "4                   NaN                   NaN         NaN                 NaN\n",
       "...                 ...                   ...         ...                 ...\n",
       "34655               NaN                   NaN         NaN                 NaN\n",
       "34656               NaN                   NaN         NaN                 NaN\n",
       "34657               NaN                   NaN         NaN                 NaN\n",
       "34658               NaN                   NaN         NaN                 NaN\n",
       "34659               NaN                   NaN         NaN                 NaN\n",
       "\n",
       "[34660 rows x 4 columns]"
      ]
     },
     "execution_count": 6,
     "metadata": {},
     "output_type": "execute_result"
    }
   ],
   "source": [
    "reviews_df[['reviews.userCity', 'reviews.userProvince', 'reviews.id', 'reviews.didPurchase']]"
   ]
  },
  {
   "cell_type": "markdown",
   "metadata": {},
   "source": [
    "Drop these columns because almost 100% are `NaN` values"
   ]
  },
  {
   "cell_type": "code",
   "execution_count": 7,
   "metadata": {},
   "outputs": [],
   "source": [
    "reviews_df = reviews_df.drop(columns=['reviews.userCity', 'reviews.userProvince', \n",
    "                                      'reviews.id', 'reviews.didPurchase'],\n",
    "                            axis=1)"
   ]
  },
  {
   "cell_type": "code",
   "execution_count": 8,
   "metadata": {},
   "outputs": [
    {
     "data": {
      "text/plain": [
       "id                         0\n",
       "name                    6760\n",
       "asins                      2\n",
       "brand                      0\n",
       "categories                 0\n",
       "keys                       0\n",
       "manufacturer               0\n",
       "reviews.date              39\n",
       "reviews.dateAdded      10621\n",
       "reviews.dateSeen           0\n",
       "reviews.doRecommend      594\n",
       "reviews.numHelpful       529\n",
       "reviews.rating            33\n",
       "reviews.sourceURLs         0\n",
       "reviews.text               1\n",
       "reviews.title              5\n",
       "reviews.username           2\n",
       "dtype: int64"
      ]
     },
     "execution_count": 8,
     "metadata": {},
     "output_type": "execute_result"
    }
   ],
   "source": [
    "reviews_df.isnull().sum()"
   ]
  },
  {
   "cell_type": "markdown",
   "metadata": {},
   "source": [
    "<br>\n"
   ]
  },
  {
   "cell_type": "markdown",
   "metadata": {},
   "source": [
    "### Data Exploration"
   ]
  },
  {
   "cell_type": "markdown",
   "metadata": {},
   "source": [
    "- `name` and `asins`"
   ]
  },
  {
   "cell_type": "code",
   "execution_count": 9,
   "metadata": {},
   "outputs": [
    {
     "data": {
      "text/plain": [
       "asins\n",
       "B002Y27P3M               [Kindle Keyboard,,,\\r\\nKindle Keyboard,,,, All...\n",
       "B002Y27P6Y                                                           [nan]\n",
       "B005PB2T0S               [Amazon Kindle Lighted Leather Cover,,,\\r\\nAma...\n",
       "B005PB2T2Q               [Fire Kids Edition Tablet, 7 Display, Wi-Fi, 1...\n",
       "B006GWO5NE                                                           [nan]\n",
       "B006GWO5WK                                                           [nan]\n",
       "B0083Q04TA               [Fire Tablet, 7 Display, Wi-Fi, 8 GB - Include...\n",
       "B00BFJAHF8                                                           [nan]\n",
       "B00DU15MU4               [Brand New Amazon Kindle Fire 16gb 7 Ips Displ...\n",
       "B00IOY8XWQ               [Kindle Voyage E-reader, 6 High-Resolution Dis...\n",
       "B00IOYAM4I               [Brand New Amazon Kindle Fire 16gb 7 Ips Displ...\n",
       "B00L9EPT8O,B01E6AO69U    [Echo (White),,,\\r\\nEcho (White),,,, Echo (Whi...\n",
       "B00LO29KXQ               [Fire Tablet, 7 Display, Wi-Fi, 8 GB - Include...\n",
       "B00LW9XOJM                                                           [nan]\n",
       "B00OQVZDJM               [Amazon Kindle Paperwhite - eBook reader - 4 G...\n",
       "B00QFQRELG                                                           [nan]\n",
       "B00QJDU3KY               [Fire Tablet, 7 Display, Wi-Fi, 8 GB - Include...\n",
       "B00QL1ZN3G                                                           [nan]\n",
       "B00REQKWGA               [Brand New Amazon Kindle Fire 16gb 7 Ips Displ...\n",
       "B00TSUGXKE                            [Echo (White),,,\\r\\nEcho (White),,,]\n",
       "B00U3FPN4U                                                           [nan]\n",
       "B00UH4D8G2                            [Echo (White),,,\\r\\nEcho (White),,,]\n",
       "B00VINDBJK               [Kindle Oasis E-reader with Leather Charging C...\n",
       "B00X4WHP5E                                                           [nan]\n",
       "B00ZV9PXP2               [Amazon Kindle Fire Hd (3rd Generation) 8gb,,,...\n",
       "B0189XYY0Q                                                           [nan]\n",
       "B018SZT3BK               [Fire Tablet, 7 Display, Wi-Fi, 8 GB - Include...\n",
       "B018T075DC               [Brand New Amazon Kindle Fire 16gb 7 Ips Displ...\n",
       "B018Y225IA               [Brand New Amazon Kindle Fire 16gb 7 Ips Displ...\n",
       "B018Y229OU               [Fire Tablet, 7 Display, Wi-Fi, 8 GB - Include...\n",
       "B018Y22BI4                            [Echo (White),,,\\r\\nEcho (White),,,]\n",
       "B018Y22C2Y               [Fire Tablet, 7 Display, Wi-Fi, 8 GB - Include...\n",
       "B018Y23MNM               [Fire Kids Edition Tablet, 7 Display, Wi-Fi, 1...\n",
       "B018Y23P7K                                                           [nan]\n",
       "B01AHB9C1E               [Fire HD 8 Tablet with Alexa, 8 HD Display, 32...\n",
       "B01AHB9CN2               [All-New Fire HD 8 Tablet, 8 HD Display, Wi-Fi...\n",
       "B01AHB9CYG               [All-New Fire HD 8 Tablet, 8 HD Display, Wi-Fi...\n",
       "B01BFIBRIE               [Fire Tablet, 7 Display, Wi-Fi, 8 GB - Include...\n",
       "B01BH83OOM                                                           [nan]\n",
       "B01J2G4VBG               [Amazon 5W USB Official OEM Charger and Power ...\n",
       "B01J4ORNHU               [Fire Tablet, 7 Display, Wi-Fi, 8 GB - Include...\n",
       "Name: name, dtype: object"
      ]
     },
     "execution_count": 9,
     "metadata": {},
     "output_type": "execute_result"
    }
   ],
   "source": [
    "# list all 'asins' and name of the 'asins'\n",
    "\n",
    "reviews_df.groupby('asins')['name'].unique()"
   ]
  },
  {
   "cell_type": "code",
   "execution_count": 10,
   "metadata": {},
   "outputs": [
    {
     "data": {
      "text/plain": [
       "41"
      ]
     },
     "execution_count": 10,
     "metadata": {},
     "output_type": "execute_result"
    }
   ],
   "source": [
    "len(reviews_df.groupby('asins')['name'].unique())"
   ]
  },
  {
   "cell_type": "markdown",
   "metadata": {},
   "source": [
    "Note: there are actually 41 `asins` with one of the product having 2 `asins`"
   ]
  },
  {
   "cell_type": "code",
   "execution_count": 11,
   "metadata": {},
   "outputs": [
    {
     "data": {
      "text/html": [
       "<div>\n",
       "<style scoped>\n",
       "    .dataframe tbody tr th:only-of-type {\n",
       "        vertical-align: middle;\n",
       "    }\n",
       "\n",
       "    .dataframe tbody tr th {\n",
       "        vertical-align: top;\n",
       "    }\n",
       "\n",
       "    .dataframe thead th {\n",
       "        text-align: right;\n",
       "    }\n",
       "</style>\n",
       "<table border=\"1\" class=\"dataframe\">\n",
       "  <thead>\n",
       "    <tr style=\"text-align: right;\">\n",
       "      <th></th>\n",
       "      <th>value counts</th>\n",
       "    </tr>\n",
       "  </thead>\n",
       "  <tbody>\n",
       "    <tr>\n",
       "      <th>Echo (White),,,\\r\\nEcho (White),,,</th>\n",
       "      <td>2898</td>\n",
       "    </tr>\n",
       "    <tr>\n",
       "      <th>Amazon Fire Tv,,,\\r\\nAmazon Fire Tv,,,</th>\n",
       "      <td>2527</td>\n",
       "    </tr>\n",
       "    <tr>\n",
       "      <th>Amazon - Amazon Tap Portable Bluetooth and Wi-Fi Speaker - Black,,,\\r\\nAmazon - Amazon Tap Portable Bluetooth and Wi-Fi Speaker - Black,,,</th>\n",
       "      <td>318</td>\n",
       "    </tr>\n",
       "    <tr>\n",
       "      <th>Amazon Fire Hd 10 Tablet, Wi-Fi, 16 Gb, Special Offers - Silver Aluminum,,,\\r\\nAmazon Fire Hd 10 Tablet, Wi-Fi, 16 Gb, Special Offers - Silver Aluminum,,,</th>\n",
       "      <td>128</td>\n",
       "    </tr>\n",
       "    <tr>\n",
       "      <th>Amazon 9W PowerFast Official OEM USB Charger and Power Adapter for Fire Tablets and Kindle eReaders,,,\\r\\nAmazon 9W PowerFast Official OEM USB Charger and Power Adapter for Fire Tablets and Kindle eReaders,,,</th>\n",
       "      <td>36</td>\n",
       "    </tr>\n",
       "    <tr>\n",
       "      <th>Kindle Dx Leather Cover, Black (fits 9.7 Display, Latest and 2nd Generation Kindle Dxs),,</th>\n",
       "      <td>9</td>\n",
       "    </tr>\n",
       "    <tr>\n",
       "      <th>Amazon 5W USB Official OEM Charger and Power Adapter for Fire Tablets and Kindle eReaders,,,\\r\\nAmazon 5W USB Official OEM Charger and Power Adapter for Fire Tablets and Kindle eReaders,,,</th>\n",
       "      <td>7</td>\n",
       "    </tr>\n",
       "    <tr>\n",
       "      <th>New Amazon Kindle Fire Hd 9w Powerfast Adapter Charger + Micro Usb Angle Cable,,,\\r\\nNew Amazon Kindle Fire Hd 9w Powerfast Adapter Charger + Micro Usb Angle Cable,,,</th>\n",
       "      <td>6</td>\n",
       "    </tr>\n",
       "    <tr>\n",
       "      <th>Amazon Fire Hd 6 Standing Protective Case(4th Generation - 2014 Release), Cayenne Red,,,\\r\\nAmazon Fire Hd 6 Standing Protective Case(4th Generation - 2014 Release), Cayenne Red,,,</th>\n",
       "      <td>6</td>\n",
       "    </tr>\n",
       "    <tr>\n",
       "      <th>Amazon Kindle Fire 5ft USB to Micro-USB Cable (works with most Micro-USB Tablets),,,\\r\\nAmazon Kindle Fire 5ft USB to Micro-USB Cable (works with most Micro-USB Tablets),,,</th>\n",
       "      <td>4</td>\n",
       "    </tr>\n",
       "    <tr>\n",
       "      <th>Echo (Black),,,\\r\\nEcho (Black),,,</th>\n",
       "      <td>3</td>\n",
       "    </tr>\n",
       "    <tr>\n",
       "      <th>Coconut Water Red Tea 16.5 Oz (pack of 12),,,\\r\\nAmazon Fire Tv,,,</th>\n",
       "      <td>1</td>\n",
       "    </tr>\n",
       "    <tr>\n",
       "      <th>Amazon Fire Hd 6 Standing Protective Case(4th Generation - 2014 Release), Cayenne Red,,,\\r\\nAmazon 5W USB Official OEM Charger and Power Adapter for Fire Tablets and Kindle eReaders,,,</th>\n",
       "      <td>1</td>\n",
       "    </tr>\n",
       "    <tr>\n",
       "      <th>Echo (White),,,\\r\\nFire Tablet, 7 Display, Wi-Fi, 8 GB - Includes Special Offers, Tangerine\"</th>\n",
       "      <td>1</td>\n",
       "    </tr>\n",
       "    <tr>\n",
       "      <th>Echo (Black),,,\\r\\nAmazon 9W PowerFast Official OEM USB Charger and Power Adapter for Fire Tablets and Kindle eReaders,,,</th>\n",
       "      <td>1</td>\n",
       "    </tr>\n",
       "    <tr>\n",
       "      <th>Amazon Fire Tv,,,\\r\\nKindle Dx Leather Cover, Black (fits 9.7 Display, Latest and 2nd Generation Kindle Dxs)\",,</th>\n",
       "      <td>1</td>\n",
       "    </tr>\n",
       "    <tr>\n",
       "      <th>New Amazon Kindle Fire Hd 9w Powerfast Adapter Charger + Micro Usb Angle Cable,,,\\r\\n</th>\n",
       "      <td>1</td>\n",
       "    </tr>\n",
       "  </tbody>\n",
       "</table>\n",
       "</div>"
      ],
      "text/plain": [
       "                                                     value counts\n",
       "Echo (White),,,\\r\\nEcho (White),,,                           2898\n",
       "Amazon Fire Tv,,,\\r\\nAmazon Fire Tv,,,                       2527\n",
       "Amazon - Amazon Tap Portable Bluetooth and Wi-F...            318\n",
       "Amazon Fire Hd 10 Tablet, Wi-Fi, 16 Gb, Special...            128\n",
       "Amazon 9W PowerFast Official OEM USB Charger an...             36\n",
       "Kindle Dx Leather Cover, Black (fits 9.7 Displa...              9\n",
       "Amazon 5W USB Official OEM Charger and Power Ad...              7\n",
       "New Amazon Kindle Fire Hd 9w Powerfast Adapter ...              6\n",
       "Amazon Fire Hd 6 Standing Protective Case(4th G...              6\n",
       "Amazon Kindle Fire 5ft USB to Micro-USB Cable (...              4\n",
       "Echo (Black),,,\\r\\nEcho (Black),,,                              3\n",
       "Coconut Water Red Tea 16.5 Oz (pack of 12),,,\\r...              1\n",
       "Amazon Fire Hd 6 Standing Protective Case(4th G...              1\n",
       "Echo (White),,,\\r\\nFire Tablet, 7 Display, Wi-F...              1\n",
       "Echo (Black),,,\\r\\nAmazon 9W PowerFast Official...              1\n",
       "Amazon Fire Tv,,,\\r\\nKindle Dx Leather Cover, B...              1\n",
       "New Amazon Kindle Fire Hd 9w Powerfast Adapter ...              1"
      ]
     },
     "execution_count": 11,
     "metadata": {},
     "output_type": "execute_result"
    }
   ],
   "source": [
    "# Lets see all the different names for this product that have 2 'asins'\n",
    "\n",
    "names_df = pd.DataFrame(reviews_df[reviews_df['asins']=='B00L9EPT8O,B01E6AO69U']['name'].value_counts())\n",
    "names_df = names_df.rename(columns={\"name\": \" value counts\"})\n",
    "names_df"
   ]
  },
  {
   "cell_type": "markdown",
   "metadata": {},
   "source": [
    "Based on the exploration above :\n",
    "- each `asins` can have multiple names (There is 1-to-many relationship between `asins` and `name`)\n",
    "- `asins` is more important than `name` for the business problem"
   ]
  },
  {
   "cell_type": "code",
   "execution_count": 12,
   "metadata": {},
   "outputs": [],
   "source": [
    "# reviews_df['name'].fillna('0', inplace=True)"
   ]
  },
  {
   "cell_type": "code",
   "execution_count": 13,
   "metadata": {},
   "outputs": [
    {
     "data": {
      "image/png": "[encoded data removed]",
      "text/plain": [
       "<Figure size 1080x360 with 1 Axes>"
      ]
     },
     "metadata": {
      "needs_background": "light"
     },
     "output_type": "display_data"
    }
   ],
   "source": [
    "fig = plt.figure(figsize=(15,5))\n",
    "np.log10(reviews_df[\"asins\"].value_counts()).plot(kind=\"bar\", \n",
    "                                                  title=\"ASIN Frequency\", color='red') \n",
    "plt.xlabel(\"Product's ASIN\")\n",
    "plt.ylabel('Frequency(Log)')\n",
    "plt.show()"
   ]
  },
  {
   "cell_type": "markdown",
   "metadata": {},
   "source": [
    "Based on the exploration above:\n",
    "- `asins` has a right-skewed distribution, means that certain products have significantly more reviews than other products, which may indicate a higher sale in those specific products"
   ]
  },
  {
   "cell_type": "code",
   "execution_count": 14,
   "metadata": {},
   "outputs": [],
   "source": [
    "# reviews_df['reviews.rating'].isna().sum()"
   ]
  },
  {
   "cell_type": "markdown",
   "metadata": {},
   "source": [
    "<br>\n",
    "<br>"
   ]
  },
  {
   "cell_type": "markdown",
   "metadata": {},
   "source": [
    "- `reviews.doRecommend`"
   ]
  },
  {
   "cell_type": "code",
   "execution_count": 15,
   "metadata": {},
   "outputs": [
    {
     "data": {
      "text/plain": [
       "<AxesSubplot:xlabel='reviews.doRecommend', ylabel='count'>"
      ]
     },
     "execution_count": 15,
     "metadata": {},
     "output_type": "execute_result"
    },
    {
     "data": {
      "image/png": "[encoded data removed]",
      "text/plain": [
       "<Figure size 432x288 with 1 Axes>"
      ]
     },
     "metadata": {
      "needs_background": "light"
     },
     "output_type": "display_data"
    }
   ],
   "source": [
    "sns.countplot(reviews_df['reviews.doRecommend'])"
   ]
  },
  {
   "cell_type": "code",
   "execution_count": 16,
   "metadata": {},
   "outputs": [
    {
     "data": {
      "text/plain": [
       "True     32682\n",
       "False     1384\n",
       "Name: reviews.doRecommend, dtype: int64"
      ]
     },
     "execution_count": 16,
     "metadata": {},
     "output_type": "execute_result"
    }
   ],
   "source": [
    "reviews_df['reviews.doRecommend'].value_counts()"
   ]
  },
  {
   "cell_type": "markdown",
   "metadata": {},
   "source": [
    "<br>"
   ]
  },
  {
   "cell_type": "markdown",
   "metadata": {},
   "source": [
    "- `reviews.numHelpful`"
   ]
  },
  {
   "cell_type": "code",
   "execution_count": 17,
   "metadata": {},
   "outputs": [
    {
     "data": {
      "text/plain": [
       "Index(['reviews.numHelpful', 'reviews.rating'], dtype='object')"
      ]
     },
     "execution_count": 17,
     "metadata": {},
     "output_type": "execute_result"
    }
   ],
   "source": [
    "numeric_df = reviews_df._get_numeric_data()\n",
    "numeric_df.columns"
   ]
  },
  {
   "cell_type": "code",
   "execution_count": 18,
   "metadata": {},
   "outputs": [
    {
     "data": {
      "image/png": "[encoded data removed]",
      "text/plain": [
       "<Figure size 1440x360 with 1 Axes>"
      ]
     },
     "metadata": {
      "needs_background": "light"
     },
     "output_type": "display_data"
    }
   ],
   "source": [
    "# visualization for reviews.numHelpful\n",
    "\n",
    "plt.figure(figsize=(20,5))\n",
    "plt.scatter(numeric_df['reviews.numHelpful'].value_counts().index,\n",
    "           numeric_df['reviews.numHelpful'].value_counts().values)\n",
    "plt.show()\n"
   ]
  },
  {
   "cell_type": "markdown",
   "metadata": {},
   "source": [
    "Based on the distributions above:\n",
    "\n",
    "- `reviews.numHelpful`: Outliers in this case are valuable, so we may want to weight reviews that had more than 50+ people who find them helpful\n",
    "<br>\n",
    "<br>\n"
   ]
  },
  {
   "cell_type": "markdown",
   "metadata": {},
   "source": [
    "<br>"
   ]
  },
  {
   "cell_type": "markdown",
   "metadata": {},
   "source": [
    "- `reviews.text`"
   ]
  },
  {
   "cell_type": "code",
   "execution_count": 19,
   "metadata": {},
   "outputs": [
    {
     "data": {
      "text/plain": [
       "3111    5.0\n",
       "Name: reviews.rating, dtype: float64"
      ]
     },
     "execution_count": 19,
     "metadata": {},
     "output_type": "execute_result"
    }
   ],
   "source": [
    "reviews_df[reviews_df['reviews.text'].isna()]['reviews.rating']"
   ]
  },
  {
   "cell_type": "code",
   "execution_count": 20,
   "metadata": {},
   "outputs": [],
   "source": [
    "reviews_df['reviews.text'].fillna(' ', inplace=True)"
   ]
  },
  {
   "cell_type": "code",
   "execution_count": 21,
   "metadata": {},
   "outputs": [],
   "source": [
    "# reviews_df.isna().sum()"
   ]
  },
  {
   "cell_type": "markdown",
   "metadata": {},
   "source": [
    "<br>"
   ]
  },
  {
   "cell_type": "markdown",
   "metadata": {},
   "source": [
    "<br>"
   ]
  },
  {
   "cell_type": "markdown",
   "metadata": {},
   "source": [
    "#### Explore target columns `reviews.rating`"
   ]
  },
  {
   "cell_type": "code",
   "execution_count": 22,
   "metadata": {},
   "outputs": [
    {
     "data": {
      "text/plain": [
       "33"
      ]
     },
     "execution_count": 22,
     "metadata": {},
     "output_type": "execute_result"
    }
   ],
   "source": [
    "reviews_df['reviews.rating'].isna().sum()"
   ]
  },
  {
   "cell_type": "code",
   "execution_count": 23,
   "metadata": {},
   "outputs": [
    {
     "data": {
      "text/plain": [
       "0        False\n",
       "1        False\n",
       "2        False\n",
       "3        False\n",
       "4        False\n",
       "         ...  \n",
       "34655    False\n",
       "34656    False\n",
       "34657    False\n",
       "34658    False\n",
       "34659    False\n",
       "Name: reviews.rating, Length: 34660, dtype: bool"
      ]
     },
     "execution_count": 23,
     "metadata": {},
     "output_type": "execute_result"
    }
   ],
   "source": [
    "# drop this null values from col 'reviews.rating'\n",
    "reviews_df['reviews.rating'].isna()"
   ]
  },
  {
   "cell_type": "code",
   "execution_count": 24,
   "metadata": {},
   "outputs": [
    {
     "data": {
      "text/plain": [
       "4.584572732260953"
      ]
     },
     "execution_count": 24,
     "metadata": {},
     "output_type": "execute_result"
    }
   ],
   "source": [
    "reviews_df['reviews.rating'].mean()"
   ]
  },
  {
   "cell_type": "code",
   "execution_count": 25,
   "metadata": {},
   "outputs": [
    {
     "data": {
      "text/plain": [
       "5.0"
      ]
     },
     "execution_count": 25,
     "metadata": {},
     "output_type": "execute_result"
    }
   ],
   "source": [
    "reviews_df['reviews.rating'].median()"
   ]
  },
  {
   "cell_type": "code",
   "execution_count": 26,
   "metadata": {},
   "outputs": [
    {
     "data": {
      "text/plain": [
       "array([5., 5., 5., ..., 1., 1., 1.])"
      ]
     },
     "execution_count": 26,
     "metadata": {},
     "output_type": "execute_result"
    }
   ],
   "source": [
    "# change review.rating data type \n",
    "reviews_df['reviews.rating'] = round(reviews_df['reviews.rating'])\n",
    "reviews_df['reviews.rating'].values"
   ]
  },
  {
   "cell_type": "code",
   "execution_count": 27,
   "metadata": {},
   "outputs": [],
   "source": [
    "# drop the null values from column 'reviews.rating'\n",
    "reviews_df = reviews_df[reviews_df['reviews.rating'].notna()]"
   ]
  },
  {
   "cell_type": "code",
   "execution_count": 28,
   "metadata": {},
   "outputs": [
    {
     "data": {
      "text/plain": [
       "<AxesSubplot:xlabel='reviews.rating', ylabel='count'>"
      ]
     },
     "execution_count": 28,
     "metadata": {},
     "output_type": "execute_result"
    },
    {
     "data": {
      "image/png": "[encoded data removed]",
      "text/plain": [
       "<Figure size 432x288 with 1 Axes>"
      ]
     },
     "metadata": {
      "needs_background": "light"
     },
     "output_type": "display_data"
    }
   ],
   "source": [
    "sns.countplot(reviews_df['reviews.rating'])"
   ]
  },
  {
   "cell_type": "markdown",
   "metadata": {},
   "source": [
    "- `reviews.rating`: Majority of examples were rated highly (looking at rating distribution). There is twice amount of 5 star ratings than the others ratings combined <br>\n",
    "Assumption:\n",
    "- `reviews.rating` that are below 4 should be encoded as 0 ('not good') and `reviews.rating` with scores 4 and 5 as 1 ('good')."
   ]
  },
  {
   "cell_type": "code",
   "execution_count": 29,
   "metadata": {},
   "outputs": [],
   "source": [
    "reviews_df[\"reviews.rating\"] = reviews_df[\"reviews.rating\"].apply(lambda x: 0 if x < 4 else 1)\n",
    "\n",
    "# reviews_df['reviews.rating'] = reviews_df[\"reviews.rating\"].apply( \n",
    "#     lambda x: 1 if x >=4 else 0 if x ==3 else -1)\n",
    "# reviews_df['reviews.rating'].value_counts()"
   ]
  },
  {
   "cell_type": "code",
   "execution_count": 30,
   "metadata": {},
   "outputs": [
    {
     "data": {
      "text/plain": [
       "<AxesSubplot:xlabel='reviews.rating', ylabel='count'>"
      ]
     },
     "execution_count": 30,
     "metadata": {},
     "output_type": "execute_result"
    },
    {
     "data": {
      "image/png": "[encoded data removed]",
      "text/plain": [
       "<Figure size 432x288 with 1 Axes>"
      ]
     },
     "metadata": {
      "needs_background": "light"
     },
     "output_type": "display_data"
    }
   ],
   "source": [
    "sns.countplot(reviews_df['reviews.rating'])"
   ]
  },
  {
   "cell_type": "code",
   "execution_count": 31,
   "metadata": {},
   "outputs": [
    {
     "name": "stdout",
     "output_type": "stream",
     "text": [
      "Score negative (%):0.067\n",
      "Score positive (%):0.933\n"
     ]
    }
   ],
   "source": [
    "# print(\"Score negative (%):\" + str(round(len(reviews_df[reviews_df['reviews.rating']==-1])/len(reviews_df['reviews.rating']),3)))\n",
    "print(\"Score negative (%):\" + str(round(len(reviews_df[reviews_df['reviews.rating']==0])/len(reviews_df['reviews.rating']),3)))\n",
    "print(\"Score positive (%):\" + str(round(len(reviews_df[reviews_df['reviews.rating']==1])/len(reviews_df['reviews.rating']),3)))"
   ]
  },
  {
   "cell_type": "markdown",
   "metadata": {},
   "source": [
    "<br>"
   ]
  },
  {
   "cell_type": "code",
   "execution_count": 32,
   "metadata": {},
   "outputs": [
    {
     "data": {
      "text/html": [
       "<div>\n",
       "<style scoped>\n",
       "    .dataframe tbody tr th:only-of-type {\n",
       "        vertical-align: middle;\n",
       "    }\n",
       "\n",
       "    .dataframe tbody tr th {\n",
       "        vertical-align: top;\n",
       "    }\n",
       "\n",
       "    .dataframe thead th {\n",
       "        text-align: right;\n",
       "    }\n",
       "</style>\n",
       "<table border=\"1\" class=\"dataframe\">\n",
       "  <thead>\n",
       "    <tr style=\"text-align: right;\">\n",
       "      <th></th>\n",
       "      <th>asins</th>\n",
       "      <th>reviews.rating</th>\n",
       "    </tr>\n",
       "  </thead>\n",
       "  <tbody>\n",
       "    <tr>\n",
       "      <th>B018Y229OU</th>\n",
       "      <td>10966</td>\n",
       "      <td>0.906620</td>\n",
       "    </tr>\n",
       "    <tr>\n",
       "      <th>B00L9EPT8O,B01E6AO69U</th>\n",
       "      <td>6619</td>\n",
       "      <td>0.951503</td>\n",
       "    </tr>\n",
       "    <tr>\n",
       "      <th>B00U3FPN4U</th>\n",
       "      <td>5056</td>\n",
       "      <td>0.958465</td>\n",
       "    </tr>\n",
       "    <tr>\n",
       "      <th>B00OQVZDJM</th>\n",
       "      <td>3176</td>\n",
       "      <td>0.972922</td>\n",
       "    </tr>\n",
       "    <tr>\n",
       "      <th>B01AHB9CN2</th>\n",
       "      <td>2814</td>\n",
       "      <td>0.947761</td>\n",
       "    </tr>\n",
       "  </tbody>\n",
       "</table>\n",
       "</div>"
      ],
      "text/plain": [
       "                       asins  reviews.rating\n",
       "B018Y229OU             10966        0.906620\n",
       "B00L9EPT8O,B01E6AO69U   6619        0.951503\n",
       "B00U3FPN4U              5056        0.958465\n",
       "B00OQVZDJM              3176        0.972922\n",
       "B01AHB9CN2              2814        0.947761"
      ]
     },
     "execution_count": 32,
     "metadata": {},
     "output_type": "execute_result"
    }
   ],
   "source": [
    "asins_counts = pd.DataFrame(reviews_df[\"asins\"].value_counts())\n",
    "avg_rating = reviews_df.groupby(\"asins\")[\"reviews.rating\"].mean()\n",
    "plot_df = asins_counts.join(avg_rating)\n",
    "plot_df.head(5)"
   ]
  },
  {
   "cell_type": "code",
   "execution_count": 33,
   "metadata": {},
   "outputs": [
    {
     "data": {
      "text/html": [
       "<div>\n",
       "<style scoped>\n",
       "    .dataframe tbody tr th:only-of-type {\n",
       "        vertical-align: middle;\n",
       "    }\n",
       "\n",
       "    .dataframe tbody tr th {\n",
       "        vertical-align: top;\n",
       "    }\n",
       "\n",
       "    .dataframe thead th {\n",
       "        text-align: right;\n",
       "    }\n",
       "</style>\n",
       "<table border=\"1\" class=\"dataframe\">\n",
       "  <thead>\n",
       "    <tr style=\"text-align: right;\">\n",
       "      <th></th>\n",
       "      <th>asins</th>\n",
       "      <th>reviews.rating</th>\n",
       "    </tr>\n",
       "  </thead>\n",
       "  <tbody>\n",
       "    <tr>\n",
       "      <th>asins</th>\n",
       "      <td>1.000000</td>\n",
       "      <td>0.152393</td>\n",
       "    </tr>\n",
       "    <tr>\n",
       "      <th>reviews.rating</th>\n",
       "      <td>0.152393</td>\n",
       "      <td>1.000000</td>\n",
       "    </tr>\n",
       "  </tbody>\n",
       "</table>\n",
       "</div>"
      ],
      "text/plain": [
       "                   asins  reviews.rating\n",
       "asins           1.000000        0.152393\n",
       "reviews.rating  0.152393        1.000000"
      ]
     },
     "execution_count": 33,
     "metadata": {},
     "output_type": "execute_result"
    },
    {
     "data": {
      "image/png": "[encoded data removed]",
      "text/plain": [
       "<Figure size 432x288 with 1 Axes>"
      ]
     },
     "metadata": {
      "needs_background": "light"
     },
     "output_type": "display_data"
    }
   ],
   "source": [
    "plt.scatter(\"asins\", \"reviews.rating\", data=plot_df)\n",
    "plot_df.corr()"
   ]
  },
  {
   "cell_type": "markdown",
   "metadata": {},
   "source": [
    "From our analysis in data exploration above between ASINs and reviews.rating, we discovered that there are many ASINs with low occurrence that have high variances, as a result we concluded that theses low occurrence ASINs are not significant in our analysis given the low sample size. \n",
    "\n",
    "Similarly in our correlation analysis between ASINs and reviews.rating, we see that there is almost no correlation which is consistent with our findings.\n",
    "<br>\n",
    "<br>\n",
    "<br>"
   ]
  },
  {
   "cell_type": "markdown",
   "metadata": {},
   "source": [
    "-----"
   ]
  },
  {
   "cell_type": "markdown",
   "metadata": {},
   "source": [
    "#### Cleaning text data"
   ]
  },
  {
   "cell_type": "code",
   "execution_count": 34,
   "metadata": {},
   "outputs": [],
   "source": [
    "import nltk\n",
    "from sklearn.feature_extraction.text import CountVectorizer\n",
    "from nltk.corpus import stopwords\n",
    "from nltk.stem.porter import PorterStemmer\n",
    "import re\n",
    "import string\n",
    "\n",
    "from nltk.corpus import stopwords \n",
    "stemmer = nltk.stem.PorterStemmer()\n",
    "ENGLISH_STOP_WORDS = stopwords.words('english')\n",
    "ENGLISH_STOP_WORDS.remove('not')\n",
    "ENGLISH_STOP_WORDS.remove('no')\n",
    "\n",
    "def my_tokenizer(sentence):\n",
    "    \n",
    "    for punctuation_mark in string.punctuation:\n",
    "        # Remove punctuation and set to lower case\n",
    "        sentence = sentence.replace(punctuation_mark,'').lower()\n",
    "\n",
    "    # split sentence into words\n",
    "    listofwords = sentence.split(' ')\n",
    "    listofstemmed_words = []\n",
    "    \n",
    "        \n",
    "    # Remove stopwords and any tokens that are just empty strings\n",
    "    for word in listofwords:\n",
    "        if (not word in ENGLISH_STOP_WORDS) and (word!=''):\n",
    "            # Stem words\n",
    "            stemmed_word = stemmer.stem(word)\n",
    "            listofstemmed_words.append(stemmed_word)\n",
    "\n",
    "    return listofstemmed_words"
   ]
  },
  {
   "cell_type": "markdown",
   "metadata": {},
   "source": [
    "<br>\n",
    "<br>"
   ]
  },
  {
   "cell_type": "markdown",
   "metadata": {},
   "source": [
    "### Split into Train/Test/Validation"
   ]
  },
  {
   "cell_type": "markdown",
   "metadata": {},
   "source": [
    "- Since the majority of reviews are good, we will need to do a stratified split on the `reviews score` to ensure that we don’t train the classifier on imbalanced data"
   ]
  },
  {
   "cell_type": "code",
   "execution_count": 35,
   "metadata": {},
   "outputs": [],
   "source": [
    "X = reviews_df['reviews.text']\n",
    "y = reviews_df['reviews.rating']"
   ]
  },
  {
   "cell_type": "code",
   "execution_count": 48,
   "metadata": {},
   "outputs": [],
   "source": [
    "def train_test_split(X,y):\n",
    "    \n",
    "    from sklearn.model_selection import train_test_split\n",
    "\n",
    "    # Taking a chuck for our 20% test set\n",
    "    X_remainder, X_test, y_remainder, y_test = train_test_split(X, y, stratify=y, test_size=0.25)\n",
    "\n",
    "    # Splitting the remainder in two chunks\n",
    "    X_train, X_validation, y_train, y_validation = train_test_split(X_remainder, \n",
    "                                                                    y_remainder, \n",
    "                                                                    stratify=y_remainder, test_size=0.25)\n",
    "    from sklearn.feature_extraction.text import CountVectorizer \n",
    "    bagofwords = CountVectorizer(tokenizer=my_tokenizer)\n",
    "    bagofwords.fit(X_train)\n",
    "    X_train = bagofwords.transform(X_train)\n",
    "    X_validation = bagofwords.transform(X_validation)\n",
    "    X_test = bagofwords.transform(X_test)\n",
    "    X_remainder = bagofwords.transform(X_remainder)\n",
    "    \n",
    "    return X_train, X_validation, X_test, X_remainder, y_train, y_validation, y_test, y_remainder, bagofwords"
   ]
  },
  {
   "cell_type": "code",
   "execution_count": 49,
   "metadata": {},
   "outputs": [],
   "source": [
    "X_train, X_validation, X_test, X_remainder, y_train, y_validation, y_test, y_remainder, bagofwords = train_test_split(X,y)"
   ]
  },
  {
   "cell_type": "markdown",
   "metadata": {},
   "source": [
    "<br>\n",
    "<br>"
   ]
  },
  {
   "cell_type": "markdown",
   "metadata": {},
   "source": [
    "## Modelling"
   ]
  },
  {
   "cell_type": "markdown",
   "metadata": {},
   "source": [
    "### Logistic Regression"
   ]
  },
  {
   "cell_type": "code",
   "execution_count": 50,
   "metadata": {},
   "outputs": [
    {
     "data": {
      "image/png": "[encoded data removed]",
      "text/plain": [
       "<Figure size 432x288 with 1 Axes>"
      ]
     },
     "metadata": {
      "needs_background": "light"
     },
     "output_type": "display_data"
    }
   ],
   "source": [
    "import warnings\n",
    "warnings.filterwarnings(\"ignore\")\n",
    "\n",
    "\n",
    "# Now we have our data Vectorized (i.e. a table numerical rows/columns)\n",
    "# so we can build a model on it\n",
    "from sklearn.linear_model import LogisticRegression\n",
    "import matplotlib.pyplot as plt\n",
    "\n",
    "C_values = [0.0001, 0.001, 0.01, 0.1, 1, 10, 100, 1000, 10000]\n",
    "\n",
    "train_accs = []\n",
    "test_accs = []\n",
    "val_accs = []\n",
    "\n",
    "for c in C_values:\n",
    "    \n",
    "    # Instantiate & fit the model\n",
    "    logreg = LogisticRegression(C = c)\n",
    "    logreg.fit(X_train, y_train)\n",
    "    \n",
    "    # Keep track of the train & test accuacies\n",
    "    train_accs.append(logreg.score(X_train, y_train))\n",
    "    val_accs.append(logreg.score(X_validation,y_validation))\n",
    "\n",
    "# Visualize the train & test accuracies across c-values\n",
    "plt.figure()\n",
    "plt.plot(C_values, train_accs, c='blue', label='train', marker='.')\n",
    "plt.plot(C_values, val_accs, c='green', label='validation', marker='.')\n",
    "plt.xlabel('C value')\n",
    "plt.ylabel('accuracy')\n",
    "plt.xscale('log')\n",
    "plt.legend()\n",
    "plt.show()\n"
   ]
  },
  {
   "cell_type": "code",
   "execution_count": 51,
   "metadata": {},
   "outputs": [
    {
     "data": {
      "image/png": "[encoded data removed]",
      "text/plain": [
       "<Figure size 432x288 with 1 Axes>"
      ]
     },
     "metadata": {
      "needs_background": "light"
     },
     "output_type": "display_data"
    },
    {
     "name": "stdout",
     "output_type": "stream",
     "text": [
      "The best model has C =  0.1\n"
     ]
    }
   ],
   "source": [
    "# 10-folds cross validation\n",
    "\n",
    "from sklearn.model_selection import cross_val_score\n",
    "\n",
    "cross_validation_scores = []\n",
    "\n",
    "C_range = np.array([.00000001,.0000001,.000001,.00001,.0001,.001,.1,\\\n",
    "                1,10,100,1000,10000,100000,1000000,10000000,100000000,1000000000])\n",
    "\n",
    "#Do some cross validation\n",
    "for c in C_range:\n",
    "    LR_model = LogisticRegression(C=c,random_state=1)\n",
    "    cv_score = np.mean(cross_val_score(LR_model, X_remainder, y_remainder, cv = 10))\n",
    "    cross_validation_scores.append(cv_score)\n",
    "\n",
    "plt.figure()\n",
    "plt.plot(C_range, cross_validation_scores,label=\"Cross Validation Score\",marker='.')\n",
    "plt.legend()\n",
    "plt.xscale(\"log\")\n",
    "plt.xlabel('Regularization Parameter: C')\n",
    "plt.ylabel('Cross Validation Score')\n",
    "plt.grid()\n",
    "plt.show();\n",
    "\n",
    "which_max = np.array(cross_validation_scores).argmax()\n",
    "\n",
    "print(\"The best model has C = \",C_range[which_max])"
   ]
  },
  {
   "cell_type": "code",
   "execution_count": 52,
   "metadata": {},
   "outputs": [
    {
     "name": "stdout",
     "output_type": "stream",
     "text": [
      "Score on train: 0.9485175202156334\n",
      "Score on test: 0.9403950560240268\n"
     ]
    }
   ],
   "source": [
    "best_log_model = LogisticRegression(C=C_range[which_max])\n",
    "best_log_model.fit(X_remainder,y_remainder)\n",
    "print(f'Score on train: {best_log_model.score(X_remainder,y_remainder)}')\n",
    "print(f'Score on test: {best_log_model.score(X_test,y_test)}')"
   ]
  },
  {
   "cell_type": "code",
   "execution_count": 53,
   "metadata": {},
   "outputs": [
    {
     "data": {
      "text/plain": [
       "array([[ 125,  453],\n",
       "       [  63, 8016]], dtype=int64)"
      ]
     },
     "execution_count": 53,
     "metadata": {},
     "output_type": "execute_result"
    }
   ],
   "source": [
    "# Confusion Matrix & Classification Report\n",
    "\n",
    "from sklearn.metrics import confusion_matrix\n",
    "\n",
    "y_pred = best_log_model.predict(X_test)\n",
    "\n",
    "confusion_matrix(y_test, y_pred)"
   ]
  },
  {
   "cell_type": "code",
   "execution_count": 54,
   "metadata": {},
   "outputs": [
    {
     "name": "stdout",
     "output_type": "stream",
     "text": [
      "              precision    recall  f1-score   support\n",
      "\n",
      "           0       0.66      0.22      0.33       578\n",
      "           1       0.95      0.99      0.97      8079\n",
      "\n",
      "    accuracy                           0.94      8657\n",
      "   macro avg       0.81      0.60      0.65      8657\n",
      "weighted avg       0.93      0.94      0.93      8657\n",
      "\n"
     ]
    }
   ],
   "source": [
    "from sklearn.metrics import classification_report\n",
    "\n",
    "report_initial = classification_report(y_test, y_pred)\n",
    "print(report_initial)"
   ]
  },
  {
   "cell_type": "code",
   "execution_count": 55,
   "metadata": {},
   "outputs": [
    {
     "data": {
      "image/png": "[encoded data removed]",
      "text/plain": [
       "<Figure size 432x288 with 1 Axes>"
      ]
     },
     "metadata": {
      "needs_background": "light"
     },
     "output_type": "display_data"
    }
   ],
   "source": [
    "# ROC & AUC\n",
    "\n",
    "from sklearn.metrics import roc_curve, roc_auc_score\n",
    "from sklearn.metrics import auc\n",
    "\n",
    "best_log_model = LogisticRegression(C=C_range[which_max])\n",
    "best_log_model.fit(X_remainder,y_remainder)\n",
    "\n",
    "y_pred = best_log_model.predict_proba(X_test)[:, 1]\n",
    "\n",
    "\n",
    "logit_fprs_test, logit_tprs_test, thresholds_test = roc_curve(y_test, y_pred)\n",
    "\n",
    "logit_auc_value = roc_auc_score(y_test, y_pred)\n",
    "\n",
    "plt.figure()\n",
    "plt.plot(logit_fprs_test, logit_tprs_test, label=f\"Logit AUC: {round(logit_auc_value,2)}\")\n",
    "plt.legend()\n",
    "plt.show()"
   ]
  },
  {
   "cell_type": "code",
   "execution_count": 56,
   "metadata": {},
   "outputs": [],
   "source": [
    "coefficients = best_log_model.coef_"
   ]
  },
  {
   "cell_type": "code",
   "execution_count": 57,
   "metadata": {},
   "outputs": [],
   "source": [
    "indices = coefficients.argsort()[0]"
   ]
  },
  {
   "cell_type": "code",
   "execution_count": 58,
   "metadata": {},
   "outputs": [
    {
     "data": {
      "text/plain": [
       "array(['return', 'slow', 'ok', 'hope', 'okay', 'disappoint', 'not',\n",
       "       'doesnt', 'freez', 'noth', 'wouldnt', 'didnt', 'starter', 'cannot',\n",
       "       'slower', 'terribl', 'dont', 'back', 'basic', 'limit'],\n",
       "      dtype='<U68')"
      ]
     },
     "execution_count": 58,
     "metadata": {},
     "output_type": "execute_result"
    }
   ],
   "source": [
    "# The words with the lowest coefficients \n",
    "# most predictive of a 0 (negative review)\n",
    "\n",
    "np.array(bagofwords.get_feature_names())[indices[:20]]"
   ]
  },
  {
   "cell_type": "code",
   "execution_count": 59,
   "metadata": {},
   "outputs": [],
   "source": [
    "str=''\n",
    "for word in np.array(bagofwords.get_feature_names())[indices[:20]]:\n",
    "    str+=word+\" \""
   ]
  },
  {
   "cell_type": "code",
   "execution_count": 60,
   "metadata": {},
   "outputs": [
    {
     "data": {
      "image/png": "[encoded data removed]",
      "text/plain": [
       "<Figure size 432x288 with 1 Axes>"
      ]
     },
     "metadata": {
      "needs_background": "light"
     },
     "output_type": "display_data"
    }
   ],
   "source": [
    "from wordcloud import WordCloud\n",
    "wordcloud = WordCloud(max_font_size=50, max_words=100, background_color=\"white\").generate(str)\n",
    "plt.figure()\n",
    "plt.imshow(wordcloud, interpolation=\"bilinear\")\n",
    "plt.axis(\"off\")\n",
    "plt.show()"
   ]
  },
  {
   "cell_type": "code",
   "execution_count": 61,
   "metadata": {},
   "outputs": [
    {
     "data": {
      "text/plain": [
       "array(['glad', 'satisfi', 'room', 'conveni', 'perfectli', 'worri',\n",
       "       'photo', 'prime', 'enjoy', 'happi', 'amaz', 'well', 'awesom',\n",
       "       'beat', 'fun', 'great', 'excel', 'easi', 'perfect', 'love'],\n",
       "      dtype='<U68')"
      ]
     },
     "execution_count": 61,
     "metadata": {},
     "output_type": "execute_result"
    }
   ],
   "source": [
    "# The words with the highest coefficients\n",
    "# most predictive of a 1 (positive review)\n",
    "np.array(bagofwords.get_feature_names())[indices[-20:]]"
   ]
  },
  {
   "cell_type": "code",
   "execution_count": 62,
   "metadata": {},
   "outputs": [],
   "source": [
    "str=''\n",
    "for word in np.array(bagofwords.get_feature_names())[indices[-20:]]:\n",
    "    str+=word+\" \""
   ]
  },
  {
   "cell_type": "code",
   "execution_count": 63,
   "metadata": {
    "scrolled": true
   },
   "outputs": [
    {
     "data": {
      "image/png": "[encoded data removed]",
      "text/plain": [
       "<Figure size 432x288 with 1 Axes>"
      ]
     },
     "metadata": {
      "needs_background": "light"
     },
     "output_type": "display_data"
    }
   ],
   "source": [
    "\n",
    "from wordcloud import WordCloud\n",
    "wordcloud = WordCloud(max_font_size=50, max_words=100, background_color=\"white\").generate(str)\n",
    "plt.figure()\n",
    "plt.imshow(wordcloud, interpolation=\"bilinear\")\n",
    "plt.axis(\"off\")\n",
    "plt.show()"
   ]
  },
  {
   "cell_type": "markdown",
   "metadata": {},
   "source": [
    "<br>\n"
   ]
  },
  {
   "cell_type": "markdown",
   "metadata": {},
   "source": [
    "### K-Nearest Neighbor"
   ]
  },
  {
   "cell_type": "code",
   "execution_count": 64,
   "metadata": {},
   "outputs": [],
   "source": [
    "X_train, X_validation, X_test, X_remainder, y_train, y_validation, y_test, y_remainder, bagofwords = train_test_split(X,y)"
   ]
  },
  {
   "cell_type": "code",
   "execution_count": 65,
   "metadata": {},
   "outputs": [
    {
     "data": {
      "image/png": "[encoded data removed]",
      "text/plain": [
       "<Figure size 432x288 with 1 Axes>"
      ]
     },
     "metadata": {
      "needs_background": "light"
     },
     "output_type": "display_data"
    }
   ],
   "source": [
    "import warnings\n",
    "warnings.filterwarnings(\"ignore\")\n",
    "\n",
    "from sklearn.neighbors import KNeighborsClassifier\n",
    "\n",
    "k_values = np.arange(1,40,1)\n",
    "\n",
    "train_scores = []\n",
    "val_scores = []\n",
    "\n",
    "for k in k_values:\n",
    "    \n",
    "    knn = KNeighborsClassifier(n_neighbors = k)\n",
    "    knn.fit(X_train, y_train)\n",
    "    \n",
    "    train_scores.append(knn.score(X_train, y_train))\n",
    "    val_scores.append(knn.score(X_validation, y_validation))\n",
    "    \n",
    "\n",
    "plt.figure()\n",
    "plt.plot(k_values, train_scores, c='blue', label='train')\n",
    "plt.plot(k_values, val_scores, c='red', label='validation')\n",
    "plt.xlabel('n neighbors')\n",
    "plt.ylabel('accuracy')\n",
    "plt.legend()\n",
    "plt.show()\n"
   ]
  },
  {
   "cell_type": "code",
   "execution_count": 66,
   "metadata": {},
   "outputs": [
    {
     "data": {
      "image/png": "[encoded data removed]",
      "text/plain": [
       "<Figure size 432x288 with 1 Axes>"
      ]
     },
     "metadata": {
      "needs_background": "light"
     },
     "output_type": "display_data"
    },
    {
     "name": "stdout",
     "output_type": "stream",
     "text": [
      "The best model has k =  5\n"
     ]
    }
   ],
   "source": [
    "K_range = [1,5,10,20,30,40,50,60,70,80,84]\n",
    "\n",
    "cross_validation_scores = []\n",
    "\n",
    "for i in K_range:\n",
    "    my_model = KNeighborsClassifier(n_neighbors=i)\n",
    "    \n",
    "    scores = np.mean(cross_val_score(my_model, X_remainder, y_remainder, cv=10))\n",
    "    \n",
    "    cross_validation_scores.append(scores)\n",
    "    \n",
    "plt.figure()\n",
    "plt.plot(K_range, cross_validation_scores,label=\"Cross Validation Score\",marker='.')\n",
    "plt.legend()\n",
    "plt.xlabel('Kneighbors')\n",
    "plt.ylabel('Cross Validation Score')\n",
    "plt.grid()\n",
    "plt.show();\n",
    "\n",
    "which_max = np.array(cross_validation_scores).argmax()\n",
    "\n",
    "print(\"The best model has k = \",K_range[which_max])"
   ]
  },
  {
   "cell_type": "code",
   "execution_count": 67,
   "metadata": {},
   "outputs": [],
   "source": [
    "best_knn_model = KNeighborsClassifier(n_neighbors=K_range[which_max])\n",
    "best_knn_model = best_knn_model.fit(X_remainder, y_remainder)\n",
    "\n",
    "train_score = best_knn_model.score(X_remainder,y_remainder)\n",
    "test_score = best_knn_model.score(X_test, y_test)"
   ]
  },
  {
   "cell_type": "code",
   "execution_count": 68,
   "metadata": {},
   "outputs": [
    {
     "name": "stdout",
     "output_type": "stream",
     "text": [
      "Score on train: 0.9372737774355026\n",
      "Score on test: 0.9336952754995957\n"
     ]
    }
   ],
   "source": [
    "print(f'Score on train: {train_score}')\n",
    "print(f'Score on test: {test_score}')"
   ]
  },
  {
   "cell_type": "code",
   "execution_count": 69,
   "metadata": {},
   "outputs": [
    {
     "data": {
      "text/plain": [
       "array([[  26,  552],\n",
       "       [  22, 8057]], dtype=int64)"
      ]
     },
     "execution_count": 69,
     "metadata": {},
     "output_type": "execute_result"
    }
   ],
   "source": [
    "from sklearn.metrics import confusion_matrix\n",
    "\n",
    "y_pred = best_knn_model.predict(X_test)\n",
    "\n",
    "confusion_matrix(y_test, y_pred)"
   ]
  },
  {
   "cell_type": "code",
   "execution_count": 70,
   "metadata": {},
   "outputs": [
    {
     "name": "stdout",
     "output_type": "stream",
     "text": [
      "              precision    recall  f1-score   support\n",
      "\n",
      "           0       0.54      0.04      0.08       578\n",
      "           1       0.94      1.00      0.97      8079\n",
      "\n",
      "    accuracy                           0.93      8657\n",
      "   macro avg       0.74      0.52      0.52      8657\n",
      "weighted avg       0.91      0.93      0.91      8657\n",
      "\n"
     ]
    }
   ],
   "source": [
    "from sklearn.metrics import classification_report\n",
    "\n",
    "report_initial = classification_report(y_test, y_pred)\n",
    "print(report_initial)"
   ]
  },
  {
   "cell_type": "code",
   "execution_count": 71,
   "metadata": {},
   "outputs": [
    {
     "data": {
      "image/png": "[encoded data removed]",
      "text/plain": [
       "<Figure size 432x288 with 1 Axes>"
      ]
     },
     "metadata": {
      "needs_background": "light"
     },
     "output_type": "display_data"
    }
   ],
   "source": [
    "from sklearn.metrics import roc_curve, roc_auc_score\n",
    "from sklearn.metrics import auc\n",
    "\n",
    "best_knn_model = KNeighborsClassifier(n_neighbors=K_range[which_max])\n",
    "best_knn_model = best_knn_model.fit(X_remainder, y_remainder)\n",
    "\n",
    "y_pred = best_knn_model.predict_proba(X_test)[:, 1]\n",
    "\n",
    "\n",
    "knn_fprs_test, knn_tprs_test, thresholds_test = roc_curve(y_test, y_pred)\n",
    "\n",
    "knn_auc_value = roc_auc_score(y_test, y_pred)\n",
    "\n",
    "plt.figure()\n",
    "plt.plot(knn_fprs_test, knn_tprs_test, label=f\"KNN AUC: {round(knn_auc_value,2)}\")\n",
    "plt.legend()\n",
    "plt.show()"
   ]
  },
  {
   "cell_type": "markdown",
   "metadata": {},
   "source": [
    "<br>"
   ]
  },
  {
   "cell_type": "markdown",
   "metadata": {},
   "source": [
    "### Decision Tree"
   ]
  },
  {
   "cell_type": "code",
   "execution_count": 72,
   "metadata": {},
   "outputs": [],
   "source": [
    "X_train, X_validation, X_test, X_remainder, y_train, y_validation, y_test, y_remainder, bagofwords = train_test_split(X,y)"
   ]
  },
  {
   "cell_type": "code",
   "execution_count": 73,
   "metadata": {},
   "outputs": [
    {
     "data": {
      "image/png": "[encoded data removed]",
      "text/plain": [
       "<Figure size 432x288 with 1 Axes>"
      ]
     },
     "metadata": {
      "needs_background": "light"
     },
     "output_type": "display_data"
    }
   ],
   "source": [
    "from sklearn.tree import DecisionTreeClassifier\n",
    "\n",
    "dt_test_accuracies = []\n",
    "depths = []\n",
    "train_scores =[]\n",
    "val_scores =[]\n",
    "d_values = np.arange(1,21,1)\n",
    "\n",
    "for d in d_values:\n",
    "\n",
    "    my_dt = DecisionTreeClassifier(max_depth=d, random_state=1)\n",
    "    my_dt.fit(X_train, y_train)\n",
    "    train_scores.append(my_dt.score(X_train, y_train))\n",
    "    val_scores.append(my_dt.score(X_validation, y_validation))\n",
    "    depths.append(d)\n",
    "    \n",
    "plt.figure()\n",
    "plt.plot(depths, train_scores, c='blue', label='train')\n",
    "plt.plot(depths, val_scores, c='red', label='validation')\n",
    "plt.xlabel('Max Depth')\n",
    "plt.ylabel('accuracy')\n",
    "plt.legend()\n",
    "plt.show()\n"
   ]
  },
  {
   "cell_type": "code",
   "execution_count": 74,
   "metadata": {},
   "outputs": [
    {
     "data": {
      "image/png": "[encoded data removed]",
      "text/plain": [
       "<Figure size 432x288 with 1 Axes>"
      ]
     },
     "metadata": {
      "needs_background": "light"
     },
     "output_type": "display_data"
    },
    {
     "name": "stdout",
     "output_type": "stream",
     "text": [
      "The best model has depth =  2\n"
     ]
    }
   ],
   "source": [
    "d_values = np.arange(1,21,1)\n",
    "\n",
    "cross_validation_scores = []\n",
    "\n",
    "for d in d_values:\n",
    "    \n",
    "    my_dt = DecisionTreeClassifier(max_depth=d, random_state=1)\n",
    "    \n",
    "    scores = np.mean(cross_val_score(my_dt, X_remainder, y_remainder, cv=10))\n",
    "    \n",
    "    cross_validation_scores.append(scores)\n",
    "    \n",
    "plt.figure()\n",
    "plt.plot(d_values, cross_validation_scores,label=\"Cross Validation Score\",marker='.')\n",
    "plt.legend()\n",
    "plt.xlabel('Max Depth')\n",
    "plt.ylabel('Cross Validation Score')\n",
    "plt.grid()\n",
    "plt.show();\n",
    "\n",
    "which_max = np.array(cross_validation_scores).argmax()\n",
    "\n",
    "print(\"The best model has depth = \",d_values[which_max])"
   ]
  },
  {
   "cell_type": "code",
   "execution_count": 75,
   "metadata": {},
   "outputs": [
    {
     "name": "stdout",
     "output_type": "stream",
     "text": [
      "Score on train: 0.9360800924143242\n",
      "Score on test: 0.9351969504447268\n"
     ]
    }
   ],
   "source": [
    "best_dt_model = DecisionTreeClassifier(max_depth=d_values[which_max], random_state=1)\n",
    "best_dt_model = best_dt_model.fit(X_remainder, y_remainder)\n",
    "\n",
    "train_score = best_dt_model.score(X_remainder,y_remainder)\n",
    "test_score = best_dt_model.score(X_test, y_test)\n",
    "\n",
    "print(f'Score on train: {train_score}')\n",
    "print(f'Score on test: {test_score}')"
   ]
  },
  {
   "cell_type": "code",
   "execution_count": 76,
   "metadata": {},
   "outputs": [
    {
     "data": {
      "text/plain": [
       "array([[  50,  528],\n",
       "       [  33, 8046]], dtype=int64)"
      ]
     },
     "execution_count": 76,
     "metadata": {},
     "output_type": "execute_result"
    }
   ],
   "source": [
    "from sklearn.metrics import confusion_matrix\n",
    "\n",
    "y_pred = best_dt_model.predict(X_test)\n",
    "\n",
    "confusion_matrix(y_test, y_pred)"
   ]
  },
  {
   "cell_type": "code",
   "execution_count": 77,
   "metadata": {},
   "outputs": [
    {
     "name": "stdout",
     "output_type": "stream",
     "text": [
      "              precision    recall  f1-score   support\n",
      "\n",
      "           0       0.60      0.09      0.15       578\n",
      "           1       0.94      1.00      0.97      8079\n",
      "\n",
      "    accuracy                           0.94      8657\n",
      "   macro avg       0.77      0.54      0.56      8657\n",
      "weighted avg       0.92      0.94      0.91      8657\n",
      "\n"
     ]
    }
   ],
   "source": [
    "from sklearn.metrics import classification_report\n",
    "\n",
    "report_initial = classification_report(y_test, y_pred)\n",
    "print(report_initial)"
   ]
  },
  {
   "cell_type": "code",
   "execution_count": 78,
   "metadata": {},
   "outputs": [
    {
     "data": {
      "image/png": "[encoded data removed]",
      "text/plain": [
       "<Figure size 432x288 with 1 Axes>"
      ]
     },
     "metadata": {
      "needs_background": "light"
     },
     "output_type": "display_data"
    }
   ],
   "source": [
    "from sklearn.tree import DecisionTreeClassifier\n",
    "\n",
    "best_dt_model = DecisionTreeClassifier(max_depth=d_values[which_max], random_state=1)\n",
    "best_dt_model = best_dt_model.fit(X_remainder, y_remainder)\n",
    "\n",
    "y_pred = best_dt_model.predict_proba(X_test)[:, 1]\n",
    "\n",
    "\n",
    "dt_fprs_test, dt_tprs_test, thresholds_test = roc_curve(y_test, y_pred)\n",
    "\n",
    "dt_auc_value = roc_auc_score(y_test, y_pred)\n",
    "\n",
    "plt.figure()\n",
    "plt.plot(dt_fprs_test, dt_tprs_test, label=f\"DT AUC: {round(dt_auc_value,2)}\")\n",
    "plt.legend()\n",
    "plt.show()"
   ]
  },
  {
   "cell_type": "markdown",
   "metadata": {},
   "source": [
    "<br>"
   ]
  },
  {
   "cell_type": "markdown",
   "metadata": {},
   "source": [
    "### Random Forest"
   ]
  },
  {
   "cell_type": "code",
   "execution_count": 79,
   "metadata": {},
   "outputs": [],
   "source": [
    "X_train, X_validation, X_test, X_remainder, y_train, y_validation, y_test, y_remainder, bagofwords = train_test_split(X,y)"
   ]
  },
  {
   "cell_type": "code",
   "execution_count": 80,
   "metadata": {},
   "outputs": [
    {
     "data": {
      "image/png": "[encoded data removed]",
      "text/plain": [
       "<Figure size 432x288 with 1 Axes>"
      ]
     },
     "metadata": {
      "needs_background": "light"
     },
     "output_type": "display_data"
    }
   ],
   "source": [
    "from sklearn.ensemble import RandomForestClassifier\n",
    "\n",
    "train_scores = []\n",
    "test_scores = []\n",
    "val_scores =[]\n",
    "\n",
    "for n in range(1,50):\n",
    "    rf = RandomForestClassifier(n_estimators = n)\n",
    "    rf.fit(X_train,y_train)\n",
    "    \n",
    "    train_scores.append(rf.score(X_train,y_train))\n",
    "    val_scores.append(rf.score(X_validation, y_validation))\n",
    "    \n",
    "plt.figure()\n",
    "plt.plot(range(1,50), train_scores, label=\"Train\")\n",
    "plt.plot(range(1,50), val_scores, label=\"Validation\")\n",
    "plt.xlabel('N estimators')\n",
    "plt.ylabel('Accuracy score')\n",
    "plt.legend()\n",
    "plt.show()"
   ]
  },
  {
   "cell_type": "code",
   "execution_count": 81,
   "metadata": {},
   "outputs": [
    {
     "data": {
      "image/png": "[encoded data removed]",
      "text/plain": [
       "<Figure size 432x288 with 1 Axes>"
      ]
     },
     "metadata": {
      "needs_background": "light"
     },
     "output_type": "display_data"
    },
    {
     "name": "stdout",
     "output_type": "stream",
     "text": [
      "The best performance using using cross validation is: 30 estimators\n"
     ]
    }
   ],
   "source": [
    "# used 10 folds, ran for 2 hours still not finished\n",
    "\n",
    "from sklearn.model_selection import cross_val_score\n",
    "\n",
    "cv_scores = []\n",
    "\n",
    "for n in range(1,50):\n",
    "    rf = RandomForestClassifier(n_estimators = n)\n",
    "    \n",
    "    cv_score = np.mean(cross_val_score(rf,X_remainder, y_remainder, cv=5))\n",
    "    cv_scores.append(cv_score)\n",
    "\n",
    "plt.figure()\n",
    "plt.plot(range(1,50), cv_scores, label=\"Cross Validation\")\n",
    "plt.xlabel('N estimators')\n",
    "plt.ylabel('Accuracy score')\n",
    "plt.legend()\n",
    "plt.show()\n",
    "\n",
    "n = range(1,50)[np.argmax(cv_scores)]\n",
    "print(f\"The best performance using using cross validation is: {n} estimators\")"
   ]
  },
  {
   "cell_type": "code",
   "execution_count": 82,
   "metadata": {},
   "outputs": [
    {
     "data": {
      "text/plain": [
       "0.9361210581032691"
      ]
     },
     "execution_count": 82,
     "metadata": {},
     "output_type": "execute_result"
    }
   ],
   "source": [
    "best_rf = RandomForestClassifier(n_estimators=n)\n",
    "best_rf.fit(X_remainder, y_remainder)\n",
    "best_rf.score(X_test,y_test)"
   ]
  },
  {
   "cell_type": "code",
   "execution_count": 83,
   "metadata": {},
   "outputs": [
    {
     "data": {
      "text/plain": [
       "array([[  43,  535],\n",
       "       [  18, 8061]], dtype=int64)"
      ]
     },
     "execution_count": 83,
     "metadata": {},
     "output_type": "execute_result"
    }
   ],
   "source": [
    "from sklearn.metrics import confusion_matrix\n",
    "\n",
    "y_pred = best_rf.predict(X_test)\n",
    "\n",
    "confusion_matrix(y_test, y_pred)"
   ]
  },
  {
   "cell_type": "code",
   "execution_count": 84,
   "metadata": {},
   "outputs": [
    {
     "name": "stdout",
     "output_type": "stream",
     "text": [
      "              precision    recall  f1-score   support\n",
      "\n",
      "           0       0.70      0.07      0.13       578\n",
      "           1       0.94      1.00      0.97      8079\n",
      "\n",
      "    accuracy                           0.94      8657\n",
      "   macro avg       0.82      0.54      0.55      8657\n",
      "weighted avg       0.92      0.94      0.91      8657\n",
      "\n"
     ]
    }
   ],
   "source": [
    "from sklearn.metrics import classification_report\n",
    "\n",
    "report_initial = classification_report(y_test, y_pred)\n",
    "print(report_initial)"
   ]
  },
  {
   "cell_type": "code",
   "execution_count": 85,
   "metadata": {},
   "outputs": [
    {
     "data": {
      "image/png": "[encoded data removed]",
      "text/plain": [
       "<Figure size 432x288 with 1 Axes>"
      ]
     },
     "metadata": {
      "needs_background": "light"
     },
     "output_type": "display_data"
    }
   ],
   "source": [
    "best_rf = RandomForestClassifier(n_estimators=n)\n",
    "best_rf = best_rf.fit(X_remainder, y_remainder)\n",
    "y_pred = best_rf.predict_proba(X_test)[:, 1]\n",
    "\n",
    "\n",
    "rf_fprs_test, rf_tprs_test, thresholds_test = roc_curve(y_test, y_pred)\n",
    "\n",
    "rf_auc_value = roc_auc_score(y_test, y_pred)\n",
    "\n",
    "plt.figure()\n",
    "plt.plot(rf_fprs_test, rf_tprs_test, label=f\"Random Forest AUC: {round(rf_auc_value,2)}\")\n",
    "plt.legend()\n",
    "plt.show()"
   ]
  },
  {
   "cell_type": "markdown",
   "metadata": {},
   "source": [
    "<br>"
   ]
  },
  {
   "cell_type": "markdown",
   "metadata": {},
   "source": [
    "### Linear SVC"
   ]
  },
  {
   "cell_type": "code",
   "execution_count": 86,
   "metadata": {},
   "outputs": [],
   "source": [
    "X_train, X_validation, X_test, X_remainder, y_train, y_validation, y_test, y_remainder, bagofwords = train_test_split(X,y)"
   ]
  },
  {
   "cell_type": "code",
   "execution_count": 87,
   "metadata": {},
   "outputs": [
    {
     "data": {
      "image/png": "[encoded data removed]",
      "text/plain": [
       "<Figure size 432x288 with 1 Axes>"
      ]
     },
     "metadata": {
      "needs_background": "light"
     },
     "output_type": "display_data"
    }
   ],
   "source": [
    "from sklearn.svm import LinearSVC\n",
    "\n",
    "train_scores = []\n",
    "test_scores = []\n",
    "val_scores =[]\n",
    "C_values = []\n",
    "\n",
    "for i in range(-5, 6):\n",
    "\n",
    "    linear_SVC = LinearSVC(C=10**i)\n",
    "\n",
    "    linear_SVC.fit(X_train, y_train)\n",
    "    \n",
    "    C_values.append(10**i)\n",
    "    train_scores.append(linear_SVC.score(X_train, y_train))\n",
    "    test_scores.append(linear_SVC.score(X_test, y_test))\n",
    "    val_scores.append(linear_SVC.score(X_validation, y_validation))\n",
    "\n",
    "    \n",
    "plt.figure()\n",
    "plt.plot(C_values, train_scores, label=\"Train\")\n",
    "plt.plot(C_values, val_scores, label=\"Validation\")\n",
    "plt.xscale(\"log\")\n",
    "plt.legend()\n",
    "plt.ylabel(\"Accuracy (%)\")\n",
    "plt.show()"
   ]
  },
  {
   "cell_type": "code",
   "execution_count": 88,
   "metadata": {},
   "outputs": [
    {
     "data": {
      "image/png": "[encoded data removed]",
      "text/plain": [
       "<Figure size 432x288 with 1 Axes>"
      ]
     },
     "metadata": {
      "needs_background": "light"
     },
     "output_type": "display_data"
    },
    {
     "name": "stdout",
     "output_type": "stream",
     "text": [
      "The best model has C =  0.1\n"
     ]
    }
   ],
   "source": [
    "from sklearn.model_selection import cross_val_score\n",
    "\n",
    "cross_validation_scores = []\n",
    "\n",
    "C_range = np.array([.00000001,.0000001,.000001,.00001,.0001,.001,.1,\\\n",
    "                1,10,100,1000,10000,100000,1000000,10000000,100000000,1000000000])\n",
    "\n",
    "#Do some cross validation\n",
    "for c in C_range:\n",
    "    linear_SVC = LinearSVC(C=c)\n",
    "    cv_score = np.mean(cross_val_score(linear_SVC, X_remainder, y_remainder, cv = 10))\n",
    "    cross_validation_scores.append(cv_score)\n",
    "\n",
    "plt.figure()\n",
    "plt.plot(C_range, cross_validation_scores,label=\"Cross Validation Score\",marker='.')\n",
    "plt.legend()\n",
    "plt.xscale(\"log\")\n",
    "plt.xlabel('Regularization Parameter: C')\n",
    "plt.ylabel('Cross Validation Score')\n",
    "plt.grid()\n",
    "plt.show();\n",
    "\n",
    "which_max = np.array(cross_validation_scores).argmax()\n",
    "\n",
    "print(\"The best model has C = \",C_range[which_max])"
   ]
  },
  {
   "cell_type": "code",
   "execution_count": 89,
   "metadata": {},
   "outputs": [
    {
     "data": {
      "image/png": "[encoded data removed]",
      "text/plain": [
       "<Figure size 432x288 with 1 Axes>"
      ]
     },
     "metadata": {
      "needs_background": "light"
     },
     "output_type": "display_data"
    },
    {
     "name": "stdout",
     "output_type": "stream",
     "text": [
      "Score on train: 0.9629187524066231\n",
      "Score on test: 0.940279542566709\n"
     ]
    }
   ],
   "source": [
    "best_linear_SVC = LinearSVC(C=C_range[which_max])\n",
    "best_linear_SVC.fit(X_remainder, y_remainder)\n",
    "\n",
    "linearSVC_fprs_test, linearSVC_tprs_test, thresholds_test = roc_curve(y_test, y_pred)\n",
    "\n",
    "linearSVC_auc_value = roc_auc_score(y_test, y_pred)\n",
    "\n",
    "plt.figure()\n",
    "plt.plot(linearSVC_fprs_test, linearSVC_tprs_test, label=f\"linearSVC AUC: {round(rf_auc_value,2)}\")\n",
    "plt.legend()\n",
    "plt.show()\n",
    "\n",
    "train_score = best_linear_SVC.score(X_remainder,y_remainder)\n",
    "test_score = best_linear_SVC.score(X_test, y_test)\n",
    "\n",
    "print(f'Score on train: {train_score}')\n",
    "print(f'Score on test: {test_score}')"
   ]
  },
  {
   "cell_type": "code",
   "execution_count": 92,
   "metadata": {},
   "outputs": [
    {
     "data": {
      "text/plain": [
       "array([[ 162,  416],\n",
       "       [ 101, 7978]], dtype=int64)"
      ]
     },
     "execution_count": 92,
     "metadata": {},
     "output_type": "execute_result"
    }
   ],
   "source": [
    "from sklearn.metrics import confusion_matrix\n",
    "\n",
    "y_pred = best_linear_SVC.predict(X_test)\n",
    "\n",
    "confusion_matrix(y_test, y_pred)"
   ]
  },
  {
   "cell_type": "code",
   "execution_count": 93,
   "metadata": {},
   "outputs": [
    {
     "name": "stdout",
     "output_type": "stream",
     "text": [
      "              precision    recall  f1-score   support\n",
      "\n",
      "           0       0.62      0.28      0.39       578\n",
      "           1       0.95      0.99      0.97      8079\n",
      "\n",
      "    accuracy                           0.94      8657\n",
      "   macro avg       0.78      0.63      0.68      8657\n",
      "weighted avg       0.93      0.94      0.93      8657\n",
      "\n"
     ]
    }
   ],
   "source": [
    "from sklearn.metrics import classification_report\n",
    "\n",
    "report_initial = classification_report(y_test, y_pred)\n",
    "print(report_initial)"
   ]
  },
  {
   "cell_type": "markdown",
   "metadata": {},
   "source": [
    "<br>\n",
    "<br>"
   ]
  },
  {
   "cell_type": "markdown",
   "metadata": {},
   "source": [
    "### Kernel SVM"
   ]
  },
  {
   "cell_type": "code",
   "execution_count": null,
   "metadata": {},
   "outputs": [],
   "source": [
    "# X_train, X_validation, X_test, X_remainder, y_train, y_validation, y_test, y_remainder, bagofwords = train_test_split(X,y)"
   ]
  },
  {
   "cell_type": "code",
   "execution_count": 95,
   "metadata": {},
   "outputs": [
    {
     "data": {
      "text/plain": [
       "SVC(kernel='sigmoid', max_iter=100000)"
      ]
     },
     "execution_count": 95,
     "metadata": {},
     "output_type": "execute_result"
    }
   ],
   "source": [
    "from sklearn.svm import SVC\n",
    "my_kernel_SVM = SVC(kernel='sigmoid', max_iter=100000)\n",
    "\n",
    "my_kernel_SVM.fit(X_remainder,y_remainder)"
   ]
  },
  {
   "cell_type": "code",
   "execution_count": 96,
   "metadata": {},
   "outputs": [
    {
     "name": "stdout",
     "output_type": "stream",
     "text": [
      "Score on train: 0.9064690026954177\n",
      "Score on test: 0.906549613029918\n"
     ]
    }
   ],
   "source": [
    "train_score = my_kernel_SVM.score(X_remainder,y_remainder)\n",
    "test_score = my_kernel_SVM.score(X_test, y_test)\n",
    "\n",
    "print(f'Score on train: {train_score}')\n",
    "print(f'Score on test: {test_score}')"
   ]
  },
  {
   "cell_type": "code",
   "execution_count": 97,
   "metadata": {},
   "outputs": [
    {
     "data": {
      "text/plain": [
       "array([[ 105,  473],\n",
       "       [ 336, 7743]], dtype=int64)"
      ]
     },
     "execution_count": 97,
     "metadata": {},
     "output_type": "execute_result"
    }
   ],
   "source": [
    "from sklearn.metrics import confusion_matrix\n",
    "\n",
    "y_pred = my_kernel_SVM.predict(X_test)\n",
    "\n",
    "confusion_matrix(y_test, y_pred)"
   ]
  },
  {
   "cell_type": "code",
   "execution_count": 98,
   "metadata": {},
   "outputs": [
    {
     "name": "stdout",
     "output_type": "stream",
     "text": [
      "              precision    recall  f1-score   support\n",
      "\n",
      "           0       0.24      0.18      0.21       578\n",
      "           1       0.94      0.96      0.95      8079\n",
      "\n",
      "    accuracy                           0.91      8657\n",
      "   macro avg       0.59      0.57      0.58      8657\n",
      "weighted avg       0.90      0.91      0.90      8657\n",
      "\n"
     ]
    }
   ],
   "source": [
    "from sklearn.metrics import classification_report\n",
    "\n",
    "report_initial = classification_report(y_test, y_pred)\n",
    "print(report_initial)"
   ]
  },
  {
   "cell_type": "markdown",
   "metadata": {},
   "source": [
    "<br>"
   ]
  },
  {
   "cell_type": "markdown",
   "metadata": {},
   "source": [
    "### Naive Bayes"
   ]
  },
  {
   "cell_type": "code",
   "execution_count": 99,
   "metadata": {},
   "outputs": [
    {
     "data": {
      "text/plain": [
       "0.9331177082130068"
      ]
     },
     "execution_count": 99,
     "metadata": {},
     "output_type": "execute_result"
    }
   ],
   "source": [
    "from sklearn.pipeline import Pipeline\n",
    "from sklearn.model_selection import train_test_split\n",
    "from sklearn.feature_extraction.text import TfidfTransformer\n",
    "\n",
    "# Taking a chuck for our 20% test set\n",
    "X_remainder, X_test, y_remainder, y_test = train_test_split(X, y, stratify=y, test_size=0.25)\n",
    "\n",
    "# Splitting the remainder in two chunks\n",
    "X_train, X_validation, y_train, y_validation = train_test_split(X_remainder, \n",
    "                                                                y_remainder, \n",
    "                                                                stratify=y_remainder, test_size=0.25)\n",
    "\n",
    "\n",
    "from sklearn.naive_bayes import MultinomialNB\n",
    "from sklearn.pipeline import Pipeline\n",
    "clf_multiNB_pipe = Pipeline([(\"vect\", CountVectorizer()), \n",
    "                             (\"tfidf\", TfidfTransformer()),\n",
    "                             (\"clf_nominalNB\", MultinomialNB())])\n",
    "clf_multiNB_pipe.fit(X_train, y_train)\n",
    "\n",
    "predictedMultiNB = clf_multiNB_pipe.predict(X_test)\n",
    "np.mean(predictedMultiNB == y_test)"
   ]
  },
  {
   "cell_type": "code",
   "execution_count": null,
   "metadata": {},
   "outputs": [],
   "source": []
  },
  {
   "cell_type": "markdown",
   "metadata": {},
   "source": [
    "### ROC & AUC"
   ]
  },
  {
   "cell_type": "code",
   "execution_count": null,
   "metadata": {},
   "outputs": [],
   "source": []
  },
  {
   "cell_type": "code",
   "execution_count": null,
   "metadata": {},
   "outputs": [],
   "source": []
  },
  {
   "cell_type": "code",
   "execution_count": null,
   "metadata": {},
   "outputs": [],
   "source": []
  },
  {
   "cell_type": "code",
   "execution_count": null,
   "metadata": {},
   "outputs": [],
   "source": []
  },
  {
   "cell_type": "code",
   "execution_count": null,
   "metadata": {},
   "outputs": [],
   "source": []
  },
  {
   "cell_type": "code",
   "execution_count": null,
   "metadata": {},
   "outputs": [],
   "source": []
  },
  {
   "cell_type": "code",
   "execution_count": null,
   "metadata": {},
   "outputs": [],
   "source": []
  },
  {
   "cell_type": "markdown",
   "metadata": {},
   "source": [
    "### Word embedding with Neural Network"
   ]
  },
  {
   "cell_type": "code",
   "execution_count": 100,
   "metadata": {},
   "outputs": [],
   "source": [
    "from sklearn.model_selection import train_test_split\n",
    "\n",
    "# Taking a chuck for our 20% test set\n",
    "X_train, X_test, y_train, y_test = train_test_split(X, y, stratify=y, test_size=0.25)"
   ]
  },
  {
   "cell_type": "code",
   "execution_count": 101,
   "metadata": {},
   "outputs": [
    {
     "data": {
      "text/plain": [
       "0    [product, far, not, disappoint, children, love...\n",
       "1    [great, beginn, experienc, person, bought, gif...\n",
       "2    [inexpens, tablet, use, learn, step, nabi, thr...\n",
       "3    [ive, fire, hd, 8, two, week, love, tablet, gr...\n",
       "4    [bought, grand, daughter, come, visit, set, us...\n",
       "5    [amazon, fire, 8, inch, tablet, perfect, size,...\n",
       "6    [great, eread, go, nice, light, weight, price,...\n",
       "7    [gave, christma, gift, inlaw, husband, uncl, l...\n",
       "8    [great, devic, read, book, like, link, borrow,...\n",
       "9                    [love, order, book, read, reader]\n",
       "Name: stemmed_tokens, dtype: object"
      ]
     },
     "execution_count": 101,
     "metadata": {},
     "output_type": "execute_result"
    }
   ],
   "source": [
    "reviews_df['stemmed_tokens'] = [my_tokenizer(sentence) for sentence in reviews_df['reviews.text'].values]\n",
    "reviews_df['stemmed_tokens'] .head(10)"
   ]
  },
  {
   "cell_type": "code",
   "execution_count": 102,
   "metadata": {},
   "outputs": [],
   "source": [
    "from tensorflow.keras.preprocessing.text import Tokenizer\n",
    "\n",
    "tokenizer = Tokenizer()\n",
    "tokenizer.fit_on_texts(X_train) # equivalent to .fit(X_train)\n",
    "sequences = tokenizer.texts_to_sequences(X_train) # equivalent to .transform(X_train)"
   ]
  },
  {
   "cell_type": "code",
   "execution_count": 103,
   "metadata": {},
   "outputs": [],
   "source": [
    "import tensorflow as tf\n",
    "train_data = tf.data.Dataset.from_tensor_slices((X_train,y_train))\n",
    "test_data = tf.data.Dataset.from_tensor_slices((X_test, y_test))"
   ]
  },
  {
   "cell_type": "code",
   "execution_count": 104,
   "metadata": {},
   "outputs": [],
   "source": [
    "from tensorflow.keras.preprocessing.sequence import pad_sequences\n",
    "X_train = pad_sequences(sequences, padding='post', truncating='post')\n",
    "X_test = pad_sequences(tokenizer.texts_to_sequences(X_test), padding='post', truncating='post')"
   ]
  },
  {
   "cell_type": "code",
   "execution_count": 105,
   "metadata": {},
   "outputs": [
    {
     "data": {
      "text/plain": [
       "(8657, 664)"
      ]
     },
     "execution_count": 105,
     "metadata": {},
     "output_type": "execute_result"
    }
   ],
   "source": [
    "X_test.shape"
   ]
  },
  {
   "cell_type": "code",
   "execution_count": 106,
   "metadata": {},
   "outputs": [
    {
     "data": {
      "text/plain": [
       "(8657,)"
      ]
     },
     "execution_count": 106,
     "metadata": {},
     "output_type": "execute_result"
    }
   ],
   "source": [
    "y_test.shape"
   ]
  },
  {
   "cell_type": "code",
   "execution_count": 107,
   "metadata": {},
   "outputs": [
    {
     "data": {
      "text/plain": [
       "array([[ 25,   3, 391, ...,   0,   0,   0],\n",
       "       [ 17,  34, 153, ...,   0,   0,   0],\n",
       "       [  4,  17, 587, ...,   0,   0,   0],\n",
       "       ...,\n",
       "       [ 26,  28, 138, ...,   0,   0,   0],\n",
       "       [ 55,  91,   1, ...,   0,   0,   0],\n",
       "       [  9,  73,   8, ...,   0,   0,   0]])"
      ]
     },
     "execution_count": 107,
     "metadata": {},
     "output_type": "execute_result"
    }
   ],
   "source": [
    "X_train"
   ]
  },
  {
   "cell_type": "code",
   "execution_count": 108,
   "metadata": {},
   "outputs": [
    {
     "data": {
      "text/plain": [
       "array([[   4,   23, 1321, ...,    0,    0,    0],\n",
       "       [  25, 1105,   44, ...,    0,    0,    0],\n",
       "       [   9,   14,    8, ...,    0,    0,    0],\n",
       "       ...,\n",
       "       [   1, 3388, 1797, ...,    0,    0,    0],\n",
       "       [   4,  102,   26, ...,    0,    0,    0],\n",
       "       [ 126,  342,  212, ...,    0,    0,    0]])"
      ]
     },
     "execution_count": 108,
     "metadata": {},
     "output_type": "execute_result"
    }
   ],
   "source": [
    "X_test"
   ]
  },
  {
   "cell_type": "code",
   "execution_count": 109,
   "metadata": {},
   "outputs": [],
   "source": [
    "y_train = np.array(y_train)\n",
    "y_test = np.array(y_test)"
   ]
  },
  {
   "cell_type": "code",
   "execution_count": 110,
   "metadata": {},
   "outputs": [
    {
     "name": "stdout",
     "output_type": "stream",
     "text": [
      "Vocabulary size: 14094\n"
     ]
    }
   ],
   "source": [
    "from gensim.models import Word2Vec\n",
    "\n",
    "stemmed_tokens = pd.Series(reviews_df['stemmed_tokens']).values\n",
    "w2v_model = Word2Vec(stemmed_tokens, min_count = 1, size = 1000, workers = 3, window = 3, sg = 1)\n",
    "words = list(w2v_model.wv.vocab)\n",
    "print('Vocabulary size: %d' % len(words))"
   ]
  },
  {
   "cell_type": "code",
   "execution_count": 111,
   "metadata": {},
   "outputs": [
    {
     "name": "stdout",
     "output_type": "stream",
     "text": [
      "Model: \"sequential\"\n",
      "_________________________________________________________________\n",
      "Layer (type)                 Output Shape              Param #   \n",
      "=================================================================\n",
      "embedding (Embedding)        (None, None, 16)          225504    \n",
      "_________________________________________________________________\n",
      "global_average_pooling1d (Gl (None, 16)                0         \n",
      "_________________________________________________________________\n",
      "dense (Dense)                (None, 16)                272       \n",
      "_________________________________________________________________\n",
      "dense_1 (Dense)              (None, 1)                 17        \n",
      "=================================================================\n",
      "Total params: 225,793\n",
      "Trainable params: 225,793\n",
      "Non-trainable params: 0\n",
      "_________________________________________________________________\n"
     ]
    }
   ],
   "source": [
    "embedding_dim=16\n",
    "import tensorflow as tf\n",
    "from tensorflow import keras\n",
    "from tensorflow.keras import layers\n",
    "\n",
    "model = keras.Sequential([\n",
    "  layers.Embedding(len(words), embedding_dim),\n",
    "  layers.GlobalAveragePooling1D(),\n",
    "  layers.Dense(16, activation='relu'),\n",
    "  layers.Dense(1)\n",
    "])\n",
    "\n",
    "model.summary()"
   ]
  },
  {
   "cell_type": "code",
   "execution_count": 112,
   "metadata": {},
   "outputs": [
    {
     "name": "stdout",
     "output_type": "stream",
     "text": [
      "Epoch 1/100\n",
      "812/812 [==============================] - 6s 7ms/step - loss: 0.2836 - accuracy: 0.8729 - val_loss: 0.2415 - val_accuracy: 0.9332\n",
      "Epoch 2/100\n",
      "812/812 [==============================] - 6s 7ms/step - loss: 0.2435 - accuracy: 0.9332 - val_loss: 0.2398 - val_accuracy: 0.9331\n",
      "Epoch 3/100\n",
      "812/812 [==============================] - 7s 8ms/step - loss: 0.2425 - accuracy: 0.9332 - val_loss: 0.2362 - val_accuracy: 0.9330\n",
      "Epoch 4/100\n",
      "812/812 [==============================] - 6s 7ms/step - loss: 0.2412 - accuracy: 0.9333 - val_loss: 0.2346 - val_accuracy: 0.9331\n",
      "Epoch 5/100\n",
      "812/812 [==============================] - 6s 7ms/step - loss: 0.2396 - accuracy: 0.9333 - val_loss: 0.2351 - val_accuracy: 0.9332\n",
      "Epoch 6/100\n",
      "812/812 [==============================] - 6s 8ms/step - loss: 0.2375 - accuracy: 0.9333 - val_loss: 0.2289 - val_accuracy: 0.9332\n",
      "Epoch 7/100\n",
      "812/812 [==============================] - 7s 9ms/step - loss: 0.2348 - accuracy: 0.9333 - val_loss: 0.2269 - val_accuracy: 0.9332\n",
      "Epoch 8/100\n",
      "812/812 [==============================] - 6s 8ms/step - loss: 0.2309 - accuracy: 0.9332 - val_loss: 0.2270 - val_accuracy: 0.9332\n",
      "Epoch 9/100\n",
      "812/812 [==============================] - 6s 7ms/step - loss: 0.2258 - accuracy: 0.9330 - val_loss: 0.2221 - val_accuracy: 0.9325\n",
      "Epoch 10/100\n",
      "812/812 [==============================] - 6s 8ms/step - loss: 0.2192 - accuracy: 0.9328 - val_loss: 0.2176 - val_accuracy: 0.9150\n",
      "Epoch 11/100\n",
      "812/812 [==============================] - 6s 8ms/step - loss: 0.2112 - accuracy: 0.9326 - val_loss: 0.2137 - val_accuracy: 0.8971\n",
      "Epoch 12/100\n",
      "812/812 [==============================] - 6s 8ms/step - loss: 0.2015 - accuracy: 0.9329 - val_loss: 0.2075 - val_accuracy: 0.8929\n",
      "Epoch 13/100\n",
      "812/812 [==============================] - 7s 8ms/step - loss: 0.1914 - accuracy: 0.9349 - val_loss: 0.2027 - val_accuracy: 0.8927\n",
      "Epoch 14/100\n",
      "812/812 [==============================] - 6s 8ms/step - loss: 0.1816 - accuracy: 0.9368 - val_loss: 0.1960 - val_accuracy: 0.9037\n",
      "Epoch 15/100\n",
      "812/812 [==============================] - 7s 8ms/step - loss: 0.1735 - accuracy: 0.9373 - val_loss: 0.1991 - val_accuracy: 0.9053\n",
      "Epoch 16/100\n",
      "812/812 [==============================] - 6s 7ms/step - loss: 0.1666 - accuracy: 0.9392 - val_loss: 0.2108 - val_accuracy: 0.9014\n",
      "Epoch 17/100\n",
      "812/812 [==============================] - 6s 7ms/step - loss: 0.1606 - accuracy: 0.9408 - val_loss: 0.2152 - val_accuracy: 0.9061\n",
      "Epoch 18/100\n",
      "812/812 [==============================] - 6s 8ms/step - loss: 0.1561 - accuracy: 0.9423 - val_loss: 0.2216 - val_accuracy: 0.9111\n",
      "Epoch 19/100\n",
      "812/812 [==============================] - 6s 7ms/step - loss: 0.1533 - accuracy: 0.9427 - val_loss: 0.2259 - val_accuracy: 0.9128\n",
      "Epoch 20/100\n",
      "812/812 [==============================] - 6s 7ms/step - loss: 0.1504 - accuracy: 0.9437 - val_loss: 0.2299 - val_accuracy: 0.9152\n",
      "Epoch 21/100\n",
      "812/812 [==============================] - 6s 7ms/step - loss: 0.1476 - accuracy: 0.9441 - val_loss: 0.2361 - val_accuracy: 0.9199\n",
      "Epoch 22/100\n",
      "812/812 [==============================] - 6s 7ms/step - loss: 0.1454 - accuracy: 0.9449 - val_loss: 0.2394 - val_accuracy: 0.9098\n",
      "Epoch 23/100\n",
      "812/812 [==============================] - 6s 8ms/step - loss: 0.1442 - accuracy: 0.9461 - val_loss: 0.2423 - val_accuracy: 0.9190\n",
      "Epoch 24/100\n",
      "812/812 [==============================] - 6s 7ms/step - loss: 0.1416 - accuracy: 0.9479 - val_loss: 0.2467 - val_accuracy: 0.9182\n",
      "Epoch 25/100\n",
      "812/812 [==============================] - 6s 7ms/step - loss: 0.1399 - accuracy: 0.9487 - val_loss: 0.2560 - val_accuracy: 0.9297\n",
      "Epoch 26/100\n",
      "812/812 [==============================] - 6s 7ms/step - loss: 0.1378 - accuracy: 0.9490 - val_loss: 0.2503 - val_accuracy: 0.9194\n",
      "Epoch 27/100\n",
      "812/812 [==============================] - 6s 7ms/step - loss: 0.1356 - accuracy: 0.9506 - val_loss: 0.2566 - val_accuracy: 0.9077\n",
      "Epoch 28/100\n",
      "812/812 [==============================] - 6s 7ms/step - loss: 0.1345 - accuracy: 0.9508 - val_loss: 0.2536 - val_accuracy: 0.9206\n",
      "Epoch 29/100\n",
      "812/812 [==============================] - 6s 7ms/step - loss: 0.1325 - accuracy: 0.9514 - val_loss: 0.2562 - val_accuracy: 0.9187\n",
      "Epoch 30/100\n",
      "812/812 [==============================] - 6s 7ms/step - loss: 0.1312 - accuracy: 0.9525 - val_loss: 0.2610 - val_accuracy: 0.9231\n",
      "Epoch 31/100\n",
      "812/812 [==============================] - 6s 7ms/step - loss: 0.1289 - accuracy: 0.9533 - val_loss: 0.2636 - val_accuracy: 0.9249\n",
      "Epoch 32/100\n",
      "812/812 [==============================] - 6s 7ms/step - loss: 0.1279 - accuracy: 0.9540 - val_loss: 0.2659 - val_accuracy: 0.9150\n",
      "Epoch 33/100\n",
      "812/812 [==============================] - 6s 7ms/step - loss: 0.1259 - accuracy: 0.9553 - val_loss: 0.2663 - val_accuracy: 0.9208\n",
      "Epoch 34/100\n",
      "812/812 [==============================] - 6s 7ms/step - loss: 0.1259 - accuracy: 0.9546 - val_loss: 0.2690 - val_accuracy: 0.9183\n",
      "Epoch 35/100\n",
      "812/812 [==============================] - 6s 7ms/step - loss: 0.1239 - accuracy: 0.9550 - val_loss: 0.2699 - val_accuracy: 0.9240\n",
      "Epoch 36/100\n",
      "812/812 [==============================] - 6s 7ms/step - loss: 0.1229 - accuracy: 0.9563 - val_loss: 0.2729 - val_accuracy: 0.9181\n",
      "Epoch 37/100\n",
      "812/812 [==============================] - 6s 7ms/step - loss: 0.1211 - accuracy: 0.9560 - val_loss: 0.2772 - val_accuracy: 0.9268\n",
      "Epoch 38/100\n",
      "812/812 [==============================] - 6s 7ms/step - loss: 0.1198 - accuracy: 0.9576 - val_loss: 0.2793 - val_accuracy: 0.9258\n",
      "Epoch 39/100\n",
      "812/812 [==============================] - 6s 7ms/step - loss: 0.1182 - accuracy: 0.9584 - val_loss: 0.2804 - val_accuracy: 0.9231\n",
      "Epoch 40/100\n",
      "812/812 [==============================] - 6s 7ms/step - loss: 0.1174 - accuracy: 0.9581 - val_loss: 0.2856 - val_accuracy: 0.9272\n",
      "Epoch 41/100\n",
      "812/812 [==============================] - 6s 7ms/step - loss: 0.1164 - accuracy: 0.9580 - val_loss: 0.2865 - val_accuracy: 0.9172\n",
      "Epoch 42/100\n",
      "812/812 [==============================] - 6s 7ms/step - loss: 0.1154 - accuracy: 0.9591 - val_loss: 0.2860 - val_accuracy: 0.9176\n",
      "Epoch 43/100\n",
      "812/812 [==============================] - 6s 7ms/step - loss: 0.1139 - accuracy: 0.9593 - val_loss: 0.2865 - val_accuracy: 0.9194\n",
      "Epoch 44/100\n",
      "812/812 [==============================] - 6s 7ms/step - loss: 0.1138 - accuracy: 0.9595 - val_loss: 0.2894 - val_accuracy: 0.9250\n",
      "Epoch 45/100\n",
      "812/812 [==============================] - 6s 7ms/step - loss: 0.1119 - accuracy: 0.9601 - val_loss: 0.2945 - val_accuracy: 0.9271\n",
      "Epoch 46/100\n",
      "812/812 [==============================] - 6s 7ms/step - loss: 0.1105 - accuracy: 0.9605 - val_loss: 0.3052 - val_accuracy: 0.9313\n",
      "Epoch 47/100\n",
      "812/812 [==============================] - 6s 7ms/step - loss: 0.1099 - accuracy: 0.9599 - val_loss: 0.3085 - val_accuracy: 0.9328\n",
      "Epoch 48/100\n",
      "812/812 [==============================] - 6s 7ms/step - loss: 0.1084 - accuracy: 0.9612 - val_loss: 0.3015 - val_accuracy: 0.9250\n",
      "Epoch 49/100\n",
      "812/812 [==============================] - 6s 7ms/step - loss: 0.1076 - accuracy: 0.9613 - val_loss: 0.3072 - val_accuracy: 0.9123\n",
      "Epoch 50/100\n",
      "812/812 [==============================] - 6s 7ms/step - loss: 0.1068 - accuracy: 0.9612 - val_loss: 0.3085 - val_accuracy: 0.9297\n",
      "Epoch 51/100\n",
      "812/812 [==============================] - 6s 7ms/step - loss: 0.1052 - accuracy: 0.9629 - val_loss: 0.3165 - val_accuracy: 0.9270\n",
      "Epoch 52/100\n",
      "812/812 [==============================] - 6s 7ms/step - loss: 0.1050 - accuracy: 0.9620 - val_loss: 0.3157 - val_accuracy: 0.9171\n",
      "Epoch 53/100\n",
      "812/812 [==============================] - 6s 7ms/step - loss: 0.1034 - accuracy: 0.9631 - val_loss: 0.3187 - val_accuracy: 0.9196\n",
      "Epoch 54/100\n",
      "812/812 [==============================] - 6s 7ms/step - loss: 0.1026 - accuracy: 0.9633 - val_loss: 0.3195 - val_accuracy: 0.9195\n",
      "Epoch 55/100\n",
      "812/812 [==============================] - 6s 7ms/step - loss: 0.1017 - accuracy: 0.9640 - val_loss: 0.3311 - val_accuracy: 0.9293\n",
      "Epoch 56/100\n",
      "812/812 [==============================] - 6s 7ms/step - loss: 0.1021 - accuracy: 0.9620 - val_loss: 0.3326 - val_accuracy: 0.9300\n",
      "Epoch 57/100\n",
      "812/812 [==============================] - 6s 7ms/step - loss: 0.0990 - accuracy: 0.9652 - val_loss: 0.3337 - val_accuracy: 0.9285\n"
     ]
    },
    {
     "name": "stdout",
     "output_type": "stream",
     "text": [
      "Epoch 58/100\n",
      "812/812 [==============================] - 6s 7ms/step - loss: 0.1002 - accuracy: 0.9642 - val_loss: 0.3490 - val_accuracy: 0.9330\n",
      "Epoch 59/100\n",
      "812/812 [==============================] - 6s 7ms/step - loss: 0.0991 - accuracy: 0.9647 - val_loss: 0.3394 - val_accuracy: 0.9212\n",
      "Epoch 60/100\n",
      "812/812 [==============================] - 6s 7ms/step - loss: 0.0969 - accuracy: 0.9666 - val_loss: 0.3458 - val_accuracy: 0.9271\n",
      "Epoch 61/100\n",
      "812/812 [==============================] - 6s 7ms/step - loss: 0.0974 - accuracy: 0.9643 - val_loss: 0.3470 - val_accuracy: 0.9273\n",
      "Epoch 62/100\n",
      "812/812 [==============================] - 6s 7ms/step - loss: 0.0951 - accuracy: 0.9668 - val_loss: 0.3485 - val_accuracy: 0.9253\n",
      "Epoch 63/100\n",
      "812/812 [==============================] - 6s 7ms/step - loss: 0.0950 - accuracy: 0.9665 - val_loss: 0.3552 - val_accuracy: 0.9265\n",
      "Epoch 64/100\n",
      "812/812 [==============================] - 6s 7ms/step - loss: 0.0949 - accuracy: 0.9654 - val_loss: 0.3578 - val_accuracy: 0.9218\n",
      "Epoch 65/100\n",
      "812/812 [==============================] - 6s 7ms/step - loss: 0.0930 - accuracy: 0.9668 - val_loss: 0.3651 - val_accuracy: 0.9234\n",
      "Epoch 66/100\n",
      "812/812 [==============================] - 6s 7ms/step - loss: 0.0925 - accuracy: 0.9667 - val_loss: 0.3623 - val_accuracy: 0.9186\n",
      "Epoch 67/100\n",
      "812/812 [==============================] - 6s 7ms/step - loss: 0.0910 - accuracy: 0.9683 - val_loss: 0.3776 - val_accuracy: 0.9291\n",
      "Epoch 68/100\n",
      "812/812 [==============================] - 6s 7ms/step - loss: 0.0910 - accuracy: 0.9676 - val_loss: 0.3797 - val_accuracy: 0.9254\n",
      "Epoch 69/100\n",
      "812/812 [==============================] - 6s 7ms/step - loss: 0.0896 - accuracy: 0.9681 - val_loss: 0.3822 - val_accuracy: 0.9167\n",
      "Epoch 70/100\n",
      "812/812 [==============================] - 6s 7ms/step - loss: 0.0893 - accuracy: 0.9678 - val_loss: 0.3882 - val_accuracy: 0.9238\n",
      "Epoch 71/100\n",
      "812/812 [==============================] - 6s 7ms/step - loss: 0.0876 - accuracy: 0.9682 - val_loss: 0.3929 - val_accuracy: 0.9175\n",
      "Epoch 72/100\n",
      "812/812 [==============================] - 6s 7ms/step - loss: 0.0882 - accuracy: 0.9682 - val_loss: 0.4132 - val_accuracy: 0.9323\n",
      "Epoch 73/100\n",
      "812/812 [==============================] - 6s 7ms/step - loss: 0.0874 - accuracy: 0.9697 - val_loss: 0.4095 - val_accuracy: 0.9280\n",
      "Epoch 74/100\n",
      "812/812 [==============================] - 6s 7ms/step - loss: 0.0875 - accuracy: 0.9695 - val_loss: 0.4071 - val_accuracy: 0.9227\n",
      "Epoch 75/100\n",
      "812/812 [==============================] - 6s 7ms/step - loss: 0.0845 - accuracy: 0.9699 - val_loss: 0.4118 - val_accuracy: 0.9188\n",
      "Epoch 76/100\n",
      "812/812 [==============================] - 6s 8ms/step - loss: 0.0847 - accuracy: 0.9702 - val_loss: 0.4194 - val_accuracy: 0.9189\n",
      "Epoch 77/100\n",
      "812/812 [==============================] - 6s 8ms/step - loss: 0.0844 - accuracy: 0.9698 - val_loss: 0.4260 - val_accuracy: 0.9239\n",
      "Epoch 78/100\n",
      "812/812 [==============================] - 7s 8ms/step - loss: 0.0834 - accuracy: 0.9712 - val_loss: 0.4330 - val_accuracy: 0.9191\n",
      "Epoch 79/100\n",
      "812/812 [==============================] - 7s 8ms/step - loss: 0.0823 - accuracy: 0.9714 - val_loss: 0.4378 - val_accuracy: 0.9153\n",
      "Epoch 80/100\n",
      "812/812 [==============================] - 6s 7ms/step - loss: 0.0840 - accuracy: 0.9698 - val_loss: 0.4403 - val_accuracy: 0.9172\n",
      "Epoch 81/100\n",
      "812/812 [==============================] - 6s 7ms/step - loss: 0.0809 - accuracy: 0.9714 - val_loss: 0.4507 - val_accuracy: 0.9251\n",
      "Epoch 82/100\n",
      "812/812 [==============================] - 6s 7ms/step - loss: 0.0815 - accuracy: 0.9712 - val_loss: 0.4518 - val_accuracy: 0.9178\n",
      "Epoch 83/100\n",
      "812/812 [==============================] - 6s 7ms/step - loss: 0.0799 - accuracy: 0.9715 - val_loss: 0.4610 - val_accuracy: 0.9245\n",
      "Epoch 84/100\n",
      "812/812 [==============================] - 6s 7ms/step - loss: 0.0800 - accuracy: 0.9710 - val_loss: 0.4580 - val_accuracy: 0.9205\n",
      "Epoch 85/100\n",
      "812/812 [==============================] - 6s 7ms/step - loss: 0.0802 - accuracy: 0.9712 - val_loss: 0.4705 - val_accuracy: 0.9166\n",
      "Epoch 86/100\n",
      "812/812 [==============================] - 6s 7ms/step - loss: 0.0789 - accuracy: 0.9714 - val_loss: 0.4764 - val_accuracy: 0.9119\n",
      "Epoch 87/100\n",
      "812/812 [==============================] - 6s 7ms/step - loss: 0.0802 - accuracy: 0.9715 - val_loss: 0.4852 - val_accuracy: 0.9151\n",
      "Epoch 88/100\n",
      "812/812 [==============================] - 6s 7ms/step - loss: 0.0777 - accuracy: 0.9723 - val_loss: 0.4875 - val_accuracy: 0.9144\n",
      "Epoch 89/100\n",
      "812/812 [==============================] - 6s 8ms/step - loss: 0.0753 - accuracy: 0.9735 - val_loss: 0.4941 - val_accuracy: 0.9168\n",
      "Epoch 90/100\n",
      "812/812 [==============================] - 6s 7ms/step - loss: 0.0763 - accuracy: 0.9734 - val_loss: 0.5004 - val_accuracy: 0.9206\n",
      "Epoch 91/100\n",
      "812/812 [==============================] - 6s 7ms/step - loss: 0.0750 - accuracy: 0.9736 - val_loss: 0.5051 - val_accuracy: 0.9102\n",
      "Epoch 92/100\n",
      "812/812 [==============================] - 6s 7ms/step - loss: 0.0757 - accuracy: 0.9729 - val_loss: 0.5147 - val_accuracy: 0.9220\n",
      "Epoch 93/100\n",
      "812/812 [==============================] - 6s 8ms/step - loss: 0.0747 - accuracy: 0.9737 - val_loss: 0.5207 - val_accuracy: 0.9220\n",
      "Epoch 94/100\n",
      "812/812 [==============================] - 6s 7ms/step - loss: 0.0740 - accuracy: 0.9739 - val_loss: 0.5209 - val_accuracy: 0.9195\n",
      "Epoch 95/100\n",
      "812/812 [==============================] - 6s 7ms/step - loss: 0.0735 - accuracy: 0.9743 - val_loss: 0.5296 - val_accuracy: 0.9179\n",
      "Epoch 96/100\n",
      "812/812 [==============================] - 6s 7ms/step - loss: 0.0716 - accuracy: 0.9747 - val_loss: 0.5398 - val_accuracy: 0.9135\n",
      "Epoch 97/100\n",
      "812/812 [==============================] - 6s 7ms/step - loss: 0.0721 - accuracy: 0.9741 - val_loss: 0.5693 - val_accuracy: 0.9269\n",
      "Epoch 98/100\n",
      "812/812 [==============================] - 6s 7ms/step - loss: 0.0712 - accuracy: 0.9740 - val_loss: 0.5579 - val_accuracy: 0.9219\n",
      "Epoch 99/100\n",
      "812/812 [==============================] - 6s 8ms/step - loss: 0.0718 - accuracy: 0.9751 - val_loss: 0.5721 - val_accuracy: 0.9089\n",
      "Epoch 100/100\n",
      "812/812 [==============================] - 6s 7ms/step - loss: 0.0695 - accuracy: 0.9755 - val_loss: 0.5714 - val_accuracy: 0.9221\n"
     ]
    }
   ],
   "source": [
    "model.compile(optimizer='adam',\n",
    "              loss=tf.keras.losses.BinaryCrossentropy(from_logits=True),\n",
    "              metrics=['accuracy'])\n",
    "\n",
    "history = model.fit(X_train, y_train, epochs=100, validation_data=(X_test, y_test))"
   ]
  },
  {
   "cell_type": "code",
   "execution_count": 113,
   "metadata": {},
   "outputs": [
    {
     "data": {
      "image/png": "[encoded data removed]",
      "text/plain": [
       "<Figure size 864x648 with 1 Axes>"
      ]
     },
     "metadata": {
      "needs_background": "light"
     },
     "output_type": "display_data"
    },
    {
     "data": {
      "image/png": "[encoded data removed]",
      "text/plain": [
       "<Figure size 864x648 with 1 Axes>"
      ]
     },
     "metadata": {
      "needs_background": "light"
     },
     "output_type": "display_data"
    }
   ],
   "source": [
    "history_dict = history.history\n",
    "\n",
    "acc = history_dict['accuracy']\n",
    "val_acc = history_dict['val_accuracy']\n",
    "loss=history_dict['loss']\n",
    "val_loss=history_dict['val_loss']\n",
    "\n",
    "epochs = range(1, len(acc) + 1)\n",
    "\n",
    "plt.figure(figsize=(12,9))\n",
    "plt.plot(epochs, loss, 'bo', label='Training loss')\n",
    "plt.plot(epochs, val_loss, 'b', label='Validation loss')\n",
    "plt.title('Training and validation loss')\n",
    "plt.xlabel('Epochs')\n",
    "plt.ylabel('Loss')\n",
    "plt.legend()\n",
    "plt.show()\n",
    "\n",
    "plt.figure(figsize=(12,9))\n",
    "plt.plot(epochs, acc, 'bo', label='Training acc')\n",
    "plt.plot(epochs, val_acc, 'b', label='Validation acc')\n",
    "plt.title('Training and validation accuracy')\n",
    "plt.xlabel('Epochs')\n",
    "plt.ylabel('Accuracy')\n",
    "plt.legend(loc='lower right')\n",
    "plt.ylim((0.5,1))\n",
    "plt.show()"
   ]
  },
  {
   "cell_type": "code",
   "execution_count": null,
   "metadata": {},
   "outputs": [],
   "source": []
  },
  {
   "cell_type": "code",
   "execution_count": null,
   "metadata": {},
   "outputs": [],
   "source": []
  }
 ],
 "metadata": {
  "kernelspec": {
   "display_name": "deeplearning",
   "language": "python",
   "name": "deeplearning"
  },
  "language_info": {
   "codemirror_mode": {
    "name": "ipython",
    "version": 3
   },
   "file_extension": ".py",
   "mimetype": "text/x-python",
   "name": "python",
   "nbconvert_exporter": "python",
   "pygments_lexer": "ipython3",
   "version": "3.8.5"
  }
 },
 "nbformat": 4,
 "nbformat_minor": 4
}
