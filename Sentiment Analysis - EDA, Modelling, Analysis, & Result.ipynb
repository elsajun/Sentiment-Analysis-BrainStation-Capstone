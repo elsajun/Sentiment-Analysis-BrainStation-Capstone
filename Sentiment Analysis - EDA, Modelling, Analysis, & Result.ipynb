{
 "cells": [
  {
   "cell_type": "markdown",
   "metadata": {},
   "source": [
    "# Sentiment Analysis - EDA, Modelling, Analysis, & Result"
   ]
  },
  {
   "cell_type": "code",
   "execution_count": 1,
   "metadata": {},
   "outputs": [],
   "source": [
    "import numpy as np\n",
    "import pandas as pd\n",
    "import matplotlib.pyplot as plt\n",
    "%matplotlib inline\n",
    "import seaborn as sns"
   ]
  },
  {
   "cell_type": "code",
   "execution_count": 2,
   "metadata": {},
   "outputs": [
    {
     "data": {
      "text/html": [
       "<div>\n",
       "<style scoped>\n",
       "    .dataframe tbody tr th:only-of-type {\n",
       "        vertical-align: middle;\n",
       "    }\n",
       "\n",
       "    .dataframe tbody tr th {\n",
       "        vertical-align: top;\n",
       "    }\n",
       "\n",
       "    .dataframe thead th {\n",
       "        text-align: right;\n",
       "    }\n",
       "</style>\n",
       "<table border=\"1\" class=\"dataframe\">\n",
       "  <thead>\n",
       "    <tr style=\"text-align: right;\">\n",
       "      <th></th>\n",
       "      <th>0</th>\n",
       "    </tr>\n",
       "  </thead>\n",
       "  <tbody>\n",
       "    <tr>\n",
       "      <th>id</th>\n",
       "      <td>AVqkIhwDv8e3D1O-lebb</td>\n",
       "    </tr>\n",
       "    <tr>\n",
       "      <th>name</th>\n",
       "      <td>All-New Fire HD 8 Tablet, 8 HD Display, Wi-Fi,...</td>\n",
       "    </tr>\n",
       "    <tr>\n",
       "      <th>asins</th>\n",
       "      <td>B01AHB9CN2</td>\n",
       "    </tr>\n",
       "    <tr>\n",
       "      <th>brand</th>\n",
       "      <td>Amazon</td>\n",
       "    </tr>\n",
       "    <tr>\n",
       "      <th>categories</th>\n",
       "      <td>Electronics,iPad &amp; Tablets,All Tablets,Fire Ta...</td>\n",
       "    </tr>\n",
       "    <tr>\n",
       "      <th>keys</th>\n",
       "      <td>841667104676,amazon/53004484,amazon/b01ahb9cn2...</td>\n",
       "    </tr>\n",
       "    <tr>\n",
       "      <th>manufacturer</th>\n",
       "      <td>Amazon</td>\n",
       "    </tr>\n",
       "    <tr>\n",
       "      <th>reviews.date</th>\n",
       "      <td>2017-01-13T00:00:00.000Z</td>\n",
       "    </tr>\n",
       "    <tr>\n",
       "      <th>reviews.dateAdded</th>\n",
       "      <td>2017-07-03T23:33:15Z</td>\n",
       "    </tr>\n",
       "    <tr>\n",
       "      <th>reviews.dateSeen</th>\n",
       "      <td>2017-06-07T09:04:00.000Z,2017-04-30T00:45:00.000Z</td>\n",
       "    </tr>\n",
       "    <tr>\n",
       "      <th>reviews.didPurchase</th>\n",
       "      <td>NaN</td>\n",
       "    </tr>\n",
       "    <tr>\n",
       "      <th>reviews.doRecommend</th>\n",
       "      <td>True</td>\n",
       "    </tr>\n",
       "    <tr>\n",
       "      <th>reviews.id</th>\n",
       "      <td>NaN</td>\n",
       "    </tr>\n",
       "    <tr>\n",
       "      <th>reviews.numHelpful</th>\n",
       "      <td>0</td>\n",
       "    </tr>\n",
       "    <tr>\n",
       "      <th>reviews.rating</th>\n",
       "      <td>5</td>\n",
       "    </tr>\n",
       "    <tr>\n",
       "      <th>reviews.sourceURLs</th>\n",
       "      <td>http://reviews.bestbuy.com/3545/5620406/review...</td>\n",
       "    </tr>\n",
       "    <tr>\n",
       "      <th>reviews.text</th>\n",
       "      <td>This product so far has not disappointed. My c...</td>\n",
       "    </tr>\n",
       "    <tr>\n",
       "      <th>reviews.title</th>\n",
       "      <td>Kindle</td>\n",
       "    </tr>\n",
       "    <tr>\n",
       "      <th>reviews.userCity</th>\n",
       "      <td>NaN</td>\n",
       "    </tr>\n",
       "    <tr>\n",
       "      <th>reviews.userProvince</th>\n",
       "      <td>NaN</td>\n",
       "    </tr>\n",
       "    <tr>\n",
       "      <th>reviews.username</th>\n",
       "      <td>Adapter</td>\n",
       "    </tr>\n",
       "  </tbody>\n",
       "</table>\n",
       "</div>"
      ],
      "text/plain": [
       "                                                                      0\n",
       "id                                                 AVqkIhwDv8e3D1O-lebb\n",
       "name                  All-New Fire HD 8 Tablet, 8 HD Display, Wi-Fi,...\n",
       "asins                                                        B01AHB9CN2\n",
       "brand                                                            Amazon\n",
       "categories            Electronics,iPad & Tablets,All Tablets,Fire Ta...\n",
       "keys                  841667104676,amazon/53004484,amazon/b01ahb9cn2...\n",
       "manufacturer                                                     Amazon\n",
       "reviews.date                                   2017-01-13T00:00:00.000Z\n",
       "reviews.dateAdded                                  2017-07-03T23:33:15Z\n",
       "reviews.dateSeen      2017-06-07T09:04:00.000Z,2017-04-30T00:45:00.000Z\n",
       "reviews.didPurchase                                                 NaN\n",
       "reviews.doRecommend                                                True\n",
       "reviews.id                                                          NaN\n",
       "reviews.numHelpful                                                    0\n",
       "reviews.rating                                                        5\n",
       "reviews.sourceURLs    http://reviews.bestbuy.com/3545/5620406/review...\n",
       "reviews.text          This product so far has not disappointed. My c...\n",
       "reviews.title                                                    Kindle\n",
       "reviews.userCity                                                    NaN\n",
       "reviews.userProvince                                                NaN\n",
       "reviews.username                                                Adapter"
      ]
     },
     "execution_count": 2,
     "metadata": {},
     "output_type": "execute_result"
    }
   ],
   "source": [
    "import sys\n",
    "\n",
    "if not sys.warnoptions:\n",
    "    import warnings\n",
    "    warnings.simplefilter(\"ignore\")\n",
    "    \n",
    "reviews_df = pd.read_csv('data/Amazon Reviews.csv')\n",
    "reviews_df.head(1).transpose()"
   ]
  },
  {
   "cell_type": "code",
   "execution_count": 3,
   "metadata": {},
   "outputs": [
    {
     "data": {
      "text/plain": [
       "(34660, 21)"
      ]
     },
     "execution_count": 3,
     "metadata": {},
     "output_type": "execute_result"
    }
   ],
   "source": [
    "reviews_df.shape"
   ]
  },
  {
   "cell_type": "markdown",
   "metadata": {},
   "source": [
    "Dataset size : 34,660 rows and 21 columns"
   ]
  },
  {
   "cell_type": "markdown",
   "metadata": {},
   "source": [
    "- Reviews rating < 4 is negative. Rating >=4 is positive\n",
    "- The text reviews of each product will be rich enough to train a sentiment analysis classifier "
   ]
  },
  {
   "cell_type": "code",
   "execution_count": 4,
   "metadata": {},
   "outputs": [
    {
     "data": {
      "text/html": [
       "<div>\n",
       "<style scoped>\n",
       "    .dataframe tbody tr th:only-of-type {\n",
       "        vertical-align: middle;\n",
       "    }\n",
       "\n",
       "    .dataframe tbody tr th {\n",
       "        vertical-align: top;\n",
       "    }\n",
       "\n",
       "    .dataframe thead th {\n",
       "        text-align: right;\n",
       "    }\n",
       "</style>\n",
       "<table border=\"1\" class=\"dataframe\">\n",
       "  <thead>\n",
       "    <tr style=\"text-align: right;\">\n",
       "      <th></th>\n",
       "      <th>reviews.id</th>\n",
       "      <th>reviews.numHelpful</th>\n",
       "      <th>reviews.rating</th>\n",
       "      <th>reviews.userCity</th>\n",
       "      <th>reviews.userProvince</th>\n",
       "    </tr>\n",
       "  </thead>\n",
       "  <tbody>\n",
       "    <tr>\n",
       "      <th>count</th>\n",
       "      <td>1.0</td>\n",
       "      <td>34131.000000</td>\n",
       "      <td>34627.000000</td>\n",
       "      <td>0.0</td>\n",
       "      <td>0.0</td>\n",
       "    </tr>\n",
       "    <tr>\n",
       "      <th>mean</th>\n",
       "      <td>111372787.0</td>\n",
       "      <td>0.630248</td>\n",
       "      <td>4.584573</td>\n",
       "      <td>NaN</td>\n",
       "      <td>NaN</td>\n",
       "    </tr>\n",
       "    <tr>\n",
       "      <th>std</th>\n",
       "      <td>NaN</td>\n",
       "      <td>13.215775</td>\n",
       "      <td>0.735653</td>\n",
       "      <td>NaN</td>\n",
       "      <td>NaN</td>\n",
       "    </tr>\n",
       "    <tr>\n",
       "      <th>min</th>\n",
       "      <td>111372787.0</td>\n",
       "      <td>0.000000</td>\n",
       "      <td>1.000000</td>\n",
       "      <td>NaN</td>\n",
       "      <td>NaN</td>\n",
       "    </tr>\n",
       "    <tr>\n",
       "      <th>25%</th>\n",
       "      <td>111372787.0</td>\n",
       "      <td>0.000000</td>\n",
       "      <td>4.000000</td>\n",
       "      <td>NaN</td>\n",
       "      <td>NaN</td>\n",
       "    </tr>\n",
       "    <tr>\n",
       "      <th>50%</th>\n",
       "      <td>111372787.0</td>\n",
       "      <td>0.000000</td>\n",
       "      <td>5.000000</td>\n",
       "      <td>NaN</td>\n",
       "      <td>NaN</td>\n",
       "    </tr>\n",
       "    <tr>\n",
       "      <th>75%</th>\n",
       "      <td>111372787.0</td>\n",
       "      <td>0.000000</td>\n",
       "      <td>5.000000</td>\n",
       "      <td>NaN</td>\n",
       "      <td>NaN</td>\n",
       "    </tr>\n",
       "    <tr>\n",
       "      <th>max</th>\n",
       "      <td>111372787.0</td>\n",
       "      <td>814.000000</td>\n",
       "      <td>5.000000</td>\n",
       "      <td>NaN</td>\n",
       "      <td>NaN</td>\n",
       "    </tr>\n",
       "  </tbody>\n",
       "</table>\n",
       "</div>"
      ],
      "text/plain": [
       "        reviews.id  reviews.numHelpful  reviews.rating  reviews.userCity  \\\n",
       "count          1.0        34131.000000    34627.000000               0.0   \n",
       "mean   111372787.0            0.630248        4.584573               NaN   \n",
       "std            NaN           13.215775        0.735653               NaN   \n",
       "min    111372787.0            0.000000        1.000000               NaN   \n",
       "25%    111372787.0            0.000000        4.000000               NaN   \n",
       "50%    111372787.0            0.000000        5.000000               NaN   \n",
       "75%    111372787.0            0.000000        5.000000               NaN   \n",
       "max    111372787.0          814.000000        5.000000               NaN   \n",
       "\n",
       "       reviews.userProvince  \n",
       "count                   0.0  \n",
       "mean                    NaN  \n",
       "std                     NaN  \n",
       "min                     NaN  \n",
       "25%                     NaN  \n",
       "50%                     NaN  \n",
       "75%                     NaN  \n",
       "max                     NaN  "
      ]
     },
     "execution_count": 4,
     "metadata": {},
     "output_type": "execute_result"
    }
   ],
   "source": [
    "reviews_df.describe()"
   ]
  },
  {
   "cell_type": "code",
   "execution_count": 5,
   "metadata": {
    "scrolled": false
   },
   "outputs": [
    {
     "name": "stdout",
     "output_type": "stream",
     "text": [
      "<class 'pandas.core.frame.DataFrame'>\n",
      "RangeIndex: 34660 entries, 0 to 34659\n",
      "Data columns (total 21 columns):\n",
      " #   Column                Non-Null Count  Dtype  \n",
      "---  ------                --------------  -----  \n",
      " 0   id                    34660 non-null  object \n",
      " 1   name                  27900 non-null  object \n",
      " 2   asins                 34658 non-null  object \n",
      " 3   brand                 34660 non-null  object \n",
      " 4   categories            34660 non-null  object \n",
      " 5   keys                  34660 non-null  object \n",
      " 6   manufacturer          34660 non-null  object \n",
      " 7   reviews.date          34621 non-null  object \n",
      " 8   reviews.dateAdded     24039 non-null  object \n",
      " 9   reviews.dateSeen      34660 non-null  object \n",
      " 10  reviews.didPurchase   1 non-null      object \n",
      " 11  reviews.doRecommend   34066 non-null  object \n",
      " 12  reviews.id            1 non-null      float64\n",
      " 13  reviews.numHelpful    34131 non-null  float64\n",
      " 14  reviews.rating        34627 non-null  float64\n",
      " 15  reviews.sourceURLs    34660 non-null  object \n",
      " 16  reviews.text          34659 non-null  object \n",
      " 17  reviews.title         34655 non-null  object \n",
      " 18  reviews.userCity      0 non-null      float64\n",
      " 19  reviews.userProvince  0 non-null      float64\n",
      " 20  reviews.username      34658 non-null  object \n",
      "dtypes: float64(5), object(16)\n",
      "memory usage: 5.6+ MB\n"
     ]
    }
   ],
   "source": [
    "reviews_df.info()"
   ]
  },
  {
   "cell_type": "code",
   "execution_count": 6,
   "metadata": {},
   "outputs": [
    {
     "data": {
      "text/html": [
       "<div>\n",
       "<style scoped>\n",
       "    .dataframe tbody tr th:only-of-type {\n",
       "        vertical-align: middle;\n",
       "    }\n",
       "\n",
       "    .dataframe tbody tr th {\n",
       "        vertical-align: top;\n",
       "    }\n",
       "\n",
       "    .dataframe thead th {\n",
       "        text-align: right;\n",
       "    }\n",
       "</style>\n",
       "<table border=\"1\" class=\"dataframe\">\n",
       "  <thead>\n",
       "    <tr style=\"text-align: right;\">\n",
       "      <th></th>\n",
       "      <th>reviews.userCity</th>\n",
       "      <th>reviews.userProvince</th>\n",
       "      <th>reviews.id</th>\n",
       "      <th>reviews.didPurchase</th>\n",
       "    </tr>\n",
       "  </thead>\n",
       "  <tbody>\n",
       "    <tr>\n",
       "      <th>0</th>\n",
       "      <td>NaN</td>\n",
       "      <td>NaN</td>\n",
       "      <td>NaN</td>\n",
       "      <td>NaN</td>\n",
       "    </tr>\n",
       "    <tr>\n",
       "      <th>1</th>\n",
       "      <td>NaN</td>\n",
       "      <td>NaN</td>\n",
       "      <td>NaN</td>\n",
       "      <td>NaN</td>\n",
       "    </tr>\n",
       "    <tr>\n",
       "      <th>2</th>\n",
       "      <td>NaN</td>\n",
       "      <td>NaN</td>\n",
       "      <td>NaN</td>\n",
       "      <td>NaN</td>\n",
       "    </tr>\n",
       "    <tr>\n",
       "      <th>3</th>\n",
       "      <td>NaN</td>\n",
       "      <td>NaN</td>\n",
       "      <td>NaN</td>\n",
       "      <td>NaN</td>\n",
       "    </tr>\n",
       "    <tr>\n",
       "      <th>4</th>\n",
       "      <td>NaN</td>\n",
       "      <td>NaN</td>\n",
       "      <td>NaN</td>\n",
       "      <td>NaN</td>\n",
       "    </tr>\n",
       "    <tr>\n",
       "      <th>...</th>\n",
       "      <td>...</td>\n",
       "      <td>...</td>\n",
       "      <td>...</td>\n",
       "      <td>...</td>\n",
       "    </tr>\n",
       "    <tr>\n",
       "      <th>34655</th>\n",
       "      <td>NaN</td>\n",
       "      <td>NaN</td>\n",
       "      <td>NaN</td>\n",
       "      <td>NaN</td>\n",
       "    </tr>\n",
       "    <tr>\n",
       "      <th>34656</th>\n",
       "      <td>NaN</td>\n",
       "      <td>NaN</td>\n",
       "      <td>NaN</td>\n",
       "      <td>NaN</td>\n",
       "    </tr>\n",
       "    <tr>\n",
       "      <th>34657</th>\n",
       "      <td>NaN</td>\n",
       "      <td>NaN</td>\n",
       "      <td>NaN</td>\n",
       "      <td>NaN</td>\n",
       "    </tr>\n",
       "    <tr>\n",
       "      <th>34658</th>\n",
       "      <td>NaN</td>\n",
       "      <td>NaN</td>\n",
       "      <td>NaN</td>\n",
       "      <td>NaN</td>\n",
       "    </tr>\n",
       "    <tr>\n",
       "      <th>34659</th>\n",
       "      <td>NaN</td>\n",
       "      <td>NaN</td>\n",
       "      <td>NaN</td>\n",
       "      <td>NaN</td>\n",
       "    </tr>\n",
       "  </tbody>\n",
       "</table>\n",
       "<p>34660 rows × 4 columns</p>\n",
       "</div>"
      ],
      "text/plain": [
       "       reviews.userCity  reviews.userProvince  reviews.id reviews.didPurchase\n",
       "0                   NaN                   NaN         NaN                 NaN\n",
       "1                   NaN                   NaN         NaN                 NaN\n",
       "2                   NaN                   NaN         NaN                 NaN\n",
       "3                   NaN                   NaN         NaN                 NaN\n",
       "4                   NaN                   NaN         NaN                 NaN\n",
       "...                 ...                   ...         ...                 ...\n",
       "34655               NaN                   NaN         NaN                 NaN\n",
       "34656               NaN                   NaN         NaN                 NaN\n",
       "34657               NaN                   NaN         NaN                 NaN\n",
       "34658               NaN                   NaN         NaN                 NaN\n",
       "34659               NaN                   NaN         NaN                 NaN\n",
       "\n",
       "[34660 rows x 4 columns]"
      ]
     },
     "execution_count": 6,
     "metadata": {},
     "output_type": "execute_result"
    }
   ],
   "source": [
    "reviews_df[['reviews.userCity', 'reviews.userProvince', 'reviews.id', 'reviews.didPurchase']]"
   ]
  },
  {
   "cell_type": "markdown",
   "metadata": {},
   "source": [
    "Drop these columns because almost 100% are `NaN` values"
   ]
  },
  {
   "cell_type": "code",
   "execution_count": 7,
   "metadata": {},
   "outputs": [],
   "source": [
    "reviews_df = reviews_df.drop(columns=['reviews.userCity', 'reviews.userProvince', \n",
    "                                      'reviews.id', 'reviews.didPurchase'],\n",
    "                            axis=1)"
   ]
  },
  {
   "cell_type": "code",
   "execution_count": 8,
   "metadata": {},
   "outputs": [
    {
     "data": {
      "text/plain": [
       "id                         0\n",
       "name                    6760\n",
       "asins                      2\n",
       "brand                      0\n",
       "categories                 0\n",
       "keys                       0\n",
       "manufacturer               0\n",
       "reviews.date              39\n",
       "reviews.dateAdded      10621\n",
       "reviews.dateSeen           0\n",
       "reviews.doRecommend      594\n",
       "reviews.numHelpful       529\n",
       "reviews.rating            33\n",
       "reviews.sourceURLs         0\n",
       "reviews.text               1\n",
       "reviews.title              5\n",
       "reviews.username           2\n",
       "dtype: int64"
      ]
     },
     "execution_count": 8,
     "metadata": {},
     "output_type": "execute_result"
    }
   ],
   "source": [
    "reviews_df.isnull().sum()"
   ]
  },
  {
   "cell_type": "markdown",
   "metadata": {},
   "source": [
    "<br>\n"
   ]
  },
  {
   "cell_type": "markdown",
   "metadata": {},
   "source": [
    "### Data Exploration"
   ]
  },
  {
   "cell_type": "markdown",
   "metadata": {},
   "source": [
    "- `name` and `asins`"
   ]
  },
  {
   "cell_type": "code",
   "execution_count": 9,
   "metadata": {},
   "outputs": [
    {
     "data": {
      "text/plain": [
       "asins\n",
       "B002Y27P3M               [Kindle Keyboard,,,\\r\\nKindle Keyboard,,,, All...\n",
       "B002Y27P6Y                                                           [nan]\n",
       "B005PB2T0S               [Amazon Kindle Lighted Leather Cover,,,\\r\\nAma...\n",
       "B005PB2T2Q               [Fire Kids Edition Tablet, 7 Display, Wi-Fi, 1...\n",
       "B006GWO5NE                                                           [nan]\n",
       "B006GWO5WK                                                           [nan]\n",
       "B0083Q04TA               [Fire Tablet, 7 Display, Wi-Fi, 8 GB - Include...\n",
       "B00BFJAHF8                                                           [nan]\n",
       "B00DU15MU4               [Brand New Amazon Kindle Fire 16gb 7 Ips Displ...\n",
       "B00IOY8XWQ               [Kindle Voyage E-reader, 6 High-Resolution Dis...\n",
       "B00IOYAM4I               [Brand New Amazon Kindle Fire 16gb 7 Ips Displ...\n",
       "B00L9EPT8O,B01E6AO69U    [Echo (White),,,\\r\\nEcho (White),,,, Echo (Whi...\n",
       "B00LO29KXQ               [Fire Tablet, 7 Display, Wi-Fi, 8 GB - Include...\n",
       "B00LW9XOJM                                                           [nan]\n",
       "B00OQVZDJM               [Amazon Kindle Paperwhite - eBook reader - 4 G...\n",
       "B00QFQRELG                                                           [nan]\n",
       "B00QJDU3KY               [Fire Tablet, 7 Display, Wi-Fi, 8 GB - Include...\n",
       "B00QL1ZN3G                                                           [nan]\n",
       "B00REQKWGA               [Brand New Amazon Kindle Fire 16gb 7 Ips Displ...\n",
       "B00TSUGXKE                            [Echo (White),,,\\r\\nEcho (White),,,]\n",
       "B00U3FPN4U                                                           [nan]\n",
       "B00UH4D8G2                            [Echo (White),,,\\r\\nEcho (White),,,]\n",
       "B00VINDBJK               [Kindle Oasis E-reader with Leather Charging C...\n",
       "B00X4WHP5E                                                           [nan]\n",
       "B00ZV9PXP2               [Amazon Kindle Fire Hd (3rd Generation) 8gb,,,...\n",
       "B0189XYY0Q                                                           [nan]\n",
       "B018SZT3BK               [Fire Tablet, 7 Display, Wi-Fi, 8 GB - Include...\n",
       "B018T075DC               [Brand New Amazon Kindle Fire 16gb 7 Ips Displ...\n",
       "B018Y225IA               [Brand New Amazon Kindle Fire 16gb 7 Ips Displ...\n",
       "B018Y229OU               [Fire Tablet, 7 Display, Wi-Fi, 8 GB - Include...\n",
       "B018Y22BI4                            [Echo (White),,,\\r\\nEcho (White),,,]\n",
       "B018Y22C2Y               [Fire Tablet, 7 Display, Wi-Fi, 8 GB - Include...\n",
       "B018Y23MNM               [Fire Kids Edition Tablet, 7 Display, Wi-Fi, 1...\n",
       "B018Y23P7K                                                           [nan]\n",
       "B01AHB9C1E               [Fire HD 8 Tablet with Alexa, 8 HD Display, 32...\n",
       "B01AHB9CN2               [All-New Fire HD 8 Tablet, 8 HD Display, Wi-Fi...\n",
       "B01AHB9CYG               [All-New Fire HD 8 Tablet, 8 HD Display, Wi-Fi...\n",
       "B01BFIBRIE               [Fire Tablet, 7 Display, Wi-Fi, 8 GB - Include...\n",
       "B01BH83OOM                                                           [nan]\n",
       "B01J2G4VBG               [Amazon 5W USB Official OEM Charger and Power ...\n",
       "B01J4ORNHU               [Fire Tablet, 7 Display, Wi-Fi, 8 GB - Include...\n",
       "Name: name, dtype: object"
      ]
     },
     "execution_count": 9,
     "metadata": {},
     "output_type": "execute_result"
    }
   ],
   "source": [
    "# list all 'asins' and name of the 'asins'\n",
    "\n",
    "reviews_df.groupby('asins')['name'].unique()"
   ]
  },
  {
   "cell_type": "code",
   "execution_count": 10,
   "metadata": {},
   "outputs": [
    {
     "data": {
      "text/plain": [
       "41"
      ]
     },
     "execution_count": 10,
     "metadata": {},
     "output_type": "execute_result"
    }
   ],
   "source": [
    "len(reviews_df.groupby('asins')['name'].unique())"
   ]
  },
  {
   "cell_type": "markdown",
   "metadata": {},
   "source": [
    "There are actually 41 `asins` with one of the product having 2 `asins`"
   ]
  },
  {
   "cell_type": "code",
   "execution_count": 12,
   "metadata": {},
   "outputs": [],
   "source": [
    "# reviews_df['name'].fillna('0', inplace=True)"
   ]
  },
  {
   "cell_type": "code",
   "execution_count": 13,
   "metadata": {},
   "outputs": [
    {
     "data": {
      "image/png": "[encoded data removed]",
      "text/plain": [
       "<Figure size 1080x360 with 1 Axes>"
      ]
     },
     "metadata": {
      "needs_background": "light"
     },
     "output_type": "display_data"
    }
   ],
   "source": [
    "fig = plt.figure(figsize=(15,5))\n",
    "np.log10(reviews_df[\"asins\"].value_counts()).plot(kind=\"bar\", \n",
    "                                                  title=\"ASIN Frequency\", color='red') \n",
    "plt.xlabel(\"Product's ASIN\")\n",
    "plt.ylabel('Frequency(Log)')\n",
    "plt.show()"
   ]
  },
  {
   "cell_type": "markdown",
   "metadata": {},
   "source": [
    "Based on the exploration above:\n",
    "- `asins` has a right-skewed distribution, means that certain products have significantly more reviews than other products, which may indicate a higher sale in those specific products"
   ]
  },
  {
   "cell_type": "code",
   "execution_count": 14,
   "metadata": {},
   "outputs": [],
   "source": [
    "# reviews_df['reviews.rating'].isna().sum()"
   ]
  },
  {
   "cell_type": "markdown",
   "metadata": {},
   "source": [
    "<br>\n",
    "<br>"
   ]
  },
  {
   "cell_type": "markdown",
   "metadata": {},
   "source": [
    "- `reviews.doRecommend`"
   ]
  },
  {
   "cell_type": "code",
   "execution_count": 15,
   "metadata": {},
   "outputs": [
    {
     "data": {
      "text/plain": [
       "<AxesSubplot:xlabel='reviews.doRecommend', ylabel='count'>"
      ]
     },
     "execution_count": 15,
     "metadata": {},
     "output_type": "execute_result"
    },
    {
     "data": {
      "image/png": "[encoded data removed]",
      "text/plain": [
       "<Figure size 432x288 with 1 Axes>"
      ]
     },
     "metadata": {
      "needs_background": "light"
     },
     "output_type": "display_data"
    }
   ],
   "source": [
    "sns.countplot(reviews_df['reviews.doRecommend'])"
   ]
  },
  {
   "cell_type": "code",
   "execution_count": 16,
   "metadata": {},
   "outputs": [
    {
     "data": {
      "text/plain": [
       "True     32682\n",
       "False     1384\n",
       "Name: reviews.doRecommend, dtype: int64"
      ]
     },
     "execution_count": 16,
     "metadata": {},
     "output_type": "execute_result"
    }
   ],
   "source": [
    "reviews_df['reviews.doRecommend'].value_counts()"
   ]
  },
  {
   "cell_type": "markdown",
   "metadata": {},
   "source": [
    "<br>"
   ]
  },
  {
   "cell_type": "markdown",
   "metadata": {},
   "source": [
    "- `reviews.numHelpful`"
   ]
  },
  {
   "cell_type": "code",
   "execution_count": 17,
   "metadata": {},
   "outputs": [
    {
     "data": {
      "text/plain": [
       "Index(['reviews.numHelpful', 'reviews.rating'], dtype='object')"
      ]
     },
     "execution_count": 17,
     "metadata": {},
     "output_type": "execute_result"
    }
   ],
   "source": [
    "numeric_df = reviews_df._get_numeric_data()\n",
    "numeric_df.columns"
   ]
  },
  {
   "cell_type": "code",
   "execution_count": 18,
   "metadata": {},
   "outputs": [
    {
     "data": {
      "image/png": "[encoded data removed]",
      "text/plain": [
       "<Figure size 1440x360 with 1 Axes>"
      ]
     },
     "metadata": {
      "needs_background": "light"
     },
     "output_type": "display_data"
    }
   ],
   "source": [
    "# visualization for reviews.numHelpful\n",
    "\n",
    "plt.figure(figsize=(20,5))\n",
    "plt.scatter(numeric_df['reviews.numHelpful'].value_counts().index,\n",
    "           numeric_df['reviews.numHelpful'].value_counts().values)\n",
    "plt.show()\n"
   ]
  },
  {
   "cell_type": "markdown",
   "metadata": {},
   "source": [
    "Based on the distributions above:\n",
    "\n",
    "- `reviews.numHelpful`: Outliers in this case are valuable, so we may want to weight reviews that had more than 50+ people who find them helpful\n",
    "<br>\n",
    "<br>\n"
   ]
  },
  {
   "cell_type": "markdown",
   "metadata": {},
   "source": [
    "<br>"
   ]
  },
  {
   "cell_type": "markdown",
   "metadata": {},
   "source": [
    "- `reviews.text`"
   ]
  },
  {
   "cell_type": "code",
   "execution_count": 19,
   "metadata": {},
   "outputs": [
    {
     "data": {
      "text/plain": [
       "3111    5.0\n",
       "Name: reviews.rating, dtype: float64"
      ]
     },
     "execution_count": 19,
     "metadata": {},
     "output_type": "execute_result"
    }
   ],
   "source": [
    "reviews_df[reviews_df['reviews.text'].isna()]['reviews.rating']"
   ]
  },
  {
   "cell_type": "code",
   "execution_count": 20,
   "metadata": {},
   "outputs": [],
   "source": [
    "reviews_df = reviews_df[reviews_df['reviews.text'].notna()]"
   ]
  },
  {
   "cell_type": "code",
   "execution_count": 21,
   "metadata": {},
   "outputs": [],
   "source": [
    "# reviews_df.isna().sum()"
   ]
  },
  {
   "cell_type": "markdown",
   "metadata": {},
   "source": [
    "<br>"
   ]
  },
  {
   "cell_type": "markdown",
   "metadata": {},
   "source": [
    "<br>"
   ]
  },
  {
   "cell_type": "markdown",
   "metadata": {},
   "source": [
    "#### Explore target columns `reviews.rating`"
   ]
  },
  {
   "cell_type": "code",
   "execution_count": 22,
   "metadata": {},
   "outputs": [
    {
     "data": {
      "text/plain": [
       "33"
      ]
     },
     "execution_count": 22,
     "metadata": {},
     "output_type": "execute_result"
    }
   ],
   "source": [
    "reviews_df['reviews.rating'].isna().sum()"
   ]
  },
  {
   "cell_type": "code",
   "execution_count": 23,
   "metadata": {},
   "outputs": [
    {
     "data": {
      "text/plain": [
       "0        False\n",
       "1        False\n",
       "2        False\n",
       "3        False\n",
       "4        False\n",
       "         ...  \n",
       "34655    False\n",
       "34656    False\n",
       "34657    False\n",
       "34658    False\n",
       "34659    False\n",
       "Name: reviews.rating, Length: 34659, dtype: bool"
      ]
     },
     "execution_count": 23,
     "metadata": {},
     "output_type": "execute_result"
    }
   ],
   "source": [
    "# drop this null values from col 'reviews.rating'\n",
    "reviews_df['reviews.rating'].isna()"
   ]
  },
  {
   "cell_type": "code",
   "execution_count": 24,
   "metadata": {},
   "outputs": [
    {
     "data": {
      "text/plain": [
       "4.584560734708023"
      ]
     },
     "execution_count": 24,
     "metadata": {},
     "output_type": "execute_result"
    }
   ],
   "source": [
    "reviews_df['reviews.rating'].mean()"
   ]
  },
  {
   "cell_type": "code",
   "execution_count": 25,
   "metadata": {},
   "outputs": [
    {
     "data": {
      "text/plain": [
       "5.0"
      ]
     },
     "execution_count": 25,
     "metadata": {},
     "output_type": "execute_result"
    }
   ],
   "source": [
    "reviews_df['reviews.rating'].median()"
   ]
  },
  {
   "cell_type": "code",
   "execution_count": 26,
   "metadata": {},
   "outputs": [
    {
     "data": {
      "text/plain": [
       "array([5., 5., 5., ..., 1., 1., 1.])"
      ]
     },
     "execution_count": 26,
     "metadata": {},
     "output_type": "execute_result"
    }
   ],
   "source": [
    "# change review.rating data type \n",
    "reviews_df['reviews.rating'] = round(reviews_df['reviews.rating'])\n",
    "reviews_df['reviews.rating'].values"
   ]
  },
  {
   "cell_type": "code",
   "execution_count": 27,
   "metadata": {},
   "outputs": [],
   "source": [
    "# drop the null values from column 'reviews.rating'\n",
    "reviews_df = reviews_df[reviews_df['reviews.rating'].notna()]"
   ]
  },
  {
   "cell_type": "code",
   "execution_count": 28,
   "metadata": {},
   "outputs": [
    {
     "data": {
      "text/plain": [
       "<AxesSubplot:xlabel='reviews.rating', ylabel='count'>"
      ]
     },
     "execution_count": 28,
     "metadata": {},
     "output_type": "execute_result"
    },
    {
     "data": {
      "image/png": "[encoded data removed]",
      "text/plain": [
       "<Figure size 432x288 with 1 Axes>"
      ]
     },
     "metadata": {
      "needs_background": "light"
     },
     "output_type": "display_data"
    }
   ],
   "source": [
    "sns.countplot(reviews_df['reviews.rating'])"
   ]
  },
  {
   "cell_type": "markdown",
   "metadata": {},
   "source": [
    "- `reviews.rating`: Majority of examples were rated highly (looking at rating distribution). There is twice amount of 5 star ratings than the others ratings combined <br>\n",
    "- `reviews.rating` that are below 4 should be encoded as 0 ('not good') and `reviews.rating` with scores 4 and 5 as 1 ('good')."
   ]
  },
  {
   "cell_type": "code",
   "execution_count": 29,
   "metadata": {},
   "outputs": [],
   "source": [
    "reviews_df[\"reviews.rating\"] = reviews_df[\"reviews.rating\"].apply(lambda x: 0 if x < 4 else 1)"
   ]
  },
  {
   "cell_type": "code",
   "execution_count": 30,
   "metadata": {},
   "outputs": [
    {
     "data": {
      "image/png": "[encoded data removed]",
      "text/plain": [
       "<Figure size 432x288 with 1 Axes>"
      ]
     },
     "metadata": {
      "needs_background": "light"
     },
     "output_type": "display_data"
    }
   ],
   "source": [
    "sns_plot = sns.countplot(reviews_df['reviews.rating'])"
   ]
  },
  {
   "cell_type": "code",
   "execution_count": 31,
   "metadata": {},
   "outputs": [],
   "source": [
    "sns_plot.figure.savefig(\"reviews_rating.png\")"
   ]
  },
  {
   "cell_type": "code",
   "execution_count": 32,
   "metadata": {},
   "outputs": [
    {
     "name": "stdout",
     "output_type": "stream",
     "text": [
      "Score negative (%):0.067\n",
      "Score positive (%):0.933\n"
     ]
    }
   ],
   "source": [
    "# print(\"Score negative (%):\" + str(round(len(reviews_df[reviews_df['reviews.rating']==-1])/len(reviews_df['reviews.rating']),3)))\n",
    "print(\"Score negative (%):\" + str(round(len(reviews_df[reviews_df['reviews.rating']==0])/len(reviews_df['reviews.rating']),3)))\n",
    "print(\"Score positive (%):\" + str(round(len(reviews_df[reviews_df['reviews.rating']==1])/len(reviews_df['reviews.rating']),3)))"
   ]
  },
  {
   "cell_type": "markdown",
   "metadata": {},
   "source": [
    "<br>"
   ]
  },
  {
   "cell_type": "code",
   "execution_count": 35,
   "metadata": {},
   "outputs": [],
   "source": [
    "df = reviews_df[['reviews.text', 'reviews.rating']]"
   ]
  },
  {
   "cell_type": "code",
   "execution_count": 36,
   "metadata": {},
   "outputs": [],
   "source": [
    "# save 'reviews.text', 'reviews.rating' columns in a csv file\n",
    "df.to_csv (r'data/clean_data.csv', index = False, header=True)"
   ]
  },
  {
   "cell_type": "markdown",
   "metadata": {},
   "source": [
    "-----"
   ]
  },
  {
   "cell_type": "markdown",
   "metadata": {},
   "source": [
    "#### Cleaning text data"
   ]
  },
  {
   "cell_type": "code",
   "execution_count": 37,
   "metadata": {},
   "outputs": [],
   "source": [
    "import nltk\n",
    "from sklearn.feature_extraction.text import CountVectorizer\n",
    "from nltk.corpus import stopwords\n",
    "from nltk.stem.porter import PorterStemmer\n",
    "import re\n",
    "import string\n",
    "\n",
    "from nltk.corpus import stopwords \n",
    "\n",
    "from my_util import *"
   ]
  },
  {
   "cell_type": "markdown",
   "metadata": {},
   "source": [
    "<br>\n",
    "<br>"
   ]
  },
  {
   "cell_type": "markdown",
   "metadata": {},
   "source": [
    "### Split into Train/Test/Validation"
   ]
  },
  {
   "cell_type": "markdown",
   "metadata": {},
   "source": [
    "- Since the majority of reviews are good, we will need to do a stratified split on the `reviews score` to ensure that we don’t train the classifier on imbalanced data"
   ]
  },
  {
   "cell_type": "code",
   "execution_count": 38,
   "metadata": {},
   "outputs": [],
   "source": [
    "X = reviews_df['reviews.text']\n",
    "y = reviews_df['reviews.rating']"
   ]
  },
  {
   "cell_type": "code",
   "execution_count": 39,
   "metadata": {},
   "outputs": [],
   "source": [
    "X_train, X_validation, X_test, X_remainder, y_train, y_validation, y_test, y_remainder, bagofwords = train_test_split(X,y)"
   ]
  },
  {
   "cell_type": "code",
   "execution_count": 40,
   "metadata": {},
   "outputs": [
    {
     "data": {
      "text/plain": [
       "(36352, 10003)"
      ]
     },
     "execution_count": 40,
     "metadata": {},
     "output_type": "execute_result"
    }
   ],
   "source": [
    "X_train.shape"
   ]
  },
  {
   "cell_type": "code",
   "execution_count": 41,
   "metadata": {},
   "outputs": [
    {
     "data": {
      "text/plain": [
       "(36352,)"
      ]
     },
     "execution_count": 41,
     "metadata": {},
     "output_type": "execute_result"
    }
   ],
   "source": [
    "y_train.shape"
   ]
  },
  {
   "cell_type": "code",
   "execution_count": 42,
   "metadata": {},
   "outputs": [
    {
     "data": {
      "text/plain": [
       "1    18176\n",
       "0    18176\n",
       "Name: reviews.rating, dtype: int64"
      ]
     },
     "execution_count": 42,
     "metadata": {},
     "output_type": "execute_result"
    }
   ],
   "source": [
    "y_train.value_counts()"
   ]
  },
  {
   "cell_type": "code",
   "execution_count": 43,
   "metadata": {},
   "outputs": [],
   "source": [
    "# lists for accuracy scores per model\n",
    "accuracy_sc=[]\n",
    "modelling=[]\n",
    "prec=[]\n",
    "rcall=[]\n",
    "f1_sc=[]"
   ]
  },
  {
   "cell_type": "markdown",
   "metadata": {},
   "source": [
    "<br>\n",
    "<br>"
   ]
  },
  {
   "cell_type": "markdown",
   "metadata": {},
   "source": [
    "## Modelling"
   ]
  },
  {
   "cell_type": "markdown",
   "metadata": {},
   "source": [
    "### Logistic Regression"
   ]
  },
  {
   "cell_type": "code",
   "execution_count": 44,
   "metadata": {},
   "outputs": [
    {
     "data": {
      "image/png": "[encoded data removed]",
      "text/plain": [
       "<Figure size 432x288 with 1 Axes>"
      ]
     },
     "metadata": {
      "needs_background": "light"
     },
     "output_type": "display_data"
    }
   ],
   "source": [
    "import warnings\n",
    "warnings.filterwarnings(\"ignore\")\n",
    "\n",
    "\n",
    "# Now we have our data Vectorized (i.e. a table numerical rows/columns)\n",
    "# so we can build a model on it\n",
    "from sklearn.linear_model import LogisticRegression\n",
    "import matplotlib.pyplot as plt\n",
    "\n",
    "C_values = [0.0001, 0.001, 0.01, 0.1, 1, 10, 100, 1000, 10000]\n",
    "\n",
    "train_accs = []\n",
    "test_accs = []\n",
    "val_accs = []\n",
    "\n",
    "for c in C_values:\n",
    "    \n",
    "    # Instantiate & fit the model\n",
    "    logreg = LogisticRegression(C = c)\n",
    "    logreg.fit(X_train, y_train)\n",
    "    \n",
    "    # Keep track of the train & test accuacies\n",
    "    train_accs.append(logreg.score(X_train, y_train))\n",
    "    val_accs.append(logreg.score(X_validation,y_validation))\n",
    "\n",
    "# Visualize the train & test accuracies across c-values\n",
    "plt.figure()\n",
    "plt.plot(C_values, train_accs, c='blue', label='train', marker='.')\n",
    "plt.plot(C_values, val_accs, c='green', label='validation', marker='.')\n",
    "plt.xlabel('C value')\n",
    "plt.ylabel('accuracy')\n",
    "plt.xscale('log')\n",
    "plt.legend()\n",
    "plt.show()\n"
   ]
  },
  {
   "cell_type": "code",
   "execution_count": 45,
   "metadata": {},
   "outputs": [
    {
     "data": {
      "image/png": "[encoded data removed]",
      "text/plain": [
       "<Figure size 432x288 with 1 Axes>"
      ]
     },
     "metadata": {
      "needs_background": "light"
     },
     "output_type": "display_data"
    },
    {
     "name": "stdout",
     "output_type": "stream",
     "text": [
      "The best model has C =  0.1\n"
     ]
    }
   ],
   "source": [
    "# 10-folds cross validation\n",
    "\n",
    "from sklearn.model_selection import cross_val_score\n",
    "\n",
    "cross_validation_scores = []\n",
    "\n",
    "C_range = np.array([.00000001,.0000001,.000001,.00001,.0001,.001,.1,\\\n",
    "                1,10,100,1000,10000,100000,1000000,10000000,100000000,1000000000])\n",
    "\n",
    "#Do some cross validation\n",
    "for c in C_range:\n",
    "    LR_model = LogisticRegression(C=c,random_state=1)\n",
    "    cv_score = np.mean(cross_val_score(LR_model, X_remainder, y_remainder, cv = 10))\n",
    "    cross_validation_scores.append(cv_score)\n",
    "\n",
    "plt.figure()\n",
    "plt.plot(C_range, cross_validation_scores,label=\"Cross Validation Score\",marker='.')\n",
    "plt.legend()\n",
    "plt.xscale(\"log\")\n",
    "plt.xlabel('Regularization Parameter: C')\n",
    "plt.ylabel('Cross Validation Score')\n",
    "plt.grid()\n",
    "plt.show();\n",
    "\n",
    "which_max = np.array(cross_validation_scores).argmax()\n",
    "\n",
    "print(\"The best model has C = \",C_range[which_max])"
   ]
  },
  {
   "cell_type": "code",
   "execution_count": 46,
   "metadata": {},
   "outputs": [
    {
     "name": "stdout",
     "output_type": "stream",
     "text": [
      "Score on train: 0.9492471793292002\n",
      "Score on test: 0.9388933810788956\n"
     ]
    }
   ],
   "source": [
    "best_log_model = LogisticRegression(C=C_range[which_max])\n",
    "best_log_model.fit(X_remainder,y_remainder)\n",
    "print(f'Score on train: {best_log_model.score(X_remainder,y_remainder)}')\n",
    "print(f'Score on test: {best_log_model.score(X_test,y_test)}')"
   ]
  },
  {
   "cell_type": "code",
   "execution_count": 47,
   "metadata": {},
   "outputs": [],
   "source": [
    "from sklearn.metrics import precision_score\n",
    "from sklearn.metrics import recall_score\n",
    "from sklearn.metrics import f1_score"
   ]
  },
  {
   "cell_type": "code",
   "execution_count": 48,
   "metadata": {},
   "outputs": [
    {
     "data": {
      "text/plain": [
       "array([[ 110,  468],\n",
       "       [  61, 8018]], dtype=int64)"
      ]
     },
     "execution_count": 48,
     "metadata": {},
     "output_type": "execute_result"
    }
   ],
   "source": [
    "# Confusion Matrix & Classification Report\n",
    "\n",
    "from sklearn.metrics import confusion_matrix\n",
    "\n",
    "y_pred = best_log_model.predict(X_test)\n",
    "\n",
    "confusion_matrix(y_test, y_pred)"
   ]
  },
  {
   "cell_type": "code",
   "execution_count": 49,
   "metadata": {},
   "outputs": [
    {
     "name": "stdout",
     "output_type": "stream",
     "text": [
      "              precision    recall  f1-score   support\n",
      "\n",
      "           0       0.64      0.19      0.29       578\n",
      "           1       0.94      0.99      0.97      8079\n",
      "\n",
      "    accuracy                           0.94      8657\n",
      "   macro avg       0.79      0.59      0.63      8657\n",
      "weighted avg       0.92      0.94      0.92      8657\n",
      "\n"
     ]
    }
   ],
   "source": [
    "from sklearn.metrics import classification_report\n",
    "\n",
    "report_initial = classification_report(y_test, y_pred)\n",
    "print(report_initial)"
   ]
  },
  {
   "cell_type": "code",
   "execution_count": 50,
   "metadata": {},
   "outputs": [],
   "source": [
    "accuracy_sc.append(best_log_model.score(X_test,y_test))\n",
    "modelling.append('Logistic Regression')\n",
    "prec.append(precision_score(y_test, y_pred))\n",
    "rcall.append(recall_score(y_test, y_pred))\n",
    "f1_sc.append(f1_score(y_test, y_pred))"
   ]
  },
  {
   "cell_type": "code",
   "execution_count": 51,
   "metadata": {},
   "outputs": [
    {
     "data": {
      "image/png": "[encoded data removed]",
      "text/plain": [
       "<Figure size 432x288 with 1 Axes>"
      ]
     },
     "metadata": {
      "needs_background": "light"
     },
     "output_type": "display_data"
    }
   ],
   "source": [
    "# ROC & AUC\n",
    "\n",
    "from sklearn.metrics import roc_curve, roc_auc_score\n",
    "from sklearn.metrics import auc\n",
    "\n",
    "best_log_model = LogisticRegression(C=C_range[which_max])\n",
    "best_log_model.fit(X_remainder,y_remainder)\n",
    "\n",
    "y_pred = best_log_model.predict_proba(X_test)[:, 1]\n",
    "\n",
    "\n",
    "logit_fprs_test, logit_tprs_test, thresholds_test = roc_curve(y_test, y_pred)\n",
    "\n",
    "logit_auc_value = roc_auc_score(y_test, y_pred)\n",
    "\n",
    "plt.figure()\n",
    "plt.plot(logit_fprs_test, logit_tprs_test, label=f\"Logit AUC: {round(logit_auc_value,2)}\")\n",
    "plt.legend()\n",
    "plt.show()"
   ]
  },
  {
   "cell_type": "code",
   "execution_count": 52,
   "metadata": {},
   "outputs": [],
   "source": [
    "coefficients = best_log_model.coef_"
   ]
  },
  {
   "cell_type": "code",
   "execution_count": 53,
   "metadata": {},
   "outputs": [],
   "source": [
    "indices = coefficients.argsort()[0]"
   ]
  },
  {
   "cell_type": "code",
   "execution_count": 54,
   "metadata": {},
   "outputs": [
    {
     "data": {
      "text/plain": [
       "array(['return', 'slow', 'ok', 'okay', 'doesnt', 'not', 'terribl', 'hope',\n",
       "       'disappoint', 'wouldnt', 'freez', 'noth', 'didnt', 'pay',\n",
       "       'difficult', 'decent', 'poor', 'dont', 'back', 'end'], dtype='<U87')"
      ]
     },
     "execution_count": 54,
     "metadata": {},
     "output_type": "execute_result"
    }
   ],
   "source": [
    "# The words with the lowest coefficients \n",
    "# most predictive of a 0 (negative review)\n",
    "\n",
    "np.array(bagofwords.get_feature_names())[indices[:20]]"
   ]
  },
  {
   "cell_type": "code",
   "execution_count": 57,
   "metadata": {},
   "outputs": [
    {
     "data": {
      "text/plain": [
       "array(['worri', 'best', 'room', 'highli', 'echo', 'cabl', 'prime',\n",
       "       'happi', 'pleas', 'enjoy', 'well', 'fun', 'amaz', 'awesom', 'beat',\n",
       "       'great', 'perfect', 'excel', 'easi', 'love'], dtype='<U87')"
      ]
     },
     "execution_count": 57,
     "metadata": {},
     "output_type": "execute_result"
    }
   ],
   "source": [
    "# The words with the highest coefficients\n",
    "# most predictive of a 1 (positive review)\n",
    "np.array(bagofwords.get_feature_names())[indices[-20:]]"
   ]
  },
  {
   "cell_type": "markdown",
   "metadata": {},
   "source": [
    "<br>\n"
   ]
  },
  {
   "cell_type": "markdown",
   "metadata": {},
   "source": [
    "### K-Nearest Neighbor"
   ]
  },
  {
   "cell_type": "code",
   "execution_count": 60,
   "metadata": {},
   "outputs": [],
   "source": [
    "X_train, X_validation, X_test, X_remainder, y_train, y_validation, y_test, y_remainder, bagofwords = train_test_split(X,y)"
   ]
  },
  {
   "cell_type": "code",
   "execution_count": 61,
   "metadata": {},
   "outputs": [
    {
     "data": {
      "image/png": "[encoded data removed]",
      "text/plain": [
       "<Figure size 432x288 with 1 Axes>"
      ]
     },
     "metadata": {
      "needs_background": "light"
     },
     "output_type": "display_data"
    }
   ],
   "source": [
    "import warnings\n",
    "warnings.filterwarnings(\"ignore\")\n",
    "\n",
    "from sklearn.neighbors import KNeighborsClassifier\n",
    "\n",
    "k_values = np.arange(1,40,1)\n",
    "\n",
    "train_scores = []\n",
    "val_scores = []\n",
    "\n",
    "for k in k_values:\n",
    "    \n",
    "    knn = KNeighborsClassifier(n_neighbors = k)\n",
    "    knn.fit(X_train, y_train)\n",
    "    \n",
    "    train_scores.append(knn.score(X_train, y_train))\n",
    "    val_scores.append(knn.score(X_validation, y_validation))\n",
    "    \n",
    "\n",
    "plt.figure()\n",
    "plt.plot(k_values, train_scores, c='blue', label='train')\n",
    "plt.plot(k_values, val_scores, c='red', label='validation')\n",
    "plt.xlabel('n neighbors')\n",
    "plt.ylabel('accuracy')\n",
    "plt.legend()\n",
    "plt.show()\n"
   ]
  },
  {
   "cell_type": "code",
   "execution_count": 62,
   "metadata": {},
   "outputs": [
    {
     "data": {
      "image/png": "[encoded data removed]",
      "text/plain": [
       "<Figure size 432x288 with 1 Axes>"
      ]
     },
     "metadata": {
      "needs_background": "light"
     },
     "output_type": "display_data"
    },
    {
     "name": "stdout",
     "output_type": "stream",
     "text": [
      "The best model has k =  10\n"
     ]
    }
   ],
   "source": [
    "K_range = [1,5,10,20,30,40,50,60,70,80,84]\n",
    "\n",
    "cross_validation_scores = []\n",
    "\n",
    "for i in K_range:\n",
    "    my_model = KNeighborsClassifier(n_neighbors=i)\n",
    "    \n",
    "    scores = np.mean(cross_val_score(my_model, X_remainder, y_remainder, cv=10))\n",
    "    \n",
    "    cross_validation_scores.append(scores)\n",
    "    \n",
    "plt.figure()\n",
    "plt.plot(K_range, cross_validation_scores,label=\"Cross Validation Score\",marker='.')\n",
    "plt.legend()\n",
    "plt.xlabel('Kneighbors')\n",
    "plt.ylabel('Cross Validation Score')\n",
    "plt.grid()\n",
    "plt.show();\n",
    "\n",
    "which_max = np.array(cross_validation_scores).argmax()\n",
    "\n",
    "print(\"The best model has k = \",K_range[which_max])"
   ]
  },
  {
   "cell_type": "code",
   "execution_count": 63,
   "metadata": {},
   "outputs": [],
   "source": [
    "best_knn_model = KNeighborsClassifier(n_neighbors=K_range[which_max])\n",
    "best_knn_model = best_knn_model.fit(X_remainder, y_remainder)\n",
    "\n",
    "train_score = best_knn_model.score(X_remainder,y_remainder)\n",
    "test_score = best_knn_model.score(X_test, y_test)"
   ]
  },
  {
   "cell_type": "code",
   "execution_count": 64,
   "metadata": {},
   "outputs": [
    {
     "name": "stdout",
     "output_type": "stream",
     "text": [
      "Score on train: 0.9349994223882321\n",
      "Score on test: 0.9326556543837357\n"
     ]
    }
   ],
   "source": [
    "print(f'Score on train: {train_score}')\n",
    "print(f'Score on test: {test_score}')"
   ]
  },
  {
   "cell_type": "code",
   "execution_count": 65,
   "metadata": {},
   "outputs": [],
   "source": [
    "accuracy_sc.append(test_score)\n",
    "modelling.append('K Nearest Neighbor')"
   ]
  },
  {
   "cell_type": "code",
   "execution_count": 66,
   "metadata": {},
   "outputs": [
    {
     "data": {
      "text/plain": [
       "array([[   7,  571],\n",
       "       [  12, 8067]], dtype=int64)"
      ]
     },
     "execution_count": 66,
     "metadata": {},
     "output_type": "execute_result"
    }
   ],
   "source": [
    "from sklearn.metrics import confusion_matrix\n",
    "\n",
    "y_pred = best_knn_model.predict(X_test)\n",
    "\n",
    "confusion_matrix(y_test, y_pred)"
   ]
  },
  {
   "cell_type": "code",
   "execution_count": 67,
   "metadata": {},
   "outputs": [
    {
     "name": "stdout",
     "output_type": "stream",
     "text": [
      "              precision    recall  f1-score   support\n",
      "\n",
      "           0       0.37      0.01      0.02       578\n",
      "           1       0.93      1.00      0.97      8079\n",
      "\n",
      "    accuracy                           0.93      8657\n",
      "   macro avg       0.65      0.51      0.49      8657\n",
      "weighted avg       0.90      0.93      0.90      8657\n",
      "\n"
     ]
    }
   ],
   "source": [
    "from sklearn.metrics import classification_report\n",
    "\n",
    "report_initial = classification_report(y_test, y_pred)\n",
    "print(report_initial)"
   ]
  },
  {
   "cell_type": "code",
   "execution_count": 68,
   "metadata": {},
   "outputs": [],
   "source": [
    "prec.append(precision_score(y_test, y_pred))\n",
    "rcall.append(recall_score(y_test, y_pred))\n",
    "f1_sc.append(f1_score(y_test, y_pred))"
   ]
  },
  {
   "cell_type": "code",
   "execution_count": 69,
   "metadata": {},
   "outputs": [
    {
     "data": {
      "image/png": "[encoded data removed]",
      "text/plain": [
       "<Figure size 432x288 with 1 Axes>"
      ]
     },
     "metadata": {
      "needs_background": "light"
     },
     "output_type": "display_data"
    }
   ],
   "source": [
    "from sklearn.metrics import roc_curve, roc_auc_score\n",
    "from sklearn.metrics import auc\n",
    "\n",
    "best_knn_model = KNeighborsClassifier(n_neighbors=K_range[which_max])\n",
    "best_knn_model = best_knn_model.fit(X_remainder, y_remainder)\n",
    "\n",
    "y_pred = best_knn_model.predict_proba(X_test)[:, 1]\n",
    "\n",
    "\n",
    "knn_fprs_test, knn_tprs_test, thresholds_test = roc_curve(y_test, y_pred)\n",
    "\n",
    "knn_auc_value = roc_auc_score(y_test, y_pred)\n",
    "\n",
    "plt.figure()\n",
    "plt.plot(knn_fprs_test, knn_tprs_test, label=f\"KNN AUC: {round(knn_auc_value,2)}\")\n",
    "plt.legend()\n",
    "plt.show()"
   ]
  },
  {
   "cell_type": "markdown",
   "metadata": {},
   "source": [
    "<br>"
   ]
  },
  {
   "cell_type": "markdown",
   "metadata": {},
   "source": [
    "### Decision Tree"
   ]
  },
  {
   "cell_type": "code",
   "execution_count": 70,
   "metadata": {},
   "outputs": [],
   "source": [
    "X_train, X_validation, X_test, X_remainder, y_train, y_validation, y_test, y_remainder, bagofwords = train_test_split(X,y)"
   ]
  },
  {
   "cell_type": "code",
   "execution_count": 71,
   "metadata": {},
   "outputs": [
    {
     "data": {
      "image/png": "[encoded data removed]",
      "text/plain": [
       "<Figure size 432x288 with 1 Axes>"
      ]
     },
     "metadata": {
      "needs_background": "light"
     },
     "output_type": "display_data"
    }
   ],
   "source": [
    "from sklearn.tree import DecisionTreeClassifier\n",
    "\n",
    "dt_test_accuracies = []\n",
    "depths = []\n",
    "train_scores =[]\n",
    "val_scores =[]\n",
    "d_values = np.arange(1,21,1)\n",
    "\n",
    "for d in d_values:\n",
    "\n",
    "    my_dt = DecisionTreeClassifier(max_depth=d, random_state=1)\n",
    "    my_dt.fit(X_train, y_train)\n",
    "    train_scores.append(my_dt.score(X_train, y_train))\n",
    "    val_scores.append(my_dt.score(X_validation, y_validation))\n",
    "    depths.append(d)\n",
    "    \n",
    "plt.figure()\n",
    "plt.plot(depths, train_scores, c='blue', label='train')\n",
    "plt.plot(depths, val_scores, c='red', label='validation')\n",
    "plt.xlabel('Max Depth')\n",
    "plt.ylabel('accuracy')\n",
    "plt.legend()\n",
    "plt.show()\n"
   ]
  },
  {
   "cell_type": "code",
   "execution_count": 72,
   "metadata": {},
   "outputs": [
    {
     "data": {
      "image/png": "[encoded data removed]",
      "text/plain": [
       "<Figure size 432x288 with 1 Axes>"
      ]
     },
     "metadata": {
      "needs_background": "light"
     },
     "output_type": "display_data"
    },
    {
     "name": "stdout",
     "output_type": "stream",
     "text": [
      "The best model has depth =  2\n"
     ]
    }
   ],
   "source": [
    "d_values = np.arange(1,21,1)\n",
    "\n",
    "cross_validation_scores = []\n",
    "\n",
    "for d in d_values:\n",
    "    \n",
    "    my_dt = DecisionTreeClassifier(max_depth=d, random_state=1)\n",
    "    \n",
    "    scores = np.mean(cross_val_score(my_dt, X_remainder, y_remainder, cv=10))\n",
    "    \n",
    "    cross_validation_scores.append(scores)\n",
    "    \n",
    "plt.figure()\n",
    "plt.plot(d_values, cross_validation_scores,label=\"Cross Validation Score\",marker='.')\n",
    "plt.legend()\n",
    "plt.xlabel('Max Depth')\n",
    "plt.ylabel('Cross Validation Score')\n",
    "plt.grid()\n",
    "plt.show();\n",
    "\n",
    "which_max = np.array(cross_validation_scores).argmax()\n",
    "\n",
    "print(\"The best model has depth = \",d_values[which_max])"
   ]
  },
  {
   "cell_type": "code",
   "execution_count": 73,
   "metadata": {},
   "outputs": [
    {
     "name": "stdout",
     "output_type": "stream",
     "text": [
      "Score on train: 0.9359236012168355\n",
      "Score on test: 0.935659004273998\n"
     ]
    }
   ],
   "source": [
    "best_dt_model = DecisionTreeClassifier(max_depth=d_values[which_max], random_state=1)\n",
    "best_dt_model = best_dt_model.fit(X_remainder, y_remainder)\n",
    "\n",
    "train_score = best_dt_model.score(X_remainder,y_remainder)\n",
    "test_score = best_dt_model.score(X_test, y_test)\n",
    "\n",
    "print(f'Score on train: {train_score}')\n",
    "print(f'Score on test: {test_score}')"
   ]
  },
  {
   "cell_type": "code",
   "execution_count": 74,
   "metadata": {},
   "outputs": [],
   "source": [
    "accuracy_sc.append(test_score)\n",
    "modelling.append('Decision Tree')"
   ]
  },
  {
   "cell_type": "code",
   "execution_count": 75,
   "metadata": {},
   "outputs": [
    {
     "data": {
      "text/plain": [
       "array([[  52,  526],\n",
       "       [  31, 8048]], dtype=int64)"
      ]
     },
     "execution_count": 75,
     "metadata": {},
     "output_type": "execute_result"
    }
   ],
   "source": [
    "from sklearn.metrics import confusion_matrix\n",
    "\n",
    "y_pred = best_dt_model.predict(X_test)\n",
    "\n",
    "confusion_matrix(y_test, y_pred)"
   ]
  },
  {
   "cell_type": "code",
   "execution_count": 76,
   "metadata": {},
   "outputs": [
    {
     "name": "stdout",
     "output_type": "stream",
     "text": [
      "              precision    recall  f1-score   support\n",
      "\n",
      "           0       0.63      0.09      0.16       578\n",
      "           1       0.94      1.00      0.97      8079\n",
      "\n",
      "    accuracy                           0.94      8657\n",
      "   macro avg       0.78      0.54      0.56      8657\n",
      "weighted avg       0.92      0.94      0.91      8657\n",
      "\n"
     ]
    }
   ],
   "source": [
    "from sklearn.metrics import classification_report\n",
    "\n",
    "report_initial = classification_report(y_test, y_pred)\n",
    "print(report_initial)"
   ]
  },
  {
   "cell_type": "code",
   "execution_count": 77,
   "metadata": {},
   "outputs": [],
   "source": [
    "prec.append(precision_score(y_test, y_pred))\n",
    "rcall.append(recall_score(y_test, y_pred))\n",
    "f1_sc.append(f1_score(y_test, y_pred))"
   ]
  },
  {
   "cell_type": "code",
   "execution_count": 78,
   "metadata": {},
   "outputs": [
    {
     "data": {
      "image/png": "[encoded data removed]",
      "text/plain": [
       "<Figure size 432x288 with 1 Axes>"
      ]
     },
     "metadata": {
      "needs_background": "light"
     },
     "output_type": "display_data"
    }
   ],
   "source": [
    "from sklearn.tree import DecisionTreeClassifier\n",
    "\n",
    "best_dt_model = DecisionTreeClassifier(max_depth=d_values[which_max], random_state=1)\n",
    "best_dt_model = best_dt_model.fit(X_remainder, y_remainder)\n",
    "\n",
    "y_pred = best_dt_model.predict_proba(X_test)[:, 1]\n",
    "\n",
    "\n",
    "dt_fprs_test, dt_tprs_test, thresholds_test = roc_curve(y_test, y_pred)\n",
    "\n",
    "dt_auc_value = roc_auc_score(y_test, y_pred)\n",
    "\n",
    "plt.figure()\n",
    "plt.plot(dt_fprs_test, dt_tprs_test, label=f\"DT AUC: {round(dt_auc_value,2)}\")\n",
    "plt.legend()\n",
    "plt.show()"
   ]
  },
  {
   "cell_type": "markdown",
   "metadata": {},
   "source": [
    "<br>"
   ]
  },
  {
   "cell_type": "markdown",
   "metadata": {},
   "source": [
    "### Random Forest"
   ]
  },
  {
   "cell_type": "code",
   "execution_count": 79,
   "metadata": {},
   "outputs": [],
   "source": [
    "X_train, X_validation, X_test, X_remainder, y_train, y_validation, y_test, y_remainder, bagofwords = train_test_split(X,y)"
   ]
  },
  {
   "cell_type": "code",
   "execution_count": 80,
   "metadata": {},
   "outputs": [
    {
     "data": {
      "image/png": "[encoded data removed]",
      "text/plain": [
       "<Figure size 432x288 with 1 Axes>"
      ]
     },
     "metadata": {
      "needs_background": "light"
     },
     "output_type": "display_data"
    }
   ],
   "source": [
    "from sklearn.ensemble import RandomForestClassifier\n",
    "\n",
    "train_scores = []\n",
    "test_scores = []\n",
    "val_scores =[]\n",
    "\n",
    "for n in range(1,50):\n",
    "    rf = RandomForestClassifier(n_estimators = n)\n",
    "    rf.fit(X_train,y_train)\n",
    "    \n",
    "    train_scores.append(rf.score(X_train,y_train))\n",
    "    val_scores.append(rf.score(X_validation, y_validation))\n",
    "    \n",
    "plt.figure()\n",
    "plt.plot(range(1,50), train_scores, label=\"Train\")\n",
    "plt.plot(range(1,50), val_scores, label=\"Validation\")\n",
    "plt.xlabel('N estimators')\n",
    "plt.ylabel('Accuracy score')\n",
    "plt.legend()\n",
    "plt.show()"
   ]
  },
  {
   "cell_type": "code",
   "execution_count": 81,
   "metadata": {},
   "outputs": [
    {
     "data": {
      "image/png": "[encoded data removed]",
      "text/plain": [
       "<Figure size 432x288 with 1 Axes>"
      ]
     },
     "metadata": {
      "needs_background": "light"
     },
     "output_type": "display_data"
    },
    {
     "name": "stdout",
     "output_type": "stream",
     "text": [
      "The best performance using using cross validation is: 22 estimators\n"
     ]
    }
   ],
   "source": [
    "# used 10 folds, ran for 2 hours still not finished\n",
    "\n",
    "from sklearn.model_selection import cross_val_score\n",
    "\n",
    "cv_scores = []\n",
    "\n",
    "for n in range(1,50):\n",
    "    rf = RandomForestClassifier(n_estimators = n)\n",
    "    \n",
    "    cv_score = np.mean(cross_val_score(rf,X_remainder, y_remainder, cv=5))\n",
    "    cv_scores.append(cv_score)\n",
    "\n",
    "plt.figure()\n",
    "plt.plot(range(1,50), cv_scores, label=\"Cross Validation\")\n",
    "plt.xlabel('N estimators')\n",
    "plt.ylabel('Accuracy score')\n",
    "plt.legend()\n",
    "plt.show()\n",
    "\n",
    "n = range(1,50)[np.argmax(cv_scores)]\n",
    "print(f\"The best performance using using cross validation is: {n} estimators\")"
   ]
  },
  {
   "cell_type": "code",
   "execution_count": 82,
   "metadata": {},
   "outputs": [
    {
     "data": {
      "text/plain": [
       "0.9362365715605868"
      ]
     },
     "execution_count": 82,
     "metadata": {},
     "output_type": "execute_result"
    }
   ],
   "source": [
    "best_rf = RandomForestClassifier(n_estimators=n)\n",
    "best_rf.fit(X_remainder, y_remainder)\n",
    "best_rf.score(X_test,y_test)"
   ]
  },
  {
   "cell_type": "code",
   "execution_count": 83,
   "metadata": {},
   "outputs": [],
   "source": [
    "accuracy_sc.append(best_rf.score(X_test,y_test))\n",
    "modelling.append('Random Forest')"
   ]
  },
  {
   "cell_type": "code",
   "execution_count": 84,
   "metadata": {},
   "outputs": [
    {
     "data": {
      "text/plain": [
       "array([[  46,  532],\n",
       "       [  20, 8059]], dtype=int64)"
      ]
     },
     "execution_count": 84,
     "metadata": {},
     "output_type": "execute_result"
    }
   ],
   "source": [
    "from sklearn.metrics import confusion_matrix\n",
    "\n",
    "y_pred = best_rf.predict(X_test)\n",
    "\n",
    "confusion_matrix(y_test, y_pred)"
   ]
  },
  {
   "cell_type": "code",
   "execution_count": 85,
   "metadata": {},
   "outputs": [
    {
     "name": "stdout",
     "output_type": "stream",
     "text": [
      "              precision    recall  f1-score   support\n",
      "\n",
      "           0       0.70      0.08      0.14       578\n",
      "           1       0.94      1.00      0.97      8079\n",
      "\n",
      "    accuracy                           0.94      8657\n",
      "   macro avg       0.82      0.54      0.55      8657\n",
      "weighted avg       0.92      0.94      0.91      8657\n",
      "\n"
     ]
    }
   ],
   "source": [
    "from sklearn.metrics import classification_report\n",
    "\n",
    "report_initial = classification_report(y_test, y_pred)\n",
    "print(report_initial)"
   ]
  },
  {
   "cell_type": "code",
   "execution_count": 86,
   "metadata": {},
   "outputs": [],
   "source": [
    "prec.append(precision_score(y_test, y_pred))\n",
    "rcall.append(recall_score(y_test, y_pred))\n",
    "f1_sc.append(f1_score(y_test, y_pred))"
   ]
  },
  {
   "cell_type": "code",
   "execution_count": 87,
   "metadata": {},
   "outputs": [
    {
     "data": {
      "image/png": "[encoded data removed]",
      "text/plain": [
       "<Figure size 432x288 with 1 Axes>"
      ]
     },
     "metadata": {
      "needs_background": "light"
     },
     "output_type": "display_data"
    }
   ],
   "source": [
    "best_rf = RandomForestClassifier(n_estimators=n)\n",
    "best_rf = best_rf.fit(X_remainder, y_remainder)\n",
    "y_pred = best_rf.predict_proba(X_test)[:, 1]\n",
    "\n",
    "\n",
    "rf_fprs_test, rf_tprs_test, thresholds_test = roc_curve(y_test, y_pred)\n",
    "\n",
    "rf_auc_value = roc_auc_score(y_test, y_pred)\n",
    "\n",
    "plt.figure()\n",
    "plt.plot(rf_fprs_test, rf_tprs_test, label=f\"Random Forest AUC: {round(rf_auc_value,2)}\")\n",
    "plt.legend()\n",
    "plt.show()"
   ]
  },
  {
   "cell_type": "markdown",
   "metadata": {},
   "source": [
    "<br>"
   ]
  },
  {
   "cell_type": "markdown",
   "metadata": {},
   "source": [
    "### Linear SVC"
   ]
  },
  {
   "cell_type": "code",
   "execution_count": 88,
   "metadata": {},
   "outputs": [],
   "source": [
    "X_train, X_validation, X_test, X_remainder, y_train, y_validation, y_test, y_remainder, bagofwords = train_test_split(X,y)"
   ]
  },
  {
   "cell_type": "code",
   "execution_count": 89,
   "metadata": {},
   "outputs": [
    {
     "data": {
      "image/png": "[encoded data removed]",
      "text/plain": [
       "<Figure size 432x288 with 1 Axes>"
      ]
     },
     "metadata": {
      "needs_background": "light"
     },
     "output_type": "display_data"
    }
   ],
   "source": [
    "from sklearn.svm import LinearSVC\n",
    "\n",
    "train_scores = []\n",
    "test_scores = []\n",
    "val_scores =[]\n",
    "C_values = []\n",
    "\n",
    "for i in range(-5, 6):\n",
    "\n",
    "    linear_SVC = LinearSVC(C=10**i)\n",
    "\n",
    "    linear_SVC.fit(X_train, y_train)\n",
    "    \n",
    "    C_values.append(10**i)\n",
    "    train_scores.append(linear_SVC.score(X_train, y_train))\n",
    "    test_scores.append(linear_SVC.score(X_test, y_test))\n",
    "    val_scores.append(linear_SVC.score(X_validation, y_validation))\n",
    "\n",
    "    \n",
    "plt.figure()\n",
    "plt.plot(C_values, train_scores, label=\"Train\")\n",
    "plt.plot(C_values, val_scores, label=\"Validation\")\n",
    "plt.xscale(\"log\")\n",
    "plt.legend()\n",
    "plt.ylabel(\"Accuracy (%)\")\n",
    "plt.show()"
   ]
  },
  {
   "cell_type": "code",
   "execution_count": 90,
   "metadata": {},
   "outputs": [
    {
     "data": {
      "image/png": "[encoded data removed]",
      "text/plain": [
       "<Figure size 432x288 with 1 Axes>"
      ]
     },
     "metadata": {
      "needs_background": "light"
     },
     "output_type": "display_data"
    },
    {
     "name": "stdout",
     "output_type": "stream",
     "text": [
      "The best model has C =  0.1\n"
     ]
    }
   ],
   "source": [
    "from sklearn.model_selection import cross_val_score\n",
    "\n",
    "cross_validation_scores = []\n",
    "\n",
    "C_range = np.array([.00000001,.0000001,.000001,.00001,.0001,.001,.1,\\\n",
    "                1,10,100,1000,10000,100000,1000000,10000000,100000000,1000000000])\n",
    "\n",
    "#Do some cross validation\n",
    "for c in C_range:\n",
    "    linear_SVC = LinearSVC(C=c)\n",
    "    cv_score = np.mean(cross_val_score(linear_SVC, X_remainder, y_remainder, cv = 10))\n",
    "    cross_validation_scores.append(cv_score)\n",
    "\n",
    "plt.figure()\n",
    "plt.plot(C_range, cross_validation_scores,label=\"Cross Validation Score\",marker='.')\n",
    "plt.legend()\n",
    "plt.xscale(\"log\")\n",
    "plt.xlabel('Regularization Parameter: C')\n",
    "plt.ylabel('Cross Validation Score')\n",
    "plt.grid()\n",
    "plt.show();\n",
    "\n",
    "which_max = np.array(cross_validation_scores).argmax()\n",
    "\n",
    "print(\"The best model has C = \",C_range[which_max])"
   ]
  },
  {
   "cell_type": "code",
   "execution_count": 91,
   "metadata": {},
   "outputs": [
    {
     "data": {
      "image/png": "[encoded data removed]",
      "text/plain": [
       "<Figure size 432x288 with 1 Axes>"
      ]
     },
     "metadata": {
      "needs_background": "light"
     },
     "output_type": "display_data"
    },
    {
     "name": "stdout",
     "output_type": "stream",
     "text": [
      "Score on train: 0.9633023990142092\n",
      "Score on test: 0.9439759732008779\n"
     ]
    }
   ],
   "source": [
    "best_linear_SVC = LinearSVC(C=C_range[which_max])\n",
    "best_linear_SVC.fit(X_remainder, y_remainder)\n",
    "\n",
    "linearSVC_fprs_test, linearSVC_tprs_test, thresholds_test = roc_curve(y_test, y_pred)\n",
    "\n",
    "linearSVC_auc_value = roc_auc_score(y_test, y_pred)\n",
    "\n",
    "plt.figure()\n",
    "plt.plot(linearSVC_fprs_test, linearSVC_tprs_test, label=f\"linearSVC AUC: {round(rf_auc_value,2)}\")\n",
    "plt.legend()\n",
    "plt.show()\n",
    "\n",
    "train_score = best_linear_SVC.score(X_remainder,y_remainder)\n",
    "test_score = best_linear_SVC.score(X_test, y_test)\n",
    "\n",
    "print(f'Score on train: {train_score}')\n",
    "print(f'Score on test: {test_score}')"
   ]
  },
  {
   "cell_type": "code",
   "execution_count": 92,
   "metadata": {},
   "outputs": [],
   "source": [
    "accuracy_sc.append(test_score)\n",
    "modelling.append('Linear SVC')"
   ]
  },
  {
   "cell_type": "code",
   "execution_count": 93,
   "metadata": {},
   "outputs": [
    {
     "data": {
      "text/plain": [
       "array([[ 179,  399],\n",
       "       [  86, 7993]], dtype=int64)"
      ]
     },
     "execution_count": 93,
     "metadata": {},
     "output_type": "execute_result"
    }
   ],
   "source": [
    "from sklearn.metrics import confusion_matrix\n",
    "\n",
    "y_pred = best_linear_SVC.predict(X_test)\n",
    "\n",
    "confusion_matrix(y_test, y_pred)"
   ]
  },
  {
   "cell_type": "code",
   "execution_count": 94,
   "metadata": {},
   "outputs": [
    {
     "name": "stdout",
     "output_type": "stream",
     "text": [
      "              precision    recall  f1-score   support\n",
      "\n",
      "           0       0.68      0.31      0.42       578\n",
      "           1       0.95      0.99      0.97      8079\n",
      "\n",
      "    accuracy                           0.94      8657\n",
      "   macro avg       0.81      0.65      0.70      8657\n",
      "weighted avg       0.93      0.94      0.93      8657\n",
      "\n"
     ]
    }
   ],
   "source": [
    "from sklearn.metrics import classification_report\n",
    "\n",
    "report_initial = classification_report(y_test, y_pred)\n",
    "print(report_initial)"
   ]
  },
  {
   "cell_type": "code",
   "execution_count": 95,
   "metadata": {},
   "outputs": [],
   "source": [
    "prec.append(precision_score(y_test, y_pred))\n",
    "rcall.append(recall_score(y_test, y_pred))\n",
    "f1_sc.append(f1_score(y_test, y_pred))"
   ]
  },
  {
   "cell_type": "markdown",
   "metadata": {},
   "source": [
    "<br>\n",
    "<br>"
   ]
  },
  {
   "cell_type": "markdown",
   "metadata": {},
   "source": [
    "### Kernel SVM"
   ]
  },
  {
   "cell_type": "code",
   "execution_count": 96,
   "metadata": {},
   "outputs": [],
   "source": [
    "X_train, X_validation, X_test, X_remainder, y_train, y_validation, y_test, y_remainder, bagofwords = train_test_split(X,y)"
   ]
  },
  {
   "cell_type": "code",
   "execution_count": 97,
   "metadata": {},
   "outputs": [
    {
     "data": {
      "text/plain": [
       "SVC(kernel='sigmoid', max_iter=100000)"
      ]
     },
     "execution_count": 97,
     "metadata": {},
     "output_type": "execute_result"
    }
   ],
   "source": [
    "from sklearn.svm import SVC\n",
    "my_kernel_SVM = SVC(kernel='sigmoid', max_iter=100000)\n",
    "\n",
    "my_kernel_SVM.fit(X_remainder,y_remainder)"
   ]
  },
  {
   "cell_type": "code",
   "execution_count": 98,
   "metadata": {},
   "outputs": [
    {
     "name": "stdout",
     "output_type": "stream",
     "text": [
      "Score on train: 0.9076976394932419\n",
      "Score on test: 0.9040083169689269\n"
     ]
    }
   ],
   "source": [
    "train_score = my_kernel_SVM.score(X_remainder,y_remainder)\n",
    "test_score = my_kernel_SVM.score(X_test, y_test)\n",
    "\n",
    "print(f'Score on train: {train_score}')\n",
    "print(f'Score on test: {test_score}')"
   ]
  },
  {
   "cell_type": "code",
   "execution_count": 99,
   "metadata": {},
   "outputs": [],
   "source": [
    "accuracy_sc.append(test_score)\n",
    "modelling.append('Kernel SVM')"
   ]
  },
  {
   "cell_type": "code",
   "execution_count": 100,
   "metadata": {},
   "outputs": [
    {
     "data": {
      "text/plain": [
       "array([[  87,  491],\n",
       "       [ 340, 7739]], dtype=int64)"
      ]
     },
     "execution_count": 100,
     "metadata": {},
     "output_type": "execute_result"
    }
   ],
   "source": [
    "from sklearn.metrics import confusion_matrix\n",
    "\n",
    "y_pred = my_kernel_SVM.predict(X_test)\n",
    "\n",
    "confusion_matrix(y_test, y_pred)"
   ]
  },
  {
   "cell_type": "code",
   "execution_count": 101,
   "metadata": {},
   "outputs": [
    {
     "name": "stdout",
     "output_type": "stream",
     "text": [
      "              precision    recall  f1-score   support\n",
      "\n",
      "           0       0.20      0.15      0.17       578\n",
      "           1       0.94      0.96      0.95      8079\n",
      "\n",
      "    accuracy                           0.90      8657\n",
      "   macro avg       0.57      0.55      0.56      8657\n",
      "weighted avg       0.89      0.90      0.90      8657\n",
      "\n"
     ]
    }
   ],
   "source": [
    "from sklearn.metrics import classification_report\n",
    "\n",
    "report_initial = classification_report(y_test, y_pred)\n",
    "print(report_initial)"
   ]
  },
  {
   "cell_type": "code",
   "execution_count": 102,
   "metadata": {},
   "outputs": [],
   "source": [
    "prec.append(precision_score(y_test, y_pred))\n",
    "rcall.append(recall_score(y_test, y_pred))\n",
    "f1_sc.append(f1_score(y_test, y_pred))"
   ]
  },
  {
   "cell_type": "markdown",
   "metadata": {},
   "source": [
    "<br>"
   ]
  },
  {
   "cell_type": "markdown",
   "metadata": {},
   "source": [
    "### Naive Bayes"
   ]
  },
  {
   "cell_type": "code",
   "execution_count": 103,
   "metadata": {},
   "outputs": [],
   "source": [
    "X_train, X_validation, X_test, X_remainder, y_train, y_validation, y_test, y_remainder, bagofwords = train_test_split(X,y)"
   ]
  },
  {
   "cell_type": "code",
   "execution_count": 104,
   "metadata": {},
   "outputs": [
    {
     "data": {
      "text/plain": [
       "array([1, 1, 1, ..., 0, 1, 1], dtype=int64)"
      ]
     },
     "execution_count": 104,
     "metadata": {},
     "output_type": "execute_result"
    }
   ],
   "source": [
    "from sklearn.naive_bayes import GaussianNB, MultinomialNB, BernoulliNB\n",
    "\n",
    "# Instatiate our model\n",
    "nbmodel = BernoulliNB()\n",
    "# Fit our model\n",
    "nbmodel.fit(X_remainder, y_remainder)\n",
    "\n",
    "nbmodel.predict(X_test)"
   ]
  },
  {
   "cell_type": "code",
   "execution_count": 105,
   "metadata": {},
   "outputs": [
    {
     "name": "stdout",
     "output_type": "stream",
     "text": [
      "Score on test: 0.9088598821762736\n"
     ]
    }
   ],
   "source": [
    "test_score = nbmodel.score(X_test, y_test)\n",
    "print(f'Score on test: {test_score}')"
   ]
  },
  {
   "cell_type": "code",
   "execution_count": 106,
   "metadata": {},
   "outputs": [],
   "source": [
    "accuracy_sc.append(test_score)\n",
    "modelling.append('Naive Bayes')"
   ]
  },
  {
   "cell_type": "code",
   "execution_count": 107,
   "metadata": {},
   "outputs": [
    {
     "data": {
      "text/plain": [
       "array([[ 156,  422],\n",
       "       [ 367, 7712]], dtype=int64)"
      ]
     },
     "execution_count": 107,
     "metadata": {},
     "output_type": "execute_result"
    }
   ],
   "source": [
    "from sklearn.metrics import confusion_matrix\n",
    "\n",
    "y_pred = nbmodel.predict(X_test)\n",
    "\n",
    "confusion_matrix(y_test, y_pred)"
   ]
  },
  {
   "cell_type": "code",
   "execution_count": 108,
   "metadata": {},
   "outputs": [
    {
     "name": "stdout",
     "output_type": "stream",
     "text": [
      "              precision    recall  f1-score   support\n",
      "\n",
      "           0       0.30      0.27      0.28       578\n",
      "           1       0.95      0.95      0.95      8079\n",
      "\n",
      "    accuracy                           0.91      8657\n",
      "   macro avg       0.62      0.61      0.62      8657\n",
      "weighted avg       0.90      0.91      0.91      8657\n",
      "\n"
     ]
    }
   ],
   "source": [
    "from sklearn.metrics import classification_report\n",
    "\n",
    "report_initial = classification_report(y_test, y_pred)\n",
    "print(report_initial)"
   ]
  },
  {
   "cell_type": "code",
   "execution_count": 109,
   "metadata": {},
   "outputs": [],
   "source": [
    "prec.append(precision_score(y_test, y_pred))\n",
    "rcall.append(recall_score(y_test, y_pred))\n",
    "f1_sc.append(f1_score(y_test, y_pred))"
   ]
  },
  {
   "cell_type": "markdown",
   "metadata": {},
   "source": [
    "<br>"
   ]
  },
  {
   "cell_type": "markdown",
   "metadata": {},
   "source": [
    "### Word embedding with Neural Network"
   ]
  },
  {
   "cell_type": "code",
   "execution_count": 110,
   "metadata": {},
   "outputs": [],
   "source": [
    "from sklearn.model_selection import train_test_split\n",
    "\n",
    "# Taking a chuck for our 20% test set\n",
    "X_train, X_test, y_train, y_test = train_test_split(X, y, stratify=y, test_size=0.25)"
   ]
  },
  {
   "cell_type": "code",
   "execution_count": 111,
   "metadata": {},
   "outputs": [
    {
     "data": {
      "text/plain": [
       "0    [product, far, not, disappoint, children, love...\n",
       "1    [great, beginn, experienc, person, bought, gif...\n",
       "2    [inexpens, tablet, use, learn, step, nabi, thr...\n",
       "3    [ive, fire, hd, 8, two, week, love, tablet, gr...\n",
       "4    [bought, grand, daughter, come, visit, set, us...\n",
       "5    [amazon, fire, 8, inch, tablet, perfect, size,...\n",
       "6    [great, eread, go, nice, light, weight, price,...\n",
       "7    [gave, christma, gift, inlaw, husband, uncl, l...\n",
       "8    [great, devic, read, book, like, link, borrow,...\n",
       "9                    [love, order, book, read, reader]\n",
       "Name: stemmed_tokens, dtype: object"
      ]
     },
     "execution_count": 111,
     "metadata": {},
     "output_type": "execute_result"
    }
   ],
   "source": [
    "reviews_df['stemmed_tokens'] = [my_tokenizer(sentence) for sentence in reviews_df['reviews.text'].values]\n",
    "reviews_df['stemmed_tokens'].head(10)"
   ]
  },
  {
   "cell_type": "code",
   "execution_count": 112,
   "metadata": {},
   "outputs": [],
   "source": [
    "from tensorflow.keras.preprocessing.text import Tokenizer\n",
    "\n",
    "# code taken from my educator, Doug Matthews\n",
    "tokenizer = Tokenizer()\n",
    "tokenizer.fit_on_texts(X_train) # equivalent to .fit(X_train)\n",
    "sequences = tokenizer.texts_to_sequences(X_train) # equivalent to .transform(X_train)"
   ]
  },
  {
   "cell_type": "code",
   "execution_count": 113,
   "metadata": {},
   "outputs": [],
   "source": [
    "# code taken from https://www.tensorflow.org/tutorials/text/word_embeddings\n",
    "\n",
    "import tensorflow as tf\n",
    "train_data = tf.data.Dataset.from_tensor_slices((X_train,y_train))\n",
    "test_data = tf.data.Dataset.from_tensor_slices((X_test, y_test))"
   ]
  },
  {
   "cell_type": "code",
   "execution_count": 114,
   "metadata": {},
   "outputs": [],
   "source": [
    "from tensorflow.keras.preprocessing.sequence import pad_sequences\n",
    "\n",
    "# standardize the lengths of the reviews.\n",
    "# code taken from my educator, Doug Matthews\n",
    "X_train = pad_sequences(sequences, padding='post', truncating='post')\n",
    "X_test = pad_sequences(tokenizer.texts_to_sequences(X_test), padding='post', truncating='post')"
   ]
  },
  {
   "cell_type": "code",
   "execution_count": 115,
   "metadata": {},
   "outputs": [
    {
     "data": {
      "text/plain": [
       "(8657, 1822)"
      ]
     },
     "execution_count": 115,
     "metadata": {},
     "output_type": "execute_result"
    }
   ],
   "source": [
    "X_test.shape"
   ]
  },
  {
   "cell_type": "code",
   "execution_count": 116,
   "metadata": {},
   "outputs": [
    {
     "data": {
      "text/plain": [
       "(8657,)"
      ]
     },
     "execution_count": 116,
     "metadata": {},
     "output_type": "execute_result"
    }
   ],
   "source": [
    "y_test.shape"
   ]
  },
  {
   "cell_type": "code",
   "execution_count": 117,
   "metadata": {},
   "outputs": [
    {
     "data": {
      "text/plain": [
       "array([[  23, 1087,    7, ...,    0,    0,    0],\n",
       "       [  28,  356,   13, ...,    0,    0,    0],\n",
       "       [   1,   35,  717, ...,    0,    0,    0],\n",
       "       ...,\n",
       "       [  10,  370,   67, ...,    0,    0,    0],\n",
       "       [  24,    7,  637, ...,    0,    0,    0],\n",
       "       [  32,    9,    6, ...,    0,    0,    0]])"
      ]
     },
     "execution_count": 117,
     "metadata": {},
     "output_type": "execute_result"
    }
   ],
   "source": [
    "X_train"
   ]
  },
  {
   "cell_type": "code",
   "execution_count": 118,
   "metadata": {},
   "outputs": [
    {
     "data": {
      "text/plain": [
       "array([[2012,  154,   47, ...,    0,    0,    0],\n",
       "       [  51,   11,   44, ...,    0,    0,    0],\n",
       "       [   9,    8,   52, ...,    0,    0,    0],\n",
       "       ...,\n",
       "       [  90,    5,    6, ...,    0,    0,    0],\n",
       "       [   9,    8,   76, ...,    0,    0,    0],\n",
       "       [  44,   22,    5, ...,    0,    0,    0]])"
      ]
     },
     "execution_count": 118,
     "metadata": {},
     "output_type": "execute_result"
    }
   ],
   "source": [
    "X_test"
   ]
  },
  {
   "cell_type": "code",
   "execution_count": 119,
   "metadata": {},
   "outputs": [],
   "source": [
    "y_train = np.array(y_train)\n",
    "y_test = np.array(y_test)"
   ]
  },
  {
   "cell_type": "code",
   "execution_count": 120,
   "metadata": {},
   "outputs": [
    {
     "name": "stdout",
     "output_type": "stream",
     "text": [
      "Vocabulary size: 14094\n"
     ]
    }
   ],
   "source": [
    "from gensim.models import Word2Vec\n",
    "\n",
    "# word2vec only used for counting vocabs size\n",
    "stemmed_tokens = pd.Series(reviews_df['stemmed_tokens']).values\n",
    "w2v_model = Word2Vec(stemmed_tokens, min_count = 1, size = 1000, workers = 3, window = 3, sg = 1)\n",
    "words = list(w2v_model.wv.vocab)\n",
    "print('Vocabulary size: %d' % len(words))"
   ]
  },
  {
   "cell_type": "code",
   "execution_count": 121,
   "metadata": {},
   "outputs": [
    {
     "name": "stdout",
     "output_type": "stream",
     "text": [
      "Model: \"sequential\"\n",
      "_________________________________________________________________\n",
      "Layer (type)                 Output Shape              Param #   \n",
      "=================================================================\n",
      "embedding (Embedding)        (None, None, 16)          225504    \n",
      "_________________________________________________________________\n",
      "global_average_pooling1d (Gl (None, 16)                0         \n",
      "_________________________________________________________________\n",
      "dense (Dense)                (None, 16)                272       \n",
      "_________________________________________________________________\n",
      "dense_1 (Dense)              (None, 1)                 17        \n",
      "=================================================================\n",
      "Total params: 225,793\n",
      "Trainable params: 225,793\n",
      "Non-trainable params: 0\n",
      "_________________________________________________________________\n"
     ]
    }
   ],
   "source": [
    "embedding_dim=16\n",
    "import tensorflow as tf\n",
    "from tensorflow import keras\n",
    "from tensorflow.keras import layers\n",
    "\n",
    "model = keras.Sequential([\n",
    "  layers.Embedding(len(words), embedding_dim),\n",
    "  layers.GlobalAveragePooling1D(),\n",
    "  layers.Dense(16, activation='relu'),\n",
    "  layers.Dense(1)\n",
    "])\n",
    "\n",
    "model.summary()"
   ]
  },
  {
   "cell_type": "code",
   "execution_count": 122,
   "metadata": {
    "scrolled": false
   },
   "outputs": [
    {
     "name": "stdout",
     "output_type": "stream",
     "text": [
      "Epoch 1/100\n",
      "812/812 [==============================] - 6s 8ms/step - loss: 0.2844 - accuracy: 0.8693 - val_loss: 0.2437 - val_accuracy: 0.9332\n",
      "Epoch 2/100\n",
      "812/812 [==============================] - 6s 7ms/step - loss: 0.2430 - accuracy: 0.9332 - val_loss: 0.2428 - val_accuracy: 0.9331\n",
      "Epoch 3/100\n",
      "812/812 [==============================] - 6s 7ms/step - loss: 0.2417 - accuracy: 0.9332 - val_loss: 0.2414 - val_accuracy: 0.9331\n",
      "Epoch 4/100\n",
      "812/812 [==============================] - 6s 7ms/step - loss: 0.2403 - accuracy: 0.9332 - val_loss: 0.2398 - val_accuracy: 0.9331\n",
      "Epoch 5/100\n",
      "812/812 [==============================] - 6s 7ms/step - loss: 0.2382 - accuracy: 0.9332 - val_loss: 0.2382 - val_accuracy: 0.9331\n",
      "Epoch 6/100\n",
      "812/812 [==============================] - 6s 7ms/step - loss: 0.2355 - accuracy: 0.9330 - val_loss: 0.2353 - val_accuracy: 0.9329\n",
      "Epoch 7/100\n",
      "812/812 [==============================] - 6s 7ms/step - loss: 0.2319 - accuracy: 0.9330 - val_loss: 0.2325 - val_accuracy: 0.9325\n",
      "Epoch 8/100\n",
      "812/812 [==============================] - 6s 7ms/step - loss: 0.2268 - accuracy: 0.9327 - val_loss: 0.2302 - val_accuracy: 0.9325\n",
      "Epoch 9/100\n",
      "812/812 [==============================] - 6s 7ms/step - loss: 0.2199 - accuracy: 0.9318 - val_loss: 0.2216 - val_accuracy: 0.9325\n",
      "Epoch 10/100\n",
      "812/812 [==============================] - 6s 7ms/step - loss: 0.2103 - accuracy: 0.9321 - val_loss: 0.2101 - val_accuracy: 0.9333\n",
      "Epoch 11/100\n",
      "812/812 [==============================] - 6s 7ms/step - loss: 0.1989 - accuracy: 0.9336 - val_loss: 0.2002 - val_accuracy: 0.9342\n",
      "Epoch 12/100\n",
      "812/812 [==============================] - 6s 7ms/step - loss: 0.1881 - accuracy: 0.9357 - val_loss: 0.1913 - val_accuracy: 0.9359\n",
      "Epoch 13/100\n",
      "812/812 [==============================] - 6s 7ms/step - loss: 0.1773 - accuracy: 0.9373 - val_loss: 0.1842 - val_accuracy: 0.9370\n",
      "Epoch 14/100\n",
      "812/812 [==============================] - 6s 7ms/step - loss: 0.1687 - accuracy: 0.9386 - val_loss: 0.1780 - val_accuracy: 0.9374\n",
      "Epoch 15/100\n",
      "812/812 [==============================] - 6s 7ms/step - loss: 0.1634 - accuracy: 0.9400 - val_loss: 0.1751 - val_accuracy: 0.9377\n",
      "Epoch 16/100\n",
      "812/812 [==============================] - 6s 7ms/step - loss: 0.1587 - accuracy: 0.9414 - val_loss: 0.1749 - val_accuracy: 0.9384\n",
      "Epoch 17/100\n",
      "812/812 [==============================] - 6s 7ms/step - loss: 0.1553 - accuracy: 0.9428 - val_loss: 0.1738 - val_accuracy: 0.9336\n",
      "Epoch 18/100\n",
      "812/812 [==============================] - 6s 7ms/step - loss: 0.1521 - accuracy: 0.9441 - val_loss: 0.1761 - val_accuracy: 0.9389\n",
      "Epoch 19/100\n",
      "812/812 [==============================] - 6s 7ms/step - loss: 0.1498 - accuracy: 0.9439 - val_loss: 0.1766 - val_accuracy: 0.9394\n",
      "Epoch 20/100\n",
      "812/812 [==============================] - 6s 7ms/step - loss: 0.1468 - accuracy: 0.9458 - val_loss: 0.1758 - val_accuracy: 0.9391\n",
      "Epoch 21/100\n",
      "812/812 [==============================] - 6s 8ms/step - loss: 0.1446 - accuracy: 0.9469 - val_loss: 0.1685 - val_accuracy: 0.9373\n",
      "Epoch 22/100\n",
      "812/812 [==============================] - 6s 7ms/step - loss: 0.1431 - accuracy: 0.9474 - val_loss: 0.1719 - val_accuracy: 0.9392\n",
      "Epoch 23/100\n",
      "812/812 [==============================] - 6s 7ms/step - loss: 0.1412 - accuracy: 0.9479 - val_loss: 0.1683 - val_accuracy: 0.9357\n",
      "Epoch 24/100\n",
      "812/812 [==============================] - 6s 7ms/step - loss: 0.1391 - accuracy: 0.9494 - val_loss: 0.1690 - val_accuracy: 0.9395\n",
      "Epoch 25/100\n",
      "812/812 [==============================] - 6s 7ms/step - loss: 0.1366 - accuracy: 0.9504 - val_loss: 0.1716 - val_accuracy: 0.9404\n",
      "Epoch 26/100\n",
      "812/812 [==============================] - 6s 7ms/step - loss: 0.1362 - accuracy: 0.9504 - val_loss: 0.1678 - val_accuracy: 0.9399\n",
      "Epoch 27/100\n",
      "812/812 [==============================] - 6s 7ms/step - loss: 0.1339 - accuracy: 0.9501 - val_loss: 0.1685 - val_accuracy: 0.9399\n",
      "Epoch 28/100\n",
      "812/812 [==============================] - 6s 7ms/step - loss: 0.1316 - accuracy: 0.9516 - val_loss: 0.1667 - val_accuracy: 0.9385\n",
      "Epoch 29/100\n",
      "812/812 [==============================] - 6s 7ms/step - loss: 0.1314 - accuracy: 0.9525 - val_loss: 0.1689 - val_accuracy: 0.9403\n",
      "Epoch 30/100\n",
      "812/812 [==============================] - 6s 8ms/step - loss: 0.1288 - accuracy: 0.9526 - val_loss: 0.1711 - val_accuracy: 0.9412\n",
      "Epoch 31/100\n",
      "812/812 [==============================] - 7s 8ms/step - loss: 0.1268 - accuracy: 0.9538 - val_loss: 0.1684 - val_accuracy: 0.9400\n",
      "Epoch 32/100\n",
      "812/812 [==============================] - 6s 7ms/step - loss: 0.1260 - accuracy: 0.9547 - val_loss: 0.1824 - val_accuracy: 0.9421\n",
      "Epoch 33/100\n",
      "812/812 [==============================] - 6s 7ms/step - loss: 0.1257 - accuracy: 0.9543 - val_loss: 0.1741 - val_accuracy: 0.9420\n",
      "Epoch 34/100\n",
      "812/812 [==============================] - 6s 7ms/step - loss: 0.1235 - accuracy: 0.9555 - val_loss: 0.1700 - val_accuracy: 0.9410\n",
      "Epoch 35/100\n",
      "812/812 [==============================] - 6s 7ms/step - loss: 0.1214 - accuracy: 0.9553 - val_loss: 0.1685 - val_accuracy: 0.9391\n",
      "Epoch 36/100\n",
      "812/812 [==============================] - 6s 7ms/step - loss: 0.1208 - accuracy: 0.9556 - val_loss: 0.1697 - val_accuracy: 0.9353\n",
      "Epoch 37/100\n",
      "812/812 [==============================] - 6s 8ms/step - loss: 0.1193 - accuracy: 0.9574 - val_loss: 0.1690 - val_accuracy: 0.9369\n",
      "Epoch 38/100\n",
      "812/812 [==============================] - 7s 9ms/step - loss: 0.1179 - accuracy: 0.9581 - val_loss: 0.1699 - val_accuracy: 0.9375\n",
      "Epoch 39/100\n",
      "812/812 [==============================] - 6s 7ms/step - loss: 0.1173 - accuracy: 0.9576 - val_loss: 0.1905 - val_accuracy: 0.9432\n",
      "Epoch 40/100\n",
      "812/812 [==============================] - 6s 7ms/step - loss: 0.1162 - accuracy: 0.9577 - val_loss: 0.1763 - val_accuracy: 0.9318\n",
      "Epoch 41/100\n",
      "812/812 [==============================] - 6s 7ms/step - loss: 0.1147 - accuracy: 0.9589 - val_loss: 0.1870 - val_accuracy: 0.9432\n",
      "Epoch 42/100\n",
      "812/812 [==============================] - 6s 7ms/step - loss: 0.1143 - accuracy: 0.9581 - val_loss: 0.1758 - val_accuracy: 0.9422\n",
      "Epoch 43/100\n",
      "812/812 [==============================] - 6s 7ms/step - loss: 0.1125 - accuracy: 0.9595 - val_loss: 0.1734 - val_accuracy: 0.9383\n",
      "Epoch 44/100\n",
      "812/812 [==============================] - 6s 7ms/step - loss: 0.1112 - accuracy: 0.9610 - val_loss: 0.1749 - val_accuracy: 0.9407\n",
      "Epoch 45/100\n",
      "812/812 [==============================] - 6s 7ms/step - loss: 0.1087 - accuracy: 0.9613 - val_loss: 0.1786 - val_accuracy: 0.9422\n",
      "Epoch 46/100\n",
      "812/812 [==============================] - 6s 7ms/step - loss: 0.1092 - accuracy: 0.9604 - val_loss: 0.1810 - val_accuracy: 0.9424\n",
      "Epoch 47/100\n",
      "812/812 [==============================] - 6s 7ms/step - loss: 0.1089 - accuracy: 0.9619 - val_loss: 0.1765 - val_accuracy: 0.9358\n",
      "Epoch 48/100\n",
      "812/812 [==============================] - 6s 7ms/step - loss: 0.1088 - accuracy: 0.9601 - val_loss: 0.2162 - val_accuracy: 0.9427\n",
      "Epoch 49/100\n",
      "812/812 [==============================] - 6s 7ms/step - loss: 0.1067 - accuracy: 0.9616 - val_loss: 0.2101 - val_accuracy: 0.9425\n",
      "Epoch 50/100\n",
      "812/812 [==============================] - 6s 7ms/step - loss: 0.1045 - accuracy: 0.9633 - val_loss: 0.1816 - val_accuracy: 0.9405\n",
      "Epoch 51/100\n",
      "812/812 [==============================] - 6s 7ms/step - loss: 0.1037 - accuracy: 0.9633 - val_loss: 0.1813 - val_accuracy: 0.9318\n",
      "Epoch 52/100\n",
      "812/812 [==============================] - 6s 7ms/step - loss: 0.1039 - accuracy: 0.9627 - val_loss: 0.1901 - val_accuracy: 0.9258\n",
      "Epoch 53/100\n",
      "812/812 [==============================] - 6s 7ms/step - loss: 0.1030 - accuracy: 0.9632 - val_loss: 0.2039 - val_accuracy: 0.9433\n",
      "Epoch 54/100\n",
      "812/812 [==============================] - 6s 7ms/step - loss: 0.1015 - accuracy: 0.9640 - val_loss: 0.1941 - val_accuracy: 0.9429\n",
      "Epoch 55/100\n",
      "812/812 [==============================] - 6s 7ms/step - loss: 0.1013 - accuracy: 0.9645 - val_loss: 0.2056 - val_accuracy: 0.9435\n",
      "Epoch 56/100\n",
      "812/812 [==============================] - 6s 8ms/step - loss: 0.1012 - accuracy: 0.9636 - val_loss: 0.2122 - val_accuracy: 0.9433\n",
      "Epoch 57/100\n",
      "812/812 [==============================] - 6s 8ms/step - loss: 0.1002 - accuracy: 0.9642 - val_loss: 0.1873 - val_accuracy: 0.9330\n"
     ]
    },
    {
     "name": "stdout",
     "output_type": "stream",
     "text": [
      "Epoch 58/100\n",
      "812/812 [==============================] - 6s 7ms/step - loss: 0.0991 - accuracy: 0.9640 - val_loss: 0.1927 - val_accuracy: 0.9406\n",
      "Epoch 59/100\n",
      "812/812 [==============================] - 6s 7ms/step - loss: 0.0980 - accuracy: 0.9656 - val_loss: 0.2003 - val_accuracy: 0.9196\n",
      "Epoch 60/100\n",
      "812/812 [==============================] - 6s 7ms/step - loss: 0.0972 - accuracy: 0.9654 - val_loss: 0.1939 - val_accuracy: 0.9398\n",
      "Epoch 61/100\n",
      "812/812 [==============================] - 6s 7ms/step - loss: 0.0960 - accuracy: 0.9651 - val_loss: 0.1925 - val_accuracy: 0.9315\n",
      "Epoch 62/100\n",
      "812/812 [==============================] - 6s 7ms/step - loss: 0.0945 - accuracy: 0.9669 - val_loss: 0.1961 - val_accuracy: 0.9385\n",
      "Epoch 63/100\n",
      "812/812 [==============================] - 6s 7ms/step - loss: 0.0927 - accuracy: 0.9671 - val_loss: 0.1953 - val_accuracy: 0.9338\n",
      "Epoch 64/100\n",
      "812/812 [==============================] - 6s 7ms/step - loss: 0.0931 - accuracy: 0.9662 - val_loss: 0.1993 - val_accuracy: 0.9384\n",
      "Epoch 65/100\n",
      "812/812 [==============================] - 6s 7ms/step - loss: 0.0936 - accuracy: 0.9660 - val_loss: 0.2075 - val_accuracy: 0.9410\n",
      "Epoch 66/100\n",
      "812/812 [==============================] - 6s 7ms/step - loss: 0.0927 - accuracy: 0.9668 - val_loss: 0.2106 - val_accuracy: 0.9409\n",
      "Epoch 67/100\n",
      "812/812 [==============================] - 6s 7ms/step - loss: 0.0910 - accuracy: 0.9686 - val_loss: 0.2003 - val_accuracy: 0.9331\n",
      "Epoch 68/100\n",
      "812/812 [==============================] - 6s 7ms/step - loss: 0.0898 - accuracy: 0.9678 - val_loss: 0.2709 - val_accuracy: 0.9406\n",
      "Epoch 69/100\n",
      "812/812 [==============================] - 6s 7ms/step - loss: 0.0908 - accuracy: 0.9678 - val_loss: 0.2033 - val_accuracy: 0.9305\n",
      "Epoch 70/100\n",
      "812/812 [==============================] - 6s 7ms/step - loss: 0.0891 - accuracy: 0.9689 - val_loss: 0.2087 - val_accuracy: 0.9377\n",
      "Epoch 71/100\n",
      "812/812 [==============================] - 6s 7ms/step - loss: 0.0899 - accuracy: 0.9684 - val_loss: 0.2063 - val_accuracy: 0.9306\n",
      "Epoch 72/100\n",
      "812/812 [==============================] - 6s 7ms/step - loss: 0.0870 - accuracy: 0.9681 - val_loss: 0.2148 - val_accuracy: 0.9379\n",
      "Epoch 73/100\n",
      "812/812 [==============================] - 6s 7ms/step - loss: 0.0855 - accuracy: 0.9702 - val_loss: 0.2156 - val_accuracy: 0.9377\n",
      "Epoch 74/100\n",
      "812/812 [==============================] - 6s 7ms/step - loss: 0.0867 - accuracy: 0.9692 - val_loss: 0.2182 - val_accuracy: 0.9379\n",
      "Epoch 75/100\n",
      "812/812 [==============================] - 6s 7ms/step - loss: 0.0856 - accuracy: 0.9698 - val_loss: 0.2175 - val_accuracy: 0.9372\n",
      "Epoch 76/100\n",
      "812/812 [==============================] - 6s 7ms/step - loss: 0.0844 - accuracy: 0.9702 - val_loss: 0.2152 - val_accuracy: 0.9329\n",
      "Epoch 77/100\n",
      "812/812 [==============================] - 6s 7ms/step - loss: 0.0858 - accuracy: 0.9697 - val_loss: 0.2183 - val_accuracy: 0.9342\n",
      "Epoch 78/100\n",
      "812/812 [==============================] - 6s 7ms/step - loss: 0.0832 - accuracy: 0.9711 - val_loss: 0.2555 - val_accuracy: 0.9424\n",
      "Epoch 79/100\n",
      "812/812 [==============================] - 6s 7ms/step - loss: 0.0838 - accuracy: 0.9710 - val_loss: 0.2480 - val_accuracy: 0.9416\n",
      "Epoch 80/100\n",
      "812/812 [==============================] - 6s 7ms/step - loss: 0.0820 - accuracy: 0.9711 - val_loss: 0.2281 - val_accuracy: 0.9365\n",
      "Epoch 81/100\n",
      "812/812 [==============================] - 6s 7ms/step - loss: 0.0817 - accuracy: 0.9716 - val_loss: 0.2849 - val_accuracy: 0.9400\n",
      "Epoch 82/100\n",
      "812/812 [==============================] - 6s 7ms/step - loss: 0.0821 - accuracy: 0.9714 - val_loss: 0.2285 - val_accuracy: 0.9353\n",
      "Epoch 83/100\n",
      "812/812 [==============================] - 6s 7ms/step - loss: 0.0810 - accuracy: 0.9710 - val_loss: 0.2270 - val_accuracy: 0.9254\n",
      "Epoch 84/100\n",
      "812/812 [==============================] - 6s 7ms/step - loss: 0.0806 - accuracy: 0.9719 - val_loss: 0.2302 - val_accuracy: 0.9345\n",
      "Epoch 85/100\n",
      "812/812 [==============================] - 6s 7ms/step - loss: 0.0789 - accuracy: 0.9720 - val_loss: 0.2301 - val_accuracy: 0.9307\n",
      "Epoch 86/100\n",
      "812/812 [==============================] - 6s 7ms/step - loss: 0.0791 - accuracy: 0.9722 - val_loss: 0.2367 - val_accuracy: 0.9350\n",
      "Epoch 87/100\n",
      "812/812 [==============================] - 6s 7ms/step - loss: 0.0788 - accuracy: 0.9726 - val_loss: 0.2359 - val_accuracy: 0.9340\n",
      "Epoch 88/100\n",
      "812/812 [==============================] - 5s 7ms/step - loss: 0.0787 - accuracy: 0.9714 - val_loss: 0.2597 - val_accuracy: 0.9392\n",
      "Epoch 89/100\n",
      "812/812 [==============================] - 6s 7ms/step - loss: 0.0782 - accuracy: 0.9726 - val_loss: 0.2550 - val_accuracy: 0.9385\n",
      "Epoch 90/100\n",
      "812/812 [==============================] - 6s 7ms/step - loss: 0.0765 - accuracy: 0.9732 - val_loss: 0.2424 - val_accuracy: 0.9342\n",
      "Epoch 91/100\n",
      "812/812 [==============================] - 6s 7ms/step - loss: 0.0758 - accuracy: 0.9743 - val_loss: 0.2424 - val_accuracy: 0.9324\n",
      "Epoch 92/100\n",
      "812/812 [==============================] - 6s 7ms/step - loss: 0.0781 - accuracy: 0.9733 - val_loss: 0.3217 - val_accuracy: 0.9397\n",
      "Epoch 93/100\n",
      "812/812 [==============================] - 6s 7ms/step - loss: 0.0771 - accuracy: 0.9738 - val_loss: 0.3075 - val_accuracy: 0.9400\n",
      "Epoch 94/100\n",
      "812/812 [==============================] - 6s 7ms/step - loss: 0.0749 - accuracy: 0.9742 - val_loss: 0.2730 - val_accuracy: 0.9390\n",
      "Epoch 95/100\n",
      "812/812 [==============================] - 6s 7ms/step - loss: 0.0765 - accuracy: 0.9737 - val_loss: 0.2490 - val_accuracy: 0.9191\n",
      "Epoch 96/100\n",
      "812/812 [==============================] - 6s 7ms/step - loss: 0.0766 - accuracy: 0.9730 - val_loss: 0.2540 - val_accuracy: 0.9342\n",
      "Epoch 97/100\n",
      "812/812 [==============================] - 6s 7ms/step - loss: 0.0748 - accuracy: 0.9740 - val_loss: 0.2678 - val_accuracy: 0.9373\n",
      "Epoch 98/100\n",
      "812/812 [==============================] - 6s 8ms/step - loss: 0.0737 - accuracy: 0.9745 - val_loss: 0.2623 - val_accuracy: 0.9366\n",
      "Epoch 99/100\n",
      "812/812 [==============================] - 6s 7ms/step - loss: 0.0737 - accuracy: 0.9742 - val_loss: 0.2635 - val_accuracy: 0.9041\n",
      "Epoch 100/100\n",
      "812/812 [==============================] - 6s 7ms/step - loss: 0.0732 - accuracy: 0.9749 - val_loss: 0.2730 - val_accuracy: 0.9375\n"
     ]
    }
   ],
   "source": [
    "model.compile(optimizer='adam',\n",
    "              loss=tf.keras.losses.BinaryCrossentropy(from_logits=True),\n",
    "              metrics=['accuracy'])\n",
    "\n",
    "history = model.fit(X_train, y_train, epochs=100, validation_data=(X_test, y_test))"
   ]
  },
  {
   "cell_type": "code",
   "execution_count": 123,
   "metadata": {},
   "outputs": [
    {
     "data": {
      "image/png": "[encoded data removed]",
      "text/plain": [
       "<Figure size 432x288 with 1 Axes>"
      ]
     },
     "metadata": {
      "needs_background": "light"
     },
     "output_type": "display_data"
    },
    {
     "data": {
      "image/png": "[encoded data removed]",
      "text/plain": [
       "<Figure size 432x288 with 1 Axes>"
      ]
     },
     "metadata": {
      "needs_background": "light"
     },
     "output_type": "display_data"
    }
   ],
   "source": [
    "history_dict = history.history\n",
    "\n",
    "acc = history_dict['accuracy']\n",
    "val_acc = history_dict['val_accuracy']\n",
    "loss=history_dict['loss']\n",
    "val_loss=history_dict['val_loss']\n",
    "\n",
    "epochs = range(1, len(acc) + 1)\n",
    "\n",
    "plt.figure()\n",
    "plt.plot(epochs, loss, 'bo', label='Training loss')\n",
    "plt.plot(epochs, val_loss, 'b', label='Validation loss')\n",
    "plt.title('Training and validation loss')\n",
    "plt.xlabel('Epochs')\n",
    "plt.ylabel('Loss')\n",
    "plt.legend()\n",
    "plt.show()\n",
    "\n",
    "plt.figure()\n",
    "plt.plot(epochs, acc, 'bo', label='Training acc')\n",
    "plt.plot(epochs, val_acc, 'b', label='Validation acc')\n",
    "plt.title('Training and validation accuracy')\n",
    "plt.xlabel('Epochs')\n",
    "plt.ylabel('Accuracy')\n",
    "plt.legend(loc='lower right')\n",
    "plt.ylim((0.5,1))\n",
    "plt.show()"
   ]
  },
  {
   "cell_type": "markdown",
   "metadata": {},
   "source": [
    "Looking at this result, we can see that the training loss continues to decrease after each epoch. However, the validation loss actually starts to increase. After a certain number of epochs our model begins to overfit to our training data. We can use this plot to determine the number of epochs we want to run our model for. In this example, we would probably stop training our model after about 10 epochs. <br> <br>\n",
    "In practice, many neural networks will take so long to train that we will never reach this threshold. In these cases, we will train for as long as feasibly possible or until we get results that are satisfactory for our application."
   ]
  },
  {
   "cell_type": "code",
   "execution_count": 124,
   "metadata": {},
   "outputs": [
    {
     "name": "stdout",
     "output_type": "stream",
     "text": [
      "68/68 - 0s - loss: 0.2730 - accuracy: 0.9375\n",
      "0.9375072121620178\n"
     ]
    }
   ],
   "source": [
    "score = model.evaluate(X_test, y_test, batch_size=128, verbose=2)\n",
    "print (score[1])"
   ]
  },
  {
   "cell_type": "code",
   "execution_count": 125,
   "metadata": {},
   "outputs": [
    {
     "name": "stdout",
     "output_type": "stream",
     "text": [
      "WARNING:tensorflow:From <ipython-input-125-b942a8d50f95>:4: Sequential.predict_classes (from tensorflow.python.keras.engine.sequential) is deprecated and will be removed after 2021-01-01.\n",
      "Instructions for updating:\n",
      "Please use instead:* `np.argmax(model.predict(x), axis=-1)`,   if your model does multi-class classification   (e.g. if it uses a `softmax` last-layer activation).* `(model.predict(x) > 0.5).astype(\"int32\")`,   if your model does binary classification   (e.g. if it uses a `sigmoid` last-layer activation).\n"
     ]
    },
    {
     "data": {
      "text/plain": [
       "array([[ 163,  415],\n",
       "       [ 126, 7953]], dtype=int64)"
      ]
     },
     "execution_count": 125,
     "metadata": {},
     "output_type": "execute_result"
    }
   ],
   "source": [
    "\n",
    "from sklearn.metrics import confusion_matrix\n",
    "\n",
    "# y_pred = model.predict(X_test)\n",
    "y_pred = model.predict_classes(X_test,batch_size=128)\n",
    "\n",
    "confusion_matrix(y_test, y_pred)"
   ]
  },
  {
   "cell_type": "code",
   "execution_count": 126,
   "metadata": {},
   "outputs": [
    {
     "name": "stdout",
     "output_type": "stream",
     "text": [
      "              precision    recall  f1-score   support\n",
      "\n",
      "           0       0.56      0.28      0.38       578\n",
      "           1       0.95      0.98      0.97      8079\n",
      "\n",
      "    accuracy                           0.94      8657\n",
      "   macro avg       0.76      0.63      0.67      8657\n",
      "weighted avg       0.92      0.94      0.93      8657\n",
      "\n"
     ]
    }
   ],
   "source": [
    "from sklearn.metrics import classification_report\n",
    "\n",
    "report_initial = classification_report(y_test, y_pred)\n",
    "print(report_initial)"
   ]
  },
  {
   "cell_type": "code",
   "execution_count": 127,
   "metadata": {},
   "outputs": [],
   "source": [
    "accuracy_sc.append(score[1])\n",
    "modelling.append('Tensorflow NN')"
   ]
  },
  {
   "cell_type": "code",
   "execution_count": 128,
   "metadata": {},
   "outputs": [],
   "source": [
    "prec.append(precision_score(y_test, y_pred))\n",
    "rcall.append(recall_score(y_test, y_pred))\n",
    "f1_sc.append(f1_score(y_test, y_pred))"
   ]
  },
  {
   "cell_type": "markdown",
   "metadata": {},
   "source": [
    "<br><br>"
   ]
  },
  {
   "cell_type": "markdown",
   "metadata": {},
   "source": [
    "### Results"
   ]
  },
  {
   "cell_type": "code",
   "execution_count": 129,
   "metadata": {},
   "outputs": [
    {
     "data": {
      "text/html": [
       "<div>\n",
       "<style scoped>\n",
       "    .dataframe tbody tr th:only-of-type {\n",
       "        vertical-align: middle;\n",
       "    }\n",
       "\n",
       "    .dataframe tbody tr th {\n",
       "        vertical-align: top;\n",
       "    }\n",
       "\n",
       "    .dataframe thead th {\n",
       "        text-align: right;\n",
       "    }\n",
       "</style>\n",
       "<table border=\"1\" class=\"dataframe\">\n",
       "  <thead>\n",
       "    <tr style=\"text-align: right;\">\n",
       "      <th></th>\n",
       "      <th>Model</th>\n",
       "      <th>Accuracy Score</th>\n",
       "      <th>Precision</th>\n",
       "      <th>Recall</th>\n",
       "      <th>F1 Score</th>\n",
       "    </tr>\n",
       "  </thead>\n",
       "  <tbody>\n",
       "    <tr>\n",
       "      <th>0</th>\n",
       "      <td>Logistic Regression</td>\n",
       "      <td>0.938893</td>\n",
       "      <td>0.944850</td>\n",
       "      <td>0.992450</td>\n",
       "      <td>0.968065</td>\n",
       "    </tr>\n",
       "    <tr>\n",
       "      <th>1</th>\n",
       "      <td>K Nearest Neighbor</td>\n",
       "      <td>0.932656</td>\n",
       "      <td>0.933897</td>\n",
       "      <td>0.998515</td>\n",
       "      <td>0.965125</td>\n",
       "    </tr>\n",
       "    <tr>\n",
       "      <th>2</th>\n",
       "      <td>Decision Tree</td>\n",
       "      <td>0.935659</td>\n",
       "      <td>0.938652</td>\n",
       "      <td>0.996163</td>\n",
       "      <td>0.966553</td>\n",
       "    </tr>\n",
       "    <tr>\n",
       "      <th>3</th>\n",
       "      <td>Random Forest</td>\n",
       "      <td>0.936237</td>\n",
       "      <td>0.938075</td>\n",
       "      <td>0.997524</td>\n",
       "      <td>0.966887</td>\n",
       "    </tr>\n",
       "    <tr>\n",
       "      <th>4</th>\n",
       "      <td>Linear SVC</td>\n",
       "      <td>0.943976</td>\n",
       "      <td>0.952455</td>\n",
       "      <td>0.989355</td>\n",
       "      <td>0.970554</td>\n",
       "    </tr>\n",
       "    <tr>\n",
       "      <th>5</th>\n",
       "      <td>Kernel SVM</td>\n",
       "      <td>0.904008</td>\n",
       "      <td>0.940340</td>\n",
       "      <td>0.957916</td>\n",
       "      <td>0.949047</td>\n",
       "    </tr>\n",
       "    <tr>\n",
       "      <th>6</th>\n",
       "      <td>Naive Bayes</td>\n",
       "      <td>0.908860</td>\n",
       "      <td>0.948119</td>\n",
       "      <td>0.954574</td>\n",
       "      <td>0.951335</td>\n",
       "    </tr>\n",
       "    <tr>\n",
       "      <th>7</th>\n",
       "      <td>Tensorflow NN</td>\n",
       "      <td>0.937507</td>\n",
       "      <td>0.950406</td>\n",
       "      <td>0.984404</td>\n",
       "      <td>0.967106</td>\n",
       "    </tr>\n",
       "  </tbody>\n",
       "</table>\n",
       "</div>"
      ],
      "text/plain": [
       "                 Model  Accuracy Score  Precision    Recall  F1 Score\n",
       "0  Logistic Regression        0.938893   0.944850  0.992450  0.968065\n",
       "1   K Nearest Neighbor        0.932656   0.933897  0.998515  0.965125\n",
       "2        Decision Tree        0.935659   0.938652  0.996163  0.966553\n",
       "3        Random Forest        0.936237   0.938075  0.997524  0.966887\n",
       "4           Linear SVC        0.943976   0.952455  0.989355  0.970554\n",
       "5           Kernel SVM        0.904008   0.940340  0.957916  0.949047\n",
       "6          Naive Bayes        0.908860   0.948119  0.954574  0.951335\n",
       "7        Tensorflow NN        0.937507   0.950406  0.984404  0.967106"
      ]
     },
     "execution_count": 129,
     "metadata": {},
     "output_type": "execute_result"
    }
   ],
   "source": [
    "results_df=pd.DataFrame()\n",
    "results_df['Model']=modelling\n",
    "results_df['Accuracy Score']=accuracy_sc\n",
    "results_df['Precision']=prec\n",
    "results_df['Recall']=rcall\n",
    "results_df['F1 Score']=f1_sc\n",
    "results_df"
   ]
  },
  {
   "cell_type": "code",
   "execution_count": 130,
   "metadata": {},
   "outputs": [],
   "source": [
    "# results_df.to_excel(\"results.xlsx\") "
   ]
  },
  {
   "cell_type": "markdown",
   "metadata": {},
   "source": [
    "Looks like all the models performed very well (>90%), and we will use the Linear Support Vector Machine Classifier since it has the highest accuracy level at 94.39%."
   ]
  }
 ],
 "metadata": {
  "kernelspec": {
   "display_name": "deeplearning",
   "language": "python",
   "name": "deeplearning"
  },
  "language_info": {
   "codemirror_mode": {
    "name": "ipython",
    "version": 3
   },
   "file_extension": ".py",
   "mimetype": "text/x-python",
   "name": "python",
   "nbconvert_exporter": "python",
   "pygments_lexer": "ipython3",
   "version": "3.8.5"
  }
 },
 "nbformat": 4,
 "nbformat_minor": 4
}
