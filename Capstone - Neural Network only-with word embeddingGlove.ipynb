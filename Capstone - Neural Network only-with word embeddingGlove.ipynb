{
 "cells": [
  {
   "cell_type": "code",
   "execution_count": 1,
   "metadata": {},
   "outputs": [],
   "source": [
    "import numpy as np\n",
    "import pandas as pd\n",
    "import matplotlib.pyplot as plt\n",
    "%matplotlib inline\n",
    "import seaborn as sns"
   ]
  },
  {
   "cell_type": "code",
   "execution_count": 2,
   "metadata": {},
   "outputs": [
    {
     "data": {
      "text/html": [
       "<div>\n",
       "<style scoped>\n",
       "    .dataframe tbody tr th:only-of-type {\n",
       "        vertical-align: middle;\n",
       "    }\n",
       "\n",
       "    .dataframe tbody tr th {\n",
       "        vertical-align: top;\n",
       "    }\n",
       "\n",
       "    .dataframe thead th {\n",
       "        text-align: right;\n",
       "    }\n",
       "</style>\n",
       "<table border=\"1\" class=\"dataframe\">\n",
       "  <thead>\n",
       "    <tr style=\"text-align: right;\">\n",
       "      <th></th>\n",
       "      <th>0</th>\n",
       "    </tr>\n",
       "  </thead>\n",
       "  <tbody>\n",
       "    <tr>\n",
       "      <th>id</th>\n",
       "      <td>AVqkIhwDv8e3D1O-lebb</td>\n",
       "    </tr>\n",
       "    <tr>\n",
       "      <th>name</th>\n",
       "      <td>All-New Fire HD 8 Tablet, 8 HD Display, Wi-Fi,...</td>\n",
       "    </tr>\n",
       "    <tr>\n",
       "      <th>asins</th>\n",
       "      <td>B01AHB9CN2</td>\n",
       "    </tr>\n",
       "    <tr>\n",
       "      <th>brand</th>\n",
       "      <td>Amazon</td>\n",
       "    </tr>\n",
       "    <tr>\n",
       "      <th>categories</th>\n",
       "      <td>Electronics,iPad &amp; Tablets,All Tablets,Fire Ta...</td>\n",
       "    </tr>\n",
       "    <tr>\n",
       "      <th>keys</th>\n",
       "      <td>841667104676,amazon/53004484,amazon/b01ahb9cn2...</td>\n",
       "    </tr>\n",
       "    <tr>\n",
       "      <th>manufacturer</th>\n",
       "      <td>Amazon</td>\n",
       "    </tr>\n",
       "    <tr>\n",
       "      <th>reviews.date</th>\n",
       "      <td>2017-01-13T00:00:00.000Z</td>\n",
       "    </tr>\n",
       "    <tr>\n",
       "      <th>reviews.dateAdded</th>\n",
       "      <td>2017-07-03T23:33:15Z</td>\n",
       "    </tr>\n",
       "    <tr>\n",
       "      <th>reviews.dateSeen</th>\n",
       "      <td>2017-06-07T09:04:00.000Z,2017-04-30T00:45:00.000Z</td>\n",
       "    </tr>\n",
       "    <tr>\n",
       "      <th>reviews.didPurchase</th>\n",
       "      <td>NaN</td>\n",
       "    </tr>\n",
       "    <tr>\n",
       "      <th>reviews.doRecommend</th>\n",
       "      <td>True</td>\n",
       "    </tr>\n",
       "    <tr>\n",
       "      <th>reviews.id</th>\n",
       "      <td>NaN</td>\n",
       "    </tr>\n",
       "    <tr>\n",
       "      <th>reviews.numHelpful</th>\n",
       "      <td>0</td>\n",
       "    </tr>\n",
       "    <tr>\n",
       "      <th>reviews.rating</th>\n",
       "      <td>5</td>\n",
       "    </tr>\n",
       "    <tr>\n",
       "      <th>reviews.sourceURLs</th>\n",
       "      <td>http://reviews.bestbuy.com/3545/5620406/review...</td>\n",
       "    </tr>\n",
       "    <tr>\n",
       "      <th>reviews.text</th>\n",
       "      <td>This product so far has not disappointed. My c...</td>\n",
       "    </tr>\n",
       "    <tr>\n",
       "      <th>reviews.title</th>\n",
       "      <td>Kindle</td>\n",
       "    </tr>\n",
       "    <tr>\n",
       "      <th>reviews.userCity</th>\n",
       "      <td>NaN</td>\n",
       "    </tr>\n",
       "    <tr>\n",
       "      <th>reviews.userProvince</th>\n",
       "      <td>NaN</td>\n",
       "    </tr>\n",
       "    <tr>\n",
       "      <th>reviews.username</th>\n",
       "      <td>Adapter</td>\n",
       "    </tr>\n",
       "  </tbody>\n",
       "</table>\n",
       "</div>"
      ],
      "text/plain": [
       "                                                                      0\n",
       "id                                                 AVqkIhwDv8e3D1O-lebb\n",
       "name                  All-New Fire HD 8 Tablet, 8 HD Display, Wi-Fi,...\n",
       "asins                                                        B01AHB9CN2\n",
       "brand                                                            Amazon\n",
       "categories            Electronics,iPad & Tablets,All Tablets,Fire Ta...\n",
       "keys                  841667104676,amazon/53004484,amazon/b01ahb9cn2...\n",
       "manufacturer                                                     Amazon\n",
       "reviews.date                                   2017-01-13T00:00:00.000Z\n",
       "reviews.dateAdded                                  2017-07-03T23:33:15Z\n",
       "reviews.dateSeen      2017-06-07T09:04:00.000Z,2017-04-30T00:45:00.000Z\n",
       "reviews.didPurchase                                                 NaN\n",
       "reviews.doRecommend                                                True\n",
       "reviews.id                                                          NaN\n",
       "reviews.numHelpful                                                    0\n",
       "reviews.rating                                                        5\n",
       "reviews.sourceURLs    http://reviews.bestbuy.com/3545/5620406/review...\n",
       "reviews.text          This product so far has not disappointed. My c...\n",
       "reviews.title                                                    Kindle\n",
       "reviews.userCity                                                    NaN\n",
       "reviews.userProvince                                                NaN\n",
       "reviews.username                                                Adapter"
      ]
     },
     "execution_count": 2,
     "metadata": {},
     "output_type": "execute_result"
    }
   ],
   "source": [
    "import sys\n",
    "\n",
    "if not sys.warnoptions:\n",
    "    import warnings\n",
    "    warnings.simplefilter(\"ignore\")\n",
    "    \n",
    "reviews_df = pd.read_csv('data/Amazon Reviews.csv')\n",
    "reviews_df.head(1).transpose()"
   ]
  },
  {
   "cell_type": "code",
   "execution_count": 3,
   "metadata": {},
   "outputs": [],
   "source": [
    "reviews_df = reviews_df.drop(columns=['reviews.userCity', 'reviews.userProvince', \n",
    "                                      'reviews.id', 'reviews.didPurchase'],\n",
    "                            axis=1)"
   ]
  },
  {
   "cell_type": "code",
   "execution_count": 4,
   "metadata": {},
   "outputs": [],
   "source": [
    "reviews_df['reviews.text'].fillna(' ', inplace=True)"
   ]
  },
  {
   "cell_type": "code",
   "execution_count": 5,
   "metadata": {},
   "outputs": [],
   "source": [
    "reviews_df[\"reviews.rating\"] = reviews_df[\"reviews.rating\"].apply(lambda x: 0 if x < 4 else 1)"
   ]
  },
  {
   "cell_type": "code",
   "execution_count": 6,
   "metadata": {},
   "outputs": [
    {
     "data": {
      "text/plain": [
       "<AxesSubplot:xlabel='reviews.rating', ylabel='count'>"
      ]
     },
     "execution_count": 6,
     "metadata": {},
     "output_type": "execute_result"
    },
    {
     "data": {
      "image/png": "[encoded data removed]",
      "text/plain": [
       "<Figure size 432x288 with 1 Axes>"
      ]
     },
     "metadata": {
      "needs_background": "light"
     },
     "output_type": "display_data"
    }
   ],
   "source": [
    "sns.countplot(reviews_df['reviews.rating'])"
   ]
  },
  {
   "cell_type": "code",
   "execution_count": 7,
   "metadata": {},
   "outputs": [
    {
     "name": "stdout",
     "output_type": "stream",
     "text": [
      "Score negative (%):0.067\n",
      "Score positive (%):0.933\n"
     ]
    }
   ],
   "source": [
    "# print(\"Score negative (%):\" + str(round(len(reviews_df[reviews_df['reviews.rating']==-1])/len(reviews_df['reviews.rating']),3)))\n",
    "print(\"Score negative (%):\" + str(round(len(reviews_df[reviews_df['reviews.rating']==0])/len(reviews_df['reviews.rating']),3)))\n",
    "print(\"Score positive (%):\" + str(round(len(reviews_df[reviews_df['reviews.rating']==1])/len(reviews_df['reviews.rating']),3)))"
   ]
  },
  {
   "cell_type": "code",
   "execution_count": 8,
   "metadata": {},
   "outputs": [],
   "source": [
    "import nltk\n",
    "from sklearn.feature_extraction.text import CountVectorizer\n",
    "from nltk.corpus import stopwords\n",
    "from nltk.stem.porter import PorterStemmer\n",
    "import re\n",
    "import string\n",
    "\n",
    "from nltk.corpus import stopwords \n",
    "stemmer = nltk.stem.PorterStemmer()\n",
    "ENGLISH_STOP_WORDS = stopwords.words('english')\n",
    "ENGLISH_STOP_WORDS.remove('not')\n",
    "ENGLISH_STOP_WORDS.remove('no')\n",
    "\n",
    "def my_tokenizer(sentence):\n",
    "    \n",
    "    for punctuation_mark in string.punctuation:\n",
    "        # Remove punctuation and set to lower case\n",
    "        sentence = sentence.replace(punctuation_mark,'').lower()\n",
    "\n",
    "    # split sentence into words\n",
    "    listofwords = sentence.split(' ')\n",
    "    listofstemmed_words = []\n",
    "    \n",
    "        \n",
    "    # Remove stopwords and any tokens that are just empty strings\n",
    "    for word in listofwords:\n",
    "        if (not word in ENGLISH_STOP_WORDS) and (word!=''):\n",
    "            # Stem words\n",
    "            stemmed_word = stemmer.stem(word)\n",
    "            listofstemmed_words.append(stemmed_word)\n",
    "\n",
    "    return listofstemmed_words"
   ]
  },
  {
   "cell_type": "code",
   "execution_count": 9,
   "metadata": {},
   "outputs": [],
   "source": [
    "X = reviews_df['reviews.text']\n",
    "y = reviews_df['reviews.rating']"
   ]
  },
  {
   "cell_type": "code",
   "execution_count": 10,
   "metadata": {},
   "outputs": [],
   "source": [
    "from sklearn.model_selection import train_test_split\n",
    "\n",
    "# Taking a chuck for our 20% test set\n",
    "X_remainder, X_test, y_remainder, y_test = train_test_split(X, y, stratify=y, test_size=0.25)\n",
    "\n",
    "# Splitting the remainder in two chunks\n",
    "X_train, X_validation, y_train, y_validation = train_test_split(X_remainder, \n",
    "                                                                y_remainder, \n",
    "                                                                stratify=y_remainder, test_size=0.25)\n",
    "\n",
    "from sklearn.feature_extraction.text import CountVectorizer \n",
    "bagofwords = CountVectorizer(stop_words=\"english\", min_df = 10, # ngram_range = (1,3),\n",
    "                             tokenizer=my_tokenizer)\n",
    "bagofwords.fit(X_train)\n",
    "X_train = bagofwords.transform(X_train)\n",
    "X_validation = bagofwords.transform(X_validation)\n",
    "X_test = bagofwords.transform(X_test)\n",
    "X_remainder = bagofwords.transform(X_remainder)"
   ]
  },
  {
   "cell_type": "code",
   "execution_count": 11,
   "metadata": {},
   "outputs": [],
   "source": [
    "X_train = X_train.toarray()"
   ]
  },
  {
   "cell_type": "code",
   "execution_count": 12,
   "metadata": {},
   "outputs": [],
   "source": [
    "X_validation = X_validation.toarray()"
   ]
  },
  {
   "cell_type": "code",
   "execution_count": 13,
   "metadata": {},
   "outputs": [
    {
     "data": {
      "text/plain": [
       "array([1, 1, 1, ..., 1, 1, 1], dtype=int64)"
      ]
     },
     "execution_count": 13,
     "metadata": {},
     "output_type": "execute_result"
    }
   ],
   "source": [
    "y_train.values"
   ]
  },
  {
   "cell_type": "code",
   "execution_count": 113,
   "metadata": {},
   "outputs": [
    {
     "data": {
      "text/plain": [
       "array([1, 1, 1, ..., 1, 1, 1], dtype=int64)"
      ]
     },
     "execution_count": 113,
     "metadata": {},
     "output_type": "execute_result"
    }
   ],
   "source": [
    "y_test.values"
   ]
  },
  {
   "cell_type": "code",
   "execution_count": 114,
   "metadata": {},
   "outputs": [
    {
     "data": {
      "text/plain": [
       "29773    Very fast. Does everything you need it to at a...\n",
       "8495     I bought three for my each of my grandchildren...\n",
       "26654    I purchased this Echo as a gift for my husband...\n",
       "306      This tablet is great for my son. Would be nice...\n",
       "24987    Alexa is the most useful product I have purcha...\n",
       "                               ...                        \n",
       "11303    I have a couple kindle fires myself. I loved t...\n",
       "11484    great ultracheap tablet from brand you can tru...\n",
       "7622     Processor is relatively slow, but it is functi...\n",
       "29118    We love our Amazon Echo but it is hard wired t...\n",
       "12868    I like it for my kids and think it is a great ...\n",
       "Name: reviews.text, Length: 8665, dtype: object"
      ]
     },
     "execution_count": 114,
     "metadata": {},
     "output_type": "execute_result"
    }
   ],
   "source": [
    "X_test"
   ]
  },
  {
   "cell_type": "code",
   "execution_count": 14,
   "metadata": {
    "scrolled": false
   },
   "outputs": [
    {
     "name": "stdout",
     "output_type": "stream",
     "text": [
      "Epoch 1/100\n",
      "610/610 - 3s - loss: 0.2053 - accuracy: 0.9368 - val_loss: 0.1889 - val_accuracy: 0.9391\n",
      "Epoch 2/100\n",
      "610/610 - 2s - loss: 0.1281 - accuracy: 0.9553 - val_loss: 0.1946 - val_accuracy: 0.9363\n",
      "Epoch 3/100\n",
      "610/610 - 2s - loss: 0.0614 - accuracy: 0.9793 - val_loss: 0.3050 - val_accuracy: 0.9334\n",
      "Epoch 4/100\n",
      "610/610 - 2s - loss: 0.0212 - accuracy: 0.9934 - val_loss: 0.4003 - val_accuracy: 0.9288\n",
      "Epoch 5/100\n",
      "610/610 - 2s - loss: 0.0093 - accuracy: 0.9973 - val_loss: 0.5607 - val_accuracy: 0.9280\n",
      "Epoch 6/100\n",
      "610/610 - 2s - loss: 0.0076 - accuracy: 0.9978 - val_loss: 0.5505 - val_accuracy: 0.9302\n",
      "Epoch 7/100\n",
      "610/610 - 2s - loss: 0.0035 - accuracy: 0.9987 - val_loss: 0.6376 - val_accuracy: 0.9308\n",
      "Epoch 8/100\n",
      "610/610 - 2s - loss: 0.0017 - accuracy: 0.9995 - val_loss: 0.8254 - val_accuracy: 0.9251\n",
      "Epoch 9/100\n",
      "610/610 - 2s - loss: 0.0022 - accuracy: 0.9993 - val_loss: 0.8201 - val_accuracy: 0.9321\n",
      "Epoch 10/100\n",
      "610/610 - 2s - loss: 0.0033 - accuracy: 0.9987 - val_loss: 0.7764 - val_accuracy: 0.9311\n",
      "Epoch 11/100\n",
      "610/610 - 2s - loss: 0.0016 - accuracy: 0.9996 - val_loss: 0.7371 - val_accuracy: 0.9274\n",
      "Epoch 12/100\n",
      "610/610 - 2s - loss: 0.0070 - accuracy: 0.9987 - val_loss: 0.6613 - val_accuracy: 0.9257\n",
      "Epoch 13/100\n",
      "610/610 - 3s - loss: 0.0032 - accuracy: 0.9990 - val_loss: 0.7741 - val_accuracy: 0.9321\n",
      "Epoch 14/100\n",
      "610/610 - 2s - loss: 0.0017 - accuracy: 0.9994 - val_loss: 0.8274 - val_accuracy: 0.9306\n",
      "Epoch 15/100\n",
      "610/610 - 2s - loss: 7.7086e-04 - accuracy: 0.9997 - val_loss: 0.9984 - val_accuracy: 0.9319\n",
      "Epoch 16/100\n",
      "610/610 - 2s - loss: 7.3299e-04 - accuracy: 0.9997 - val_loss: 0.9524 - val_accuracy: 0.9317\n",
      "Epoch 17/100\n",
      "610/610 - 2s - loss: 5.0700e-04 - accuracy: 0.9998 - val_loss: 1.0317 - val_accuracy: 0.9314\n",
      "Epoch 18/100\n",
      "610/610 - 2s - loss: 5.1385e-04 - accuracy: 0.9998 - val_loss: 1.0045 - val_accuracy: 0.9311\n",
      "Epoch 19/100\n",
      "610/610 - 2s - loss: 5.1000e-04 - accuracy: 0.9998 - val_loss: 1.1141 - val_accuracy: 0.9323\n",
      "Epoch 20/100\n",
      "610/610 - 2s - loss: 4.8776e-04 - accuracy: 0.9998 - val_loss: 1.1697 - val_accuracy: 0.9328\n",
      "Epoch 21/100\n",
      "610/610 - 2s - loss: 5.0746e-04 - accuracy: 0.9998 - val_loss: 1.1042 - val_accuracy: 0.9312\n",
      "Epoch 22/100\n",
      "610/610 - 2s - loss: 4.7325e-04 - accuracy: 0.9998 - val_loss: 1.2096 - val_accuracy: 0.9323\n",
      "Epoch 23/100\n",
      "610/610 - 2s - loss: 4.9467e-04 - accuracy: 0.9998 - val_loss: 1.2068 - val_accuracy: 0.9316\n",
      "Epoch 24/100\n",
      "610/610 - 2s - loss: 4.9314e-04 - accuracy: 0.9998 - val_loss: 1.3020 - val_accuracy: 0.9341\n",
      "Epoch 25/100\n",
      "610/610 - 2s - loss: 4.7094e-04 - accuracy: 0.9998 - val_loss: 1.4826 - val_accuracy: 0.9343\n",
      "Epoch 26/100\n",
      "610/610 - 2s - loss: 7.1031e-04 - accuracy: 0.9998 - val_loss: 1.1823 - val_accuracy: 0.9324\n",
      "Epoch 27/100\n",
      "610/610 - 2s - loss: 0.0115 - accuracy: 0.9981 - val_loss: 0.5975 - val_accuracy: 0.9267\n",
      "Epoch 28/100\n",
      "610/610 - 2s - loss: 0.0337 - accuracy: 0.9912 - val_loss: 0.4971 - val_accuracy: 0.9291\n",
      "Epoch 29/100\n",
      "610/610 - 2s - loss: 0.0057 - accuracy: 0.9991 - val_loss: 0.5621 - val_accuracy: 0.9275\n",
      "Epoch 30/100\n",
      "610/610 - 2s - loss: 6.6247e-04 - accuracy: 0.9998 - val_loss: 0.6963 - val_accuracy: 0.9316\n",
      "Epoch 31/100\n",
      "610/610 - 2s - loss: 7.7133e-04 - accuracy: 0.9997 - val_loss: 0.7214 - val_accuracy: 0.9295\n",
      "Epoch 32/100\n",
      "610/610 - 2s - loss: 9.4096e-04 - accuracy: 0.9997 - val_loss: 0.7532 - val_accuracy: 0.9312\n",
      "Epoch 33/100\n",
      "610/610 - 2s - loss: 5.2504e-04 - accuracy: 0.9998 - val_loss: 0.8945 - val_accuracy: 0.9327\n",
      "Epoch 34/100\n",
      "610/610 - 2s - loss: 4.8141e-04 - accuracy: 0.9998 - val_loss: 0.9098 - val_accuracy: 0.9324\n",
      "Epoch 35/100\n",
      "610/610 - 2s - loss: 4.7004e-04 - accuracy: 0.9998 - val_loss: 0.9525 - val_accuracy: 0.9321\n",
      "Epoch 36/100\n",
      "610/610 - 2s - loss: 4.7392e-04 - accuracy: 0.9998 - val_loss: 0.9430 - val_accuracy: 0.9325\n",
      "Epoch 37/100\n",
      "610/610 - 2s - loss: 4.7467e-04 - accuracy: 0.9998 - val_loss: 0.9480 - val_accuracy: 0.9323\n",
      "Epoch 38/100\n",
      "610/610 - 2s - loss: 4.3044e-04 - accuracy: 0.9998 - val_loss: 1.1565 - val_accuracy: 0.9332\n",
      "Epoch 39/100\n",
      "610/610 - 2s - loss: 5.8318e-04 - accuracy: 0.9998 - val_loss: 1.0356 - val_accuracy: 0.9318\n",
      "Epoch 40/100\n",
      "610/610 - 2s - loss: 4.7179e-04 - accuracy: 0.9998 - val_loss: 1.1351 - val_accuracy: 0.9320\n",
      "Epoch 41/100\n",
      "610/610 - 2s - loss: 4.7475e-04 - accuracy: 0.9998 - val_loss: 1.2279 - val_accuracy: 0.9320\n",
      "Epoch 42/100\n",
      "610/610 - 2s - loss: 4.6353e-04 - accuracy: 0.9998 - val_loss: 1.2258 - val_accuracy: 0.9321\n",
      "Epoch 43/100\n",
      "610/610 - 2s - loss: 4.4688e-04 - accuracy: 0.9998 - val_loss: 1.2135 - val_accuracy: 0.9319\n",
      "Epoch 44/100\n",
      "610/610 - 2s - loss: 4.3804e-04 - accuracy: 0.9998 - val_loss: 1.3784 - val_accuracy: 0.9325\n",
      "Epoch 45/100\n",
      "610/610 - 2s - loss: 4.8991e-04 - accuracy: 0.9998 - val_loss: 1.3256 - val_accuracy: 0.9326\n",
      "Epoch 46/100\n",
      "610/610 - 2s - loss: 4.5451e-04 - accuracy: 0.9998 - val_loss: 1.3907 - val_accuracy: 0.9334\n",
      "Epoch 47/100\n",
      "610/610 - 2s - loss: 5.2364e-04 - accuracy: 0.9998 - val_loss: 1.2708 - val_accuracy: 0.9323\n",
      "Epoch 48/100\n",
      "610/610 - 2s - loss: 0.0031 - accuracy: 0.9994 - val_loss: 1.4012 - val_accuracy: 0.9362\n",
      "Epoch 49/100\n",
      "610/610 - 2s - loss: 0.0190 - accuracy: 0.9962 - val_loss: 0.7267 - val_accuracy: 0.9271\n",
      "Epoch 50/100\n",
      "610/610 - 2s - loss: 0.0076 - accuracy: 0.9983 - val_loss: 0.7753 - val_accuracy: 0.9266\n",
      "Epoch 51/100\n",
      "610/610 - 2s - loss: 7.5798e-04 - accuracy: 0.9997 - val_loss: 0.7968 - val_accuracy: 0.9238\n",
      "Epoch 52/100\n",
      "610/610 - 2s - loss: 4.9245e-04 - accuracy: 0.9998 - val_loss: 0.9360 - val_accuracy: 0.9276\n",
      "Epoch 53/100\n",
      "610/610 - 2s - loss: 4.8670e-04 - accuracy: 0.9998 - val_loss: 0.9392 - val_accuracy: 0.9271\n",
      "Epoch 54/100\n",
      "610/610 - 2s - loss: 4.5860e-04 - accuracy: 0.9998 - val_loss: 1.0021 - val_accuracy: 0.9279\n",
      "Epoch 55/100\n",
      "610/610 - 2s - loss: 4.4498e-04 - accuracy: 0.9998 - val_loss: 1.0614 - val_accuracy: 0.9286\n",
      "Epoch 56/100\n",
      "610/610 - 2s - loss: 4.8626e-04 - accuracy: 0.9998 - val_loss: 1.0071 - val_accuracy: 0.9269\n",
      "Epoch 57/100\n",
      "610/610 - 2s - loss: 4.4907e-04 - accuracy: 0.9998 - val_loss: 1.1111 - val_accuracy: 0.9281\n",
      "Epoch 58/100\n",
      "610/610 - 2s - loss: 4.6134e-04 - accuracy: 0.9998 - val_loss: 1.1081 - val_accuracy: 0.9280\n",
      "Epoch 59/100\n",
      "610/610 - 2s - loss: 4.2984e-04 - accuracy: 0.9998 - val_loss: 1.2364 - val_accuracy: 0.9301\n",
      "Epoch 60/100\n",
      "610/610 - 2s - loss: 4.7950e-04 - accuracy: 0.9998 - val_loss: 1.2080 - val_accuracy: 0.9295\n",
      "Epoch 61/100\n",
      "610/610 - 2s - loss: 4.5520e-04 - accuracy: 0.9998 - val_loss: 1.2260 - val_accuracy: 0.9301\n",
      "Epoch 62/100\n",
      "610/610 - 2s - loss: 4.3918e-04 - accuracy: 0.9998 - val_loss: 1.2873 - val_accuracy: 0.9303\n",
      "Epoch 63/100\n",
      "610/610 - 2s - loss: 4.7550e-04 - accuracy: 0.9998 - val_loss: 1.2500 - val_accuracy: 0.9301\n",
      "Epoch 64/100\n",
      "610/610 - 2s - loss: 4.4845e-04 - accuracy: 0.9998 - val_loss: 1.3068 - val_accuracy: 0.9301\n",
      "Epoch 65/100\n",
      "610/610 - 2s - loss: 4.3453e-04 - accuracy: 0.9998 - val_loss: 1.4260 - val_accuracy: 0.9310\n",
      "Epoch 66/100\n",
      "610/610 - 2s - loss: 4.4291e-04 - accuracy: 0.9998 - val_loss: 1.4472 - val_accuracy: 0.9310\n",
      "Epoch 67/100\n",
      "610/610 - 2s - loss: 5.1825e-04 - accuracy: 0.9998 - val_loss: 1.3824 - val_accuracy: 0.9312\n",
      "Epoch 68/100\n",
      "610/610 - 2s - loss: 0.0031 - accuracy: 0.9995 - val_loss: 1.5163 - val_accuracy: 0.9235\n",
      "Epoch 69/100\n",
      "610/610 - 2s - loss: 0.0041 - accuracy: 0.9991 - val_loss: 1.2082 - val_accuracy: 0.9220\n",
      "Epoch 70/100\n",
      "610/610 - 2s - loss: 0.0014 - accuracy: 0.9996 - val_loss: 1.1720 - val_accuracy: 0.9260\n",
      "Epoch 71/100\n",
      "610/610 - 2s - loss: 8.2039e-04 - accuracy: 0.9997 - val_loss: 1.2295 - val_accuracy: 0.9283\n",
      "Epoch 72/100\n",
      "610/610 - 2s - loss: 4.3239e-04 - accuracy: 0.9998 - val_loss: 1.3386 - val_accuracy: 0.9287\n",
      "Epoch 73/100\n",
      "610/610 - 2s - loss: 4.3386e-04 - accuracy: 0.9998 - val_loss: 1.3749 - val_accuracy: 0.9287\n",
      "Epoch 74/100\n",
      "610/610 - 2s - loss: 4.4327e-04 - accuracy: 0.9998 - val_loss: 1.3792 - val_accuracy: 0.9286\n",
      "Epoch 75/100\n",
      "610/610 - 2s - loss: 4.2268e-04 - accuracy: 0.9998 - val_loss: 1.4339 - val_accuracy: 0.9291\n",
      "Epoch 76/100\n",
      "610/610 - 2s - loss: 4.3451e-04 - accuracy: 0.9998 - val_loss: 1.4439 - val_accuracy: 0.9293\n",
      "Epoch 77/100\n",
      "610/610 - 2s - loss: 4.3176e-04 - accuracy: 0.9998 - val_loss: 1.4660 - val_accuracy: 0.9295\n",
      "Epoch 78/100\n",
      "610/610 - 2s - loss: 4.3921e-04 - accuracy: 0.9998 - val_loss: 1.4737 - val_accuracy: 0.9294\n",
      "Epoch 79/100\n",
      "610/610 - 2s - loss: 4.3890e-04 - accuracy: 0.9998 - val_loss: 1.4662 - val_accuracy: 0.9293\n"
     ]
    },
    {
     "name": "stdout",
     "output_type": "stream",
     "text": [
      "Epoch 80/100\n",
      "610/610 - 2s - loss: 4.4916e-04 - accuracy: 0.9998 - val_loss: 1.4371 - val_accuracy: 0.9291\n",
      "Epoch 81/100\n",
      "610/610 - 2s - loss: 4.3749e-04 - accuracy: 0.9998 - val_loss: 1.4385 - val_accuracy: 0.9291\n",
      "Epoch 82/100\n",
      "610/610 - 2s - loss: 4.3678e-04 - accuracy: 0.9998 - val_loss: 1.4985 - val_accuracy: 0.9297\n",
      "Epoch 83/100\n",
      "610/610 - 2s - loss: 4.3344e-04 - accuracy: 0.9998 - val_loss: 1.5472 - val_accuracy: 0.9302\n",
      "Epoch 84/100\n",
      "610/610 - 2s - loss: 4.6968e-04 - accuracy: 0.9998 - val_loss: 1.3671 - val_accuracy: 0.9289\n",
      "Epoch 85/100\n",
      "610/610 - 2s - loss: 4.6601e-04 - accuracy: 0.9998 - val_loss: 1.4901 - val_accuracy: 0.9303\n",
      "Epoch 86/100\n",
      "610/610 - 2s - loss: 4.4021e-04 - accuracy: 0.9998 - val_loss: 1.5242 - val_accuracy: 0.9306\n",
      "Epoch 87/100\n",
      "610/610 - 2s - loss: 4.3884e-04 - accuracy: 0.9998 - val_loss: 1.5715 - val_accuracy: 0.9306\n",
      "Epoch 88/100\n",
      "610/610 - 2s - loss: 4.5388e-04 - accuracy: 0.9998 - val_loss: 1.5961 - val_accuracy: 0.9309\n",
      "Epoch 89/100\n",
      "610/610 - 2s - loss: 4.5385e-04 - accuracy: 0.9998 - val_loss: 1.5799 - val_accuracy: 0.9308\n",
      "Epoch 90/100\n",
      "610/610 - 2s - loss: 4.2646e-04 - accuracy: 0.9998 - val_loss: 1.6502 - val_accuracy: 0.9309\n",
      "Epoch 91/100\n",
      "610/610 - 2s - loss: 4.1605e-04 - accuracy: 0.9998 - val_loss: 1.8341 - val_accuracy: 0.9324\n",
      "Epoch 92/100\n",
      "610/610 - 2s - loss: 6.3017e-04 - accuracy: 0.9998 - val_loss: 1.6009 - val_accuracy: 0.9332\n",
      "Epoch 93/100\n",
      "610/610 - 2s - loss: 6.1018e-04 - accuracy: 0.9998 - val_loss: 1.4027 - val_accuracy: 0.9327\n",
      "Epoch 94/100\n",
      "610/610 - 2s - loss: 4.2779e-04 - accuracy: 0.9998 - val_loss: 1.6074 - val_accuracy: 0.9332\n",
      "Epoch 95/100\n",
      "610/610 - 2s - loss: 4.7735e-04 - accuracy: 0.9998 - val_loss: 1.6134 - val_accuracy: 0.9332\n",
      "Epoch 96/100\n",
      "610/610 - 3s - loss: 4.3213e-04 - accuracy: 0.9998 - val_loss: 1.7045 - val_accuracy: 0.9333\n",
      "Epoch 97/100\n",
      "610/610 - 2s - loss: 4.2764e-04 - accuracy: 0.9998 - val_loss: 1.7775 - val_accuracy: 0.9335\n",
      "Epoch 98/100\n",
      "610/610 - 2s - loss: 4.3270e-04 - accuracy: 0.9998 - val_loss: 1.7685 - val_accuracy: 0.9334\n",
      "Epoch 99/100\n",
      "610/610 - 2s - loss: 4.3906e-04 - accuracy: 0.9998 - val_loss: 1.8090 - val_accuracy: 0.9334\n",
      "Epoch 100/100\n",
      "610/610 - 2s - loss: 4.4467e-04 - accuracy: 0.9998 - val_loss: 1.7538 - val_accuracy: 0.9336\n",
      "51/51 - 0s - loss: 1.5697 - accuracy: 0.9348\n",
      "0.9347591996192932\n"
     ]
    }
   ],
   "source": [
    "from sklearn.preprocessing import scale\n",
    "import numpy as np\n",
    "from keras.models import Sequential\n",
    "from keras.layers import Dense\n",
    "\n",
    "\n",
    "\n",
    "model = Sequential()\n",
    "model.add(Dense(256, activation='relu'))\n",
    "model.add(Dense(256, activation='relu'))\n",
    "model.add(Dense(256, activation='relu'))\n",
    "model.add(Dense(1, activation='sigmoid'))\n",
    "model.compile(optimizer='adam',\n",
    "              loss='binary_crossentropy',\n",
    "              metrics=['accuracy'])\n",
    "\n",
    "model.fit(X_train, y_train.values, epochs=100, batch_size=32, verbose=2, validation_data=(X_test, y_test.values))\n",
    "\n",
    "score = model.evaluate(X_validation, y_validation.values, batch_size=128, verbose=2)\n",
    "print (score[1])"
   ]
  },
  {
   "cell_type": "markdown",
   "metadata": {},
   "source": [
    "<br>\n",
    "<br>"
   ]
  },
  {
   "cell_type": "markdown",
   "metadata": {},
   "source": [
    "### Word embeddings with Word2Vec"
   ]
  },
  {
   "cell_type": "code",
   "execution_count": 360,
   "metadata": {},
   "outputs": [],
   "source": [
    "X = reviews_df['reviews.text']\n",
    "y = reviews_df['reviews.rating']"
   ]
  },
  {
   "cell_type": "code",
   "execution_count": 361,
   "metadata": {},
   "outputs": [],
   "source": [
    "from sklearn.model_selection import train_test_split\n",
    "\n",
    "# Taking a chuck for our 20% test set\n",
    "X_train, X_test, y_train, y_test = train_test_split(X, y, stratify=y, test_size=0.25)"
   ]
  },
  {
   "cell_type": "code",
   "execution_count": 362,
   "metadata": {},
   "outputs": [
    {
     "data": {
      "text/plain": [
       "reviews.text\n",
       "True    25995\n",
       "Name: reviews.text, dtype: int64"
      ]
     },
     "execution_count": 362,
     "metadata": {},
     "output_type": "execute_result"
    }
   ],
   "source": [
    "X_train.groupby(X_train.map(type).eq(str)).count()"
   ]
  },
  {
   "cell_type": "code",
   "execution_count": 363,
   "metadata": {},
   "outputs": [],
   "source": [
    "from tensorflow.keras.preprocessing.text import Tokenizer\n",
    "\n",
    "tokenizer = Tokenizer()\n",
    "tokenizer.fit_on_texts(X_train) # equivalent to .fit(X_train)\n",
    "sequences = tokenizer.texts_to_sequences(X_train) # equivalent to .transform(X_train) \n"
   ]
  },
  {
   "cell_type": "code",
   "execution_count": 364,
   "metadata": {},
   "outputs": [],
   "source": [
    "import tensorflow as tf\n",
    "train_data = tf.data.Dataset.from_tensor_slices((X_train,y_train))\n",
    "test_data = tf.data.Dataset.from_tensor_slices((X_test, y_test))\n",
    "# validation_data = tf.data.Dataset.from_tensor_slices((X_validation, y_validation))\n",
    "# remainder_data = tf.data.Dataset.from_tensor_slices((X_remainder, y_remainder))"
   ]
  },
  {
   "cell_type": "code",
   "execution_count": 365,
   "metadata": {},
   "outputs": [],
   "source": [
    "from tensorflow.keras.preprocessing.sequence import pad_sequences\n",
    "X_train = pad_sequences(sequences, padding='post', truncating='post')\n",
    "X_test = pad_sequences(tokenizer.texts_to_sequences(X_test), padding='post', truncating='post')\n"
   ]
  },
  {
   "cell_type": "code",
   "execution_count": 366,
   "metadata": {},
   "outputs": [],
   "source": [
    "# test_batches = test_data.shuffle(1000).padded_batch(8665)"
   ]
  },
  {
   "cell_type": "code",
   "execution_count": 367,
   "metadata": {},
   "outputs": [
    {
     "data": {
      "text/plain": [
       "(8665, 708)"
      ]
     },
     "execution_count": 367,
     "metadata": {},
     "output_type": "execute_result"
    }
   ],
   "source": [
    "X_test.shape"
   ]
  },
  {
   "cell_type": "code",
   "execution_count": 368,
   "metadata": {},
   "outputs": [
    {
     "data": {
      "text/plain": [
       "(8665,)"
      ]
     },
     "execution_count": 368,
     "metadata": {},
     "output_type": "execute_result"
    }
   ],
   "source": [
    "y_test.shape"
   ]
  },
  {
   "cell_type": "code",
   "execution_count": 369,
   "metadata": {},
   "outputs": [
    {
     "data": {
      "text/plain": [
       "array([[  54,   69,   44, ...,    0,    0,    0],\n",
       "       [   4, 1013,   22, ...,    0,    0,    0],\n",
       "       [  10, 4183, 5477, ...,    0,    0,    0],\n",
       "       ...,\n",
       "       [ 630,   11, 1704, ...,    0,    0,    0],\n",
       "       [  11,   46,    5, ...,    0,    0,    0],\n",
       "       [ 127,  167,   11, ...,    0,    0,    0]])"
      ]
     },
     "execution_count": 369,
     "metadata": {},
     "output_type": "execute_result"
    }
   ],
   "source": [
    "X_train"
   ]
  },
  {
   "cell_type": "code",
   "execution_count": 370,
   "metadata": {},
   "outputs": [
    {
     "data": {
      "text/plain": [
       "array([[   4,   41,  120, ...,    0,    0,    0],\n",
       "       [   4,  390, 5422, ...,    0,    0,    0],\n",
       "       [   6,    7,   74, ...,    0,    0,    0],\n",
       "       ...,\n",
       "       [  27,  354,    8, ...,    0,    0,    0],\n",
       "       [  11,  559,    2, ...,    0,    0,    0],\n",
       "       [   4,  146,    1, ...,    0,    0,    0]])"
      ]
     },
     "execution_count": 370,
     "metadata": {},
     "output_type": "execute_result"
    }
   ],
   "source": [
    "X_test"
   ]
  },
  {
   "cell_type": "code",
   "execution_count": 371,
   "metadata": {},
   "outputs": [],
   "source": [
    "y_train = np.array(y_train)\n",
    "y_test = np.array(y_test)"
   ]
  },
  {
   "cell_type": "code",
   "execution_count": 372,
   "metadata": {},
   "outputs": [
    {
     "name": "stdout",
     "output_type": "stream",
     "text": [
      "Time taken to train word2vec model: 21.049301624298096\n"
     ]
    }
   ],
   "source": [
    "from gensim.models import Word2Vec\n",
    "import time\n",
    "# Skip-gram model (sg = 1)\n",
    "size = 1000\n",
    "window = 3\n",
    "min_count = 1\n",
    "workers = 3\n",
    "sg = 1\n",
    "\n",
    "# word2vec_model_file = 'word2vec_' + str(size) + '.model'\n",
    "start_time = time.time()\n",
    "stemmed_tokens = pd.Series(reviews_df['stemmed_tokens']).values\n",
    "# Train the Word2Vec Model\n",
    "w2v_model = Word2Vec(stemmed_tokens, min_count = min_count, size = size, workers = workers, window = window, sg = sg)\n",
    "print(\"Time taken to train word2vec model: \" + str(time.time() - start_time))\n",
    "# model.save(word2vec_model_file)"
   ]
  },
  {
   "cell_type": "code",
   "execution_count": 373,
   "metadata": {},
   "outputs": [
    {
     "name": "stdout",
     "output_type": "stream",
     "text": [
      "Vocabulary size: 14225\n"
     ]
    }
   ],
   "source": [
    "words = list(w2v_model.wv.vocab)\n",
    "print('Vocabulary size: %d' % len(words))"
   ]
  },
  {
   "cell_type": "code",
   "execution_count": 374,
   "metadata": {},
   "outputs": [],
   "source": [
    "import tensorflow as tf\n",
    "from tensorflow import keras\n",
    "from tensorflow.keras import layers"
   ]
  },
  {
   "cell_type": "code",
   "execution_count": 375,
   "metadata": {},
   "outputs": [
    {
     "name": "stdout",
     "output_type": "stream",
     "text": [
      "Model: \"sequential_10\"\n",
      "_________________________________________________________________\n",
      "Layer (type)                 Output Shape              Param #   \n",
      "=================================================================\n",
      "embedding_9 (Embedding)      (None, None, 16)          227600    \n",
      "_________________________________________________________________\n",
      "global_average_pooling1d_9 ( (None, 16)                0         \n",
      "_________________________________________________________________\n",
      "dense_22 (Dense)             (None, 16)                272       \n",
      "_________________________________________________________________\n",
      "dense_23 (Dense)             (None, 1)                 17        \n",
      "=================================================================\n",
      "Total params: 227,889\n",
      "Trainable params: 227,889\n",
      "Non-trainable params: 0\n",
      "_________________________________________________________________\n"
     ]
    }
   ],
   "source": [
    "embedding_dim=16\n",
    "\n",
    "model = keras.Sequential([\n",
    "  layers.Embedding(len(words), embedding_dim),\n",
    "  layers.GlobalAveragePooling1D(),\n",
    "  layers.Dense(16, activation='relu'),\n",
    "  layers.Dense(1)\n",
    "])\n",
    "\n",
    "model.summary()"
   ]
  },
  {
   "cell_type": "code",
   "execution_count": 378,
   "metadata": {
    "scrolled": false
   },
   "outputs": [
    {
     "name": "stdout",
     "output_type": "stream",
     "text": [
      "Epoch 1/100\n",
      "813/813 [==============================] - 10s 12ms/step - loss: 0.2375 - accuracy: 0.9332 - val_loss: 0.2319 - val_accuracy: 0.9290\n",
      "Epoch 2/100\n",
      "813/813 [==============================] - 10s 12ms/step - loss: 0.2356 - accuracy: 0.9331 - val_loss: 0.2288 - val_accuracy: 0.9287\n",
      "Epoch 3/100\n",
      "813/813 [==============================] - 9s 11ms/step - loss: 0.2328 - accuracy: 0.9329 - val_loss: 0.2238 - val_accuracy: 0.9273\n",
      "Epoch 4/100\n",
      "813/813 [==============================] - 9s 11ms/step - loss: 0.2292 - accuracy: 0.9328 - val_loss: 0.2236 - val_accuracy: 0.9226\n",
      "Epoch 5/100\n",
      "813/813 [==============================] - 9s 11ms/step - loss: 0.2244 - accuracy: 0.9323 - val_loss: 0.2155 - val_accuracy: 0.9178\n",
      "Epoch 6/100\n",
      "813/813 [==============================] - 10s 12ms/step - loss: 0.2178 - accuracy: 0.9320 - val_loss: 0.2074 - val_accuracy: 0.9118\n",
      "Epoch 7/100\n",
      "813/813 [==============================] - 9s 10ms/step - loss: 0.2101 - accuracy: 0.9322 - val_loss: 0.2082 - val_accuracy: 0.8982\n",
      "Epoch 8/100\n",
      "813/813 [==============================] - 9s 10ms/step - loss: 0.2011 - accuracy: 0.9334 - val_loss: 0.2004 - val_accuracy: 0.8968\n",
      "Epoch 9/100\n",
      "813/813 [==============================] - 9s 11ms/step - loss: 0.1925 - accuracy: 0.9344 - val_loss: 0.1874 - val_accuracy: 0.9038\n",
      "Epoch 10/100\n",
      "813/813 [==============================] - 7s 9ms/step - loss: 0.1831 - accuracy: 0.9367 - val_loss: 0.1850 - val_accuracy: 0.9027\n",
      "Epoch 11/100\n",
      "813/813 [==============================] - 9s 12ms/step - loss: 0.1752 - accuracy: 0.9386 - val_loss: 0.1799 - val_accuracy: 0.9159\n",
      "Epoch 12/100\n",
      "813/813 [==============================] - 9s 11ms/step - loss: 0.1692 - accuracy: 0.9395 - val_loss: 0.1825 - val_accuracy: 0.9101\n",
      "Epoch 13/100\n",
      "813/813 [==============================] - 9s 11ms/step - loss: 0.1638 - accuracy: 0.9417 - val_loss: 0.1861 - val_accuracy: 0.9166\n",
      "Epoch 14/100\n",
      "813/813 [==============================] - 9s 11ms/step - loss: 0.1609 - accuracy: 0.9411 - val_loss: 0.1891 - val_accuracy: 0.9098\n",
      "Epoch 15/100\n",
      "813/813 [==============================] - 9s 11ms/step - loss: 0.1580 - accuracy: 0.9420 - val_loss: 0.1929 - val_accuracy: 0.9149\n",
      "Epoch 16/100\n",
      "813/813 [==============================] - 9s 11ms/step - loss: 0.1544 - accuracy: 0.9431 - val_loss: 0.1959 - val_accuracy: 0.9160\n",
      "Epoch 17/100\n",
      "813/813 [==============================] - 9s 10ms/step - loss: 0.1526 - accuracy: 0.9443 - val_loss: 0.1972 - val_accuracy: 0.9111\n",
      "Epoch 18/100\n",
      "813/813 [==============================] - 9s 11ms/step - loss: 0.1502 - accuracy: 0.9446 - val_loss: 0.2031 - val_accuracy: 0.9192\n",
      "Epoch 19/100\n",
      "813/813 [==============================] - 9s 11ms/step - loss: 0.1486 - accuracy: 0.9451 - val_loss: 0.2032 - val_accuracy: 0.9174\n",
      "Epoch 20/100\n",
      "813/813 [==============================] - 10s 12ms/step - loss: 0.1461 - accuracy: 0.9462 - val_loss: 0.2039 - val_accuracy: 0.9108\n",
      "Epoch 21/100\n",
      "813/813 [==============================] - 10s 12ms/step - loss: 0.1448 - accuracy: 0.9476 - val_loss: 0.2075 - val_accuracy: 0.9174\n",
      "Epoch 22/100\n",
      "813/813 [==============================] - 10s 13ms/step - loss: 0.1440 - accuracy: 0.9463 - val_loss: 0.2082 - val_accuracy: 0.9167\n",
      "Epoch 23/100\n",
      "813/813 [==============================] - 9s 11ms/step - loss: 0.1409 - accuracy: 0.9491 - val_loss: 0.2124 - val_accuracy: 0.9198\n",
      "Epoch 24/100\n",
      "813/813 [==============================] - 8s 10ms/step - loss: 0.1394 - accuracy: 0.9499 - val_loss: 0.2113 - val_accuracy: 0.9116\n",
      "Epoch 25/100\n",
      "813/813 [==============================] - 9s 11ms/step - loss: 0.1383 - accuracy: 0.9500 - val_loss: 0.2201 - val_accuracy: 0.9237\n",
      "Epoch 26/100\n",
      "813/813 [==============================] - 9s 11ms/step - loss: 0.1371 - accuracy: 0.9503 - val_loss: 0.2191 - val_accuracy: 0.9215\n",
      "Epoch 27/100\n",
      "813/813 [==============================] - 10s 13ms/step - loss: 0.1363 - accuracy: 0.9505 - val_loss: 0.2246 - val_accuracy: 0.9256\n",
      "Epoch 28/100\n",
      "813/813 [==============================] - 10s 12ms/step - loss: 0.1346 - accuracy: 0.9521 - val_loss: 0.2180 - val_accuracy: 0.9098\n",
      "Epoch 29/100\n",
      "813/813 [==============================] - 8s 10ms/step - loss: 0.1329 - accuracy: 0.9523 - val_loss: 0.2198 - val_accuracy: 0.9170\n",
      "Epoch 30/100\n",
      "813/813 [==============================] - 9s 11ms/step - loss: 0.1315 - accuracy: 0.9532 - val_loss: 0.2303 - val_accuracy: 0.9268\n",
      "Epoch 31/100\n",
      "813/813 [==============================] - 9s 11ms/step - loss: 0.1302 - accuracy: 0.9531 - val_loss: 0.2238 - val_accuracy: 0.9178\n",
      "Epoch 32/100\n",
      "813/813 [==============================] - 10s 13ms/step - loss: 0.1282 - accuracy: 0.9541 - val_loss: 0.2265 - val_accuracy: 0.9191\n",
      "Epoch 33/100\n",
      "813/813 [==============================] - 10s 12ms/step - loss: 0.1271 - accuracy: 0.9546 - val_loss: 0.2329 - val_accuracy: 0.9250\n",
      "Epoch 34/100\n",
      "813/813 [==============================] - 10s 12ms/step - loss: 0.1258 - accuracy: 0.9551 - val_loss: 0.2301 - val_accuracy: 0.9182\n",
      "Epoch 35/100\n",
      "813/813 [==============================] - 10s 12ms/step - loss: 0.1259 - accuracy: 0.9560 - val_loss: 0.2323 - val_accuracy: 0.9063\n",
      "Epoch 36/100\n",
      "813/813 [==============================] - 9s 11ms/step - loss: 0.1238 - accuracy: 0.9572 - val_loss: 0.2342 - val_accuracy: 0.9192\n",
      "Epoch 37/100\n",
      "813/813 [==============================] - 9s 12ms/step - loss: 0.1231 - accuracy: 0.9563 - val_loss: 0.2356 - val_accuracy: 0.9122\n",
      "Epoch 38/100\n",
      "813/813 [==============================] - 10s 12ms/step - loss: 0.1207 - accuracy: 0.9580 - val_loss: 0.2384 - val_accuracy: 0.9201\n",
      "Epoch 39/100\n",
      "813/813 [==============================] - 10s 12ms/step - loss: 0.1198 - accuracy: 0.9580 - val_loss: 0.2393 - val_accuracy: 0.9156\n",
      "Epoch 40/100\n",
      "813/813 [==============================] - 10s 12ms/step - loss: 0.1192 - accuracy: 0.9585 - val_loss: 0.2430 - val_accuracy: 0.9221\n",
      "Epoch 41/100\n",
      "813/813 [==============================] - 10s 12ms/step - loss: 0.1178 - accuracy: 0.9578 - val_loss: 0.2459 - val_accuracy: 0.9223\n",
      "Epoch 42/100\n",
      "813/813 [==============================] - 10s 12ms/step - loss: 0.1175 - accuracy: 0.9586 - val_loss: 0.2545 - val_accuracy: 0.9301\n",
      "Epoch 43/100\n",
      "813/813 [==============================] - 10s 12ms/step - loss: 0.1162 - accuracy: 0.9597 - val_loss: 0.2494 - val_accuracy: 0.9214\n",
      "Epoch 44/100\n",
      "813/813 [==============================] - 9s 12ms/step - loss: 0.1160 - accuracy: 0.9598 - val_loss: 0.2503 - val_accuracy: 0.9194\n",
      "Epoch 45/100\n",
      "813/813 [==============================] - 9s 11ms/step - loss: 0.1152 - accuracy: 0.9596 - val_loss: 0.2531 - val_accuracy: 0.9206\n",
      "Epoch 46/100\n",
      "813/813 [==============================] - 9s 11ms/step - loss: 0.1130 - accuracy: 0.9608 - val_loss: 0.2550 - val_accuracy: 0.9191\n",
      "Epoch 47/100\n",
      "813/813 [==============================] - 9s 11ms/step - loss: 0.1124 - accuracy: 0.9604 - val_loss: 0.2598 - val_accuracy: 0.9250\n",
      "Epoch 48/100\n",
      "813/813 [==============================] - 9s 11ms/step - loss: 0.1117 - accuracy: 0.9613 - val_loss: 0.2593 - val_accuracy: 0.9170\n",
      "Epoch 49/100\n",
      "813/813 [==============================] - 9s 12ms/step - loss: 0.1100 - accuracy: 0.9614 - val_loss: 0.2653 - val_accuracy: 0.9053\n",
      "Epoch 50/100\n",
      "813/813 [==============================] - 9s 11ms/step - loss: 0.1114 - accuracy: 0.9612 - val_loss: 0.2693 - val_accuracy: 0.9282\n",
      "Epoch 51/100\n",
      "813/813 [==============================] - 9s 11ms/step - loss: 0.1081 - accuracy: 0.9630 - val_loss: 0.2675 - val_accuracy: 0.9089\n",
      "Epoch 52/100\n",
      "813/813 [==============================] - 9s 11ms/step - loss: 0.1087 - accuracy: 0.9619 - val_loss: 0.2705 - val_accuracy: 0.9228\n",
      "Epoch 53/100\n",
      "813/813 [==============================] - 9s 11ms/step - loss: 0.1070 - accuracy: 0.9628 - val_loss: 0.2713 - val_accuracy: 0.9119\n",
      "Epoch 54/100\n",
      "813/813 [==============================] - 9s 11ms/step - loss: 0.1062 - accuracy: 0.9638 - val_loss: 0.2754 - val_accuracy: 0.9066\n",
      "Epoch 55/100\n",
      "813/813 [==============================] - 9s 11ms/step - loss: 0.1059 - accuracy: 0.9631 - val_loss: 0.2765 - val_accuracy: 0.9143\n",
      "Epoch 56/100\n",
      "813/813 [==============================] - 9s 11ms/step - loss: 0.1054 - accuracy: 0.9633 - val_loss: 0.2800 - val_accuracy: 0.9212\n",
      "Epoch 57/100\n"
     ]
    },
    {
     "name": "stdout",
     "output_type": "stream",
     "text": [
      "813/813 [==============================] - 9s 12ms/step - loss: 0.1050 - accuracy: 0.9636 - val_loss: 0.2808 - val_accuracy: 0.9094\n",
      "Epoch 58/100\n",
      "813/813 [==============================] - 9s 11ms/step - loss: 0.1039 - accuracy: 0.9638 - val_loss: 0.2841 - val_accuracy: 0.9161\n",
      "Epoch 59/100\n",
      "813/813 [==============================] - 8s 9ms/step - loss: 0.1031 - accuracy: 0.9638 - val_loss: 0.2870 - val_accuracy: 0.9147\n",
      "Epoch 60/100\n",
      "813/813 [==============================] - 10s 12ms/step - loss: 0.1020 - accuracy: 0.9648 - val_loss: 0.2907 - val_accuracy: 0.9083\n",
      "Epoch 61/100\n",
      "813/813 [==============================] - 10s 12ms/step - loss: 0.1018 - accuracy: 0.9651 - val_loss: 0.2963 - val_accuracy: 0.9243\n",
      "Epoch 62/100\n",
      "813/813 [==============================] - 9s 11ms/step - loss: 0.1008 - accuracy: 0.9656 - val_loss: 0.2953 - val_accuracy: 0.9094\n",
      "Epoch 63/100\n",
      "813/813 [==============================] - 10s 12ms/step - loss: 0.1007 - accuracy: 0.9645 - val_loss: 0.2989 - val_accuracy: 0.9170\n",
      "Epoch 64/100\n",
      "813/813 [==============================] - 9s 11ms/step - loss: 0.1000 - accuracy: 0.9653 - val_loss: 0.3037 - val_accuracy: 0.9224\n",
      "Epoch 65/100\n",
      "813/813 [==============================] - 8s 10ms/step - loss: 0.0989 - accuracy: 0.9665 - val_loss: 0.3070 - val_accuracy: 0.9215\n",
      "Epoch 66/100\n",
      "813/813 [==============================] - 9s 11ms/step - loss: 0.0986 - accuracy: 0.9659 - val_loss: 0.3062 - val_accuracy: 0.9146\n",
      "Epoch 67/100\n",
      "813/813 [==============================] - 10s 12ms/step - loss: 0.0977 - accuracy: 0.9665 - val_loss: 0.3105 - val_accuracy: 0.9174\n",
      "Epoch 68/100\n",
      "813/813 [==============================] - 10s 12ms/step - loss: 0.0972 - accuracy: 0.9661 - val_loss: 0.3138 - val_accuracy: 0.9179\n",
      "Epoch 69/100\n",
      "813/813 [==============================] - 10s 12ms/step - loss: 0.0965 - accuracy: 0.9668 - val_loss: 0.3148 - val_accuracy: 0.9080\n",
      "Epoch 70/100\n",
      "813/813 [==============================] - 9s 12ms/step - loss: 0.0947 - accuracy: 0.9672 - val_loss: 0.3256 - val_accuracy: 0.9239\n",
      "Epoch 71/100\n",
      "813/813 [==============================] - 10s 12ms/step - loss: 0.0952 - accuracy: 0.9671 - val_loss: 0.3215 - val_accuracy: 0.9140\n",
      "Epoch 72/100\n",
      "813/813 [==============================] - 11s 13ms/step - loss: 0.0950 - accuracy: 0.9678 - val_loss: 0.3269 - val_accuracy: 0.9169\n",
      "Epoch 73/100\n",
      "813/813 [==============================] - 12s 15ms/step - loss: 0.0952 - accuracy: 0.9671 - val_loss: 0.3281 - val_accuracy: 0.9084\n",
      "Epoch 74/100\n",
      "813/813 [==============================] - 12s 15ms/step - loss: 0.0933 - accuracy: 0.9676 - val_loss: 0.3322 - val_accuracy: 0.9056\n",
      "Epoch 75/100\n",
      "813/813 [==============================] - 12s 15ms/step - loss: 0.0934 - accuracy: 0.9672 - val_loss: 0.3475 - val_accuracy: 0.9278\n",
      "Epoch 76/100\n",
      "813/813 [==============================] - 11s 14ms/step - loss: 0.0932 - accuracy: 0.9677 - val_loss: 0.3399 - val_accuracy: 0.9193\n",
      "Epoch 77/100\n",
      "813/813 [==============================] - 10s 12ms/step - loss: 0.0910 - accuracy: 0.9683 - val_loss: 0.3417 - val_accuracy: 0.9184\n",
      "Epoch 78/100\n",
      "813/813 [==============================] - 9s 11ms/step - loss: 0.0915 - accuracy: 0.9691 - val_loss: 0.3448 - val_accuracy: 0.9176\n",
      "Epoch 79/100\n",
      "813/813 [==============================] - 9s 11ms/step - loss: 0.0923 - accuracy: 0.9677 - val_loss: 0.3471 - val_accuracy: 0.9178\n",
      "Epoch 80/100\n",
      "813/813 [==============================] - 9s 11ms/step - loss: 0.0888 - accuracy: 0.9695 - val_loss: 0.3488 - val_accuracy: 0.9121\n",
      "Epoch 81/100\n",
      "813/813 [==============================] - 9s 11ms/step - loss: 0.0893 - accuracy: 0.9687 - val_loss: 0.3522 - val_accuracy: 0.9107\n",
      "Epoch 82/100\n",
      "813/813 [==============================] - 9s 11ms/step - loss: 0.0887 - accuracy: 0.9693 - val_loss: 0.3590 - val_accuracy: 0.9192\n",
      "Epoch 83/100\n",
      "813/813 [==============================] - 9s 11ms/step - loss: 0.0882 - accuracy: 0.9695 - val_loss: 0.3616 - val_accuracy: 0.9162\n",
      "Epoch 84/100\n",
      "813/813 [==============================] - 9s 11ms/step - loss: 0.0881 - accuracy: 0.9697 - val_loss: 0.3707 - val_accuracy: 0.9228\n",
      "Epoch 85/100\n",
      "813/813 [==============================] - 9s 11ms/step - loss: 0.0891 - accuracy: 0.9691 - val_loss: 0.3654 - val_accuracy: 0.9155\n",
      "Epoch 86/100\n",
      "813/813 [==============================] - 9s 10ms/step - loss: 0.0866 - accuracy: 0.9701 - val_loss: 0.3664 - val_accuracy: 0.9071\n",
      "Epoch 87/100\n",
      "813/813 [==============================] - 9s 12ms/step - loss: 0.0868 - accuracy: 0.9701 - val_loss: 0.3710 - val_accuracy: 0.9012\n",
      "Epoch 88/100\n",
      "813/813 [==============================] - 10s 12ms/step - loss: 0.0850 - accuracy: 0.9711 - val_loss: 0.3732 - val_accuracy: 0.9077\n",
      "Epoch 89/100\n",
      "813/813 [==============================] - 9s 12ms/step - loss: 0.0860 - accuracy: 0.9705 - val_loss: 0.3793 - val_accuracy: 0.9139\n",
      "Epoch 90/100\n",
      "813/813 [==============================] - 8s 10ms/step - loss: 0.0853 - accuracy: 0.9702 - val_loss: 0.3874 - val_accuracy: 0.9204\n",
      "Epoch 91/100\n",
      "813/813 [==============================] - 9s 11ms/step - loss: 0.0855 - accuracy: 0.9709 - val_loss: 0.3814 - val_accuracy: 0.9079\n",
      "Epoch 92/100\n",
      "813/813 [==============================] - 10s 12ms/step - loss: 0.0840 - accuracy: 0.9713 - val_loss: 0.3853 - val_accuracy: 0.9049\n",
      "Epoch 93/100\n",
      "813/813 [==============================] - 10s 12ms/step - loss: 0.0831 - accuracy: 0.9716 - val_loss: 0.4019 - val_accuracy: 0.9215\n",
      "Epoch 94/100\n",
      "813/813 [==============================] - 10s 12ms/step - loss: 0.0829 - accuracy: 0.9715 - val_loss: 0.3992 - val_accuracy: 0.8921\n",
      "Epoch 95/100\n",
      "813/813 [==============================] - 10s 13ms/step - loss: 0.0817 - accuracy: 0.9725 - val_loss: 0.4144 - val_accuracy: 0.9252\n",
      "Epoch 96/100\n",
      "813/813 [==============================] - 10s 12ms/step - loss: 0.0816 - accuracy: 0.9722 - val_loss: 0.4093 - val_accuracy: 0.9199\n",
      "Epoch 97/100\n",
      "813/813 [==============================] - 10s 13ms/step - loss: 0.0820 - accuracy: 0.9716 - val_loss: 0.4061 - val_accuracy: 0.9134\n",
      "Epoch 98/100\n",
      "813/813 [==============================] - 10s 12ms/step - loss: 0.0822 - accuracy: 0.9711 - val_loss: 0.4202 - val_accuracy: 0.9229\n",
      "Epoch 99/100\n",
      "813/813 [==============================] - 11s 13ms/step - loss: 0.0806 - accuracy: 0.9726 - val_loss: 0.4106 - val_accuracy: 0.9053\n",
      "Epoch 100/100\n",
      "813/813 [==============================] - 10s 12ms/step - loss: 0.0819 - accuracy: 0.9707 - val_loss: 0.4171 - val_accuracy: 0.9110\n"
     ]
    }
   ],
   "source": [
    "model.compile(optimizer='adam',\n",
    "              loss=tf.keras.losses.BinaryCrossentropy(from_logits=True),\n",
    "              metrics=['accuracy'])\n",
    "\n",
    "history = model.fit(X_train, y_train, epochs=100, validation_data=(X_test, y_test))"
   ]
  },
  {
   "cell_type": "code",
   "execution_count": 379,
   "metadata": {},
   "outputs": [
    {
     "data": {
      "image/png": "[encoded data removed]",
      "text/plain": [
       "<Figure size 864x648 with 1 Axes>"
      ]
     },
     "metadata": {
      "needs_background": "light"
     },
     "output_type": "display_data"
    },
    {
     "data": {
      "image/png": "[encoded data removed]",
      "text/plain": [
       "<Figure size 864x648 with 1 Axes>"
      ]
     },
     "metadata": {
      "needs_background": "light"
     },
     "output_type": "display_data"
    }
   ],
   "source": [
    "history_dict = history.history\n",
    "\n",
    "acc = history_dict['accuracy']\n",
    "val_acc = history_dict['val_accuracy']\n",
    "loss=history_dict['loss']\n",
    "val_loss=history_dict['val_loss']\n",
    "\n",
    "epochs = range(1, len(acc) + 1)\n",
    "\n",
    "plt.figure(figsize=(12,9))\n",
    "plt.plot(epochs, loss, 'bo', label='Training loss')\n",
    "plt.plot(epochs, val_loss, 'b', label='Validation loss')\n",
    "plt.title('Training and validation loss')\n",
    "plt.xlabel('Epochs')\n",
    "plt.ylabel('Loss')\n",
    "plt.legend()\n",
    "plt.show()\n",
    "\n",
    "plt.figure(figsize=(12,9))\n",
    "plt.plot(epochs, acc, 'bo', label='Training acc')\n",
    "plt.plot(epochs, val_acc, 'b', label='Validation acc')\n",
    "plt.title('Training and validation accuracy')\n",
    "plt.xlabel('Epochs')\n",
    "plt.ylabel('Accuracy')\n",
    "plt.legend(loc='lower right')\n",
    "plt.ylim((0.5,1))\n",
    "plt.show()"
   ]
  },
  {
   "cell_type": "code",
   "execution_count": null,
   "metadata": {},
   "outputs": [],
   "source": []
  }
 ],
 "metadata": {
  "kernelspec": {
   "display_name": "deeplearning",
   "language": "python",
   "name": "deeplearning"
  },
  "language_info": {
   "codemirror_mode": {
    "name": "ipython",
    "version": 3
   },
   "file_extension": ".py",
   "mimetype": "text/x-python",
   "name": "python",
   "nbconvert_exporter": "python",
   "pygments_lexer": "ipython3",
   "version": "3.8.5"
  }
 },
 "nbformat": 4,
 "nbformat_minor": 4
}
